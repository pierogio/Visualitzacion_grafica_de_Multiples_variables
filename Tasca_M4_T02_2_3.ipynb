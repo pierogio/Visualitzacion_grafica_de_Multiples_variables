{
 "cells": [
  {
   "cell_type": "markdown",
   "id": "16f177d0",
   "metadata": {},
   "source": [
    "<div class=\"alert alert-block alert-info\">\n",
    "    <b>Librerias</b></div>"
   ]
  },
  {
   "cell_type": "code",
   "execution_count": 29,
   "id": "ce57e2a7",
   "metadata": {},
   "outputs": [],
   "source": [
    "import pandas as pd\n",
    "import numpy as np\n",
    "import matplotlib.pyplot as plt\n",
    "import seaborn as sns\n",
    "import warnings\n",
    "import os\n",
    "import re\n",
    "import plotly.express as px \n",
    "warnings.filterwarnings('ignore')"
   ]
  },
  {
   "cell_type": "markdown",
   "id": "3257d5d9",
   "metadata": {},
   "source": [
    "<div class=\"alert alert-block alert-info\">\n",
    "    <b>Import</b></div>"
   ]
  },
  {
   "cell_type": "code",
   "execution_count": 30,
   "id": "f9b421d2",
   "metadata": {},
   "outputs": [],
   "source": [
    "df_movie = pd.read_csv('C:\\\\Users\\\\ASUSPC\\\\IT_academy\\\\Tasca_M4\\\\PRE-PROCESSING-DATA-main\\\\movies.dat', sep='::', encoding='ISO-8859-1', engine='python', header=None, names=['ID', 'Movie', 'Genre'], index_col=\"ID\" )"
   ]
  },
  {
   "cell_type": "code",
   "execution_count": 31,
   "id": "7515677f",
   "metadata": {},
   "outputs": [],
   "source": [
    "df_movie.to_excel('aver2.xlsx')"
   ]
  },
  {
   "cell_type": "code",
   "execution_count": 32,
   "id": "f38c8eaf",
   "metadata": {},
   "outputs": [
    {
     "name": "stdout",
     "output_type": "stream",
     "text": [
      "C:\\Users\\ASUSPC\\IT_academy\\Tasca_M4\n"
     ]
    }
   ],
   "source": [
    "#Entorno de trabajo\n",
    "print(os.getcwd())"
   ]
  },
  {
   "cell_type": "code",
   "execution_count": 33,
   "id": "8ed14a25",
   "metadata": {},
   "outputs": [
    {
     "data": {
      "text/plain": [
       "['.ipynb_checkpoints',\n",
       " 'aver.xlsx',\n",
       " 'aver2.xlsx',\n",
       " 'Examining-Data-main',\n",
       " 'Porcentaje.png',\n",
       " 'PRE-PROCESSING-DATA-main',\n",
       " 'Rango.png',\n",
       " 'tasca_4_2 antes de entregar.ipynb',\n",
       " 'tasca_4_2_para_mi.ipynb',\n",
       " 'Tasca_M4_T01.ipynb',\n",
       " 'Tasca_M4_T02_1.ipynb',\n",
       " 'Tasca_M4_T02_2_3.ipynb']"
      ]
     },
     "execution_count": 33,
     "metadata": {},
     "output_type": "execute_result"
    }
   ],
   "source": [
    "os.listdir(os.curdir)"
   ]
  },
  {
   "cell_type": "markdown",
   "id": "3af6d164",
   "metadata": {},
   "source": [
    "<div class=\"alert alert-block alert-info\">\n",
    "    <b>Examen datos</b></div>"
   ]
  },
  {
   "cell_type": "code",
   "execution_count": 34,
   "id": "f4e75ca3",
   "metadata": {},
   "outputs": [
    {
     "data": {
      "text/plain": [
       "Index     31064\n",
       "Movie    316510\n",
       "Genre    264807\n",
       "dtype: int64"
      ]
     },
     "execution_count": 34,
     "metadata": {},
     "output_type": "execute_result"
    }
   ],
   "source": [
    "df_movie.memory_usage(deep=True)"
   ]
  },
  {
   "cell_type": "code",
   "execution_count": 35,
   "id": "58627704",
   "metadata": {},
   "outputs": [
    {
     "data": {
      "text/html": [
       "<div>\n",
       "<style scoped>\n",
       "    .dataframe tbody tr th:only-of-type {\n",
       "        vertical-align: middle;\n",
       "    }\n",
       "\n",
       "    .dataframe tbody tr th {\n",
       "        vertical-align: top;\n",
       "    }\n",
       "\n",
       "    .dataframe thead th {\n",
       "        text-align: right;\n",
       "    }\n",
       "</style>\n",
       "<table border=\"1\" class=\"dataframe\">\n",
       "  <thead>\n",
       "    <tr style=\"text-align: right;\">\n",
       "      <th></th>\n",
       "      <th>Movie</th>\n",
       "      <th>Genre</th>\n",
       "    </tr>\n",
       "    <tr>\n",
       "      <th>ID</th>\n",
       "      <th></th>\n",
       "      <th></th>\n",
       "    </tr>\n",
       "  </thead>\n",
       "  <tbody>\n",
       "    <tr>\n",
       "      <th>1</th>\n",
       "      <td>Toy Story (1995)</td>\n",
       "      <td>Animation|Children's|Comedy</td>\n",
       "    </tr>\n",
       "    <tr>\n",
       "      <th>2</th>\n",
       "      <td>Jumanji (1995)</td>\n",
       "      <td>Adventure|Children's|Fantasy</td>\n",
       "    </tr>\n",
       "    <tr>\n",
       "      <th>3</th>\n",
       "      <td>Grumpier Old Men (1995)</td>\n",
       "      <td>Comedy|Romance</td>\n",
       "    </tr>\n",
       "    <tr>\n",
       "      <th>4</th>\n",
       "      <td>Waiting to Exhale (1995)</td>\n",
       "      <td>Comedy|Drama</td>\n",
       "    </tr>\n",
       "    <tr>\n",
       "      <th>5</th>\n",
       "      <td>Father of the Bride Part II (1995)</td>\n",
       "      <td>Comedy</td>\n",
       "    </tr>\n",
       "  </tbody>\n",
       "</table>\n",
       "</div>"
      ],
      "text/plain": [
       "                                 Movie                         Genre\n",
       "ID                                                                  \n",
       "1                     Toy Story (1995)   Animation|Children's|Comedy\n",
       "2                       Jumanji (1995)  Adventure|Children's|Fantasy\n",
       "3              Grumpier Old Men (1995)                Comedy|Romance\n",
       "4             Waiting to Exhale (1995)                  Comedy|Drama\n",
       "5   Father of the Bride Part II (1995)                        Comedy"
      ]
     },
     "execution_count": 35,
     "metadata": {},
     "output_type": "execute_result"
    }
   ],
   "source": [
    "df_movie.head()"
   ]
  },
  {
   "cell_type": "code",
   "execution_count": 36,
   "id": "4baaee40",
   "metadata": {},
   "outputs": [
    {
     "name": "stdout",
     "output_type": "stream",
     "text": [
      "<class 'pandas.core.frame.DataFrame'>\n",
      "Int64Index: 3883 entries, 1 to 3952\n",
      "Data columns (total 2 columns):\n",
      " #   Column  Non-Null Count  Dtype \n",
      "---  ------  --------------  ----- \n",
      " 0   Movie   3883 non-null   object\n",
      " 1   Genre   3883 non-null   object\n",
      "dtypes: object(2)\n",
      "memory usage: 91.0+ KB\n"
     ]
    }
   ],
   "source": [
    "df_movie.info()"
   ]
  },
  {
   "cell_type": "code",
   "execution_count": 37,
   "id": "07289491",
   "metadata": {},
   "outputs": [
    {
     "data": {
      "text/plain": [
       "(3883, 2)"
      ]
     },
     "execution_count": 37,
     "metadata": {},
     "output_type": "execute_result"
    }
   ],
   "source": [
    "df_movie.shape"
   ]
  },
  {
   "cell_type": "code",
   "execution_count": 38,
   "id": "6cb2f000",
   "metadata": {},
   "outputs": [
    {
     "data": {
      "text/plain": [
       "2"
      ]
     },
     "execution_count": 38,
     "metadata": {},
     "output_type": "execute_result"
    }
   ],
   "source": [
    "df_movie.ndim"
   ]
  },
  {
   "cell_type": "code",
   "execution_count": 39,
   "id": "dbddf0f5",
   "metadata": {},
   "outputs": [
    {
     "data": {
      "text/plain": [
       "array([\"Animation|Children's|Comedy\", \"Adventure|Children's|Fantasy\",\n",
       "       'Comedy|Romance', 'Comedy|Drama', 'Comedy',\n",
       "       'Action|Crime|Thriller', \"Adventure|Children's\", 'Action',\n",
       "       'Action|Adventure|Thriller', 'Comedy|Drama|Romance',\n",
       "       'Comedy|Horror', \"Animation|Children's\", 'Drama',\n",
       "       'Action|Adventure|Romance', 'Drama|Thriller', 'Drama|Romance',\n",
       "       'Thriller', 'Action|Comedy|Drama', 'Crime|Drama|Thriller',\n",
       "       'Drama|Sci-Fi', 'Romance', 'Adventure|Sci-Fi', 'Adventure|Romance',\n",
       "       \"Children's|Comedy|Drama\", 'Documentary', 'Drama|War',\n",
       "       'Action|Crime|Drama', 'Action|Adventure', 'Crime|Thriller',\n",
       "       \"Animation|Children's|Musical|Romance\", 'Action|Drama|Thriller',\n",
       "       \"Children's|Comedy\", 'Drama|Mystery', 'Sci-Fi|Thriller',\n",
       "       'Action|Comedy|Crime|Horror|Thriller', 'Drama|Musical',\n",
       "       'Crime|Drama|Romance', 'Adventure|Drama', 'Action|Thriller',\n",
       "       \"Adventure|Children's|Comedy|Musical\", 'Action|Drama|War',\n",
       "       'Action|Adventure|Crime', 'Crime', 'Drama|Mystery|Romance',\n",
       "       'Action|Drama', 'Drama|Romance|War', 'Horror',\n",
       "       'Action|Adventure|Comedy|Crime', 'Comedy|War',\n",
       "       'Action|Adventure|Mystery|Sci-Fi', 'Drama|Thriller|War',\n",
       "       'Action|Romance|Thriller', 'Crime|Film-Noir|Mystery|Thriller',\n",
       "       'Action|Adventure|Drama|Romance', \"Adventure|Children's|Drama\",\n",
       "       'Action|Sci-Fi|Thriller', 'Action|Adventure|Sci-Fi',\n",
       "       \"Action|Children's\", 'Horror|Sci-Fi', 'Action|Crime|Sci-Fi',\n",
       "       'Western', \"Animation|Children's|Comedy|Romance\",\n",
       "       \"Children's|Drama\", 'Crime|Drama',\n",
       "       'Drama|Fantasy|Romance|Thriller', 'Drama|Horror', 'Comedy|Sci-Fi',\n",
       "       'Mystery|Thriller', \"Adventure|Children's|Comedy|Fantasy|Romance\",\n",
       "       'Action|Adventure|Fantasy|Sci-Fi', 'Drama|Romance|War|Western',\n",
       "       'Action|Crime', 'Crime|Drama|Romance|Thriller',\n",
       "       'Action|Adventure|Western', 'Horror|Thriller',\n",
       "       \"Children's|Comedy|Fantasy\", 'Film-Noir|Thriller',\n",
       "       'Action|Comedy|Musical|Sci-Fi', \"Children's\",\n",
       "       'Drama|Mystery|Thriller', 'Comedy|Romance|War', 'Action|Comedy',\n",
       "       \"Adventure|Children's|Romance\", \"Animation|Children's|Musical\",\n",
       "       'Comedy|Crime|Fantasy', 'Action|Comedy|Western', 'Action|Sci-Fi',\n",
       "       'Action|Adventure|Comedy|Romance', 'Comedy|Crime|Drama',\n",
       "       'Comedy|Thriller', 'Horror|Sci-Fi|Thriller',\n",
       "       'Mystery|Romance|Thriller', 'Comedy|Western', 'Drama|Western',\n",
       "       'Action|Adventure|Crime|Thriller', 'Action|Comedy|War',\n",
       "       'Comedy|Mystery', 'Comedy|Mystery|Romance', 'Comedy|Drama|War',\n",
       "       'Action|Drama|Mystery', 'Comedy|Crime|Horror', 'Film-Noir|Sci-Fi',\n",
       "       'Comedy|Romance|Thriller', \"Action|Adventure|Children's|Sci-Fi\",\n",
       "       \"Children's|Comedy|Musical\", 'Action|Adventure|Comedy',\n",
       "       'Action|Crime|Romance',\n",
       "       \"Action|Adventure|Animation|Children's|Fantasy\",\n",
       "       \"Animation|Children's|Comedy|Musical\", 'Adventure|Drama|Western',\n",
       "       'Action|Adventure|Crime|Drama',\n",
       "       'Action|Adventure|Animation|Horror|Sci-Fi', 'Action|Horror|Sci-Fi',\n",
       "       'War', 'Action|Adventure|Mystery', 'Mystery',\n",
       "       'Action|Adventure|Fantasy',\n",
       "       \"Adventure|Animation|Children's|Comedy|Fantasy\", 'Sci-Fi',\n",
       "       'Documentary|Drama', 'Action|Adventure|Comedy|War',\n",
       "       'Crime|Film-Noir|Thriller', 'Animation',\n",
       "       'Action|Adventure|Romance|Thriller', 'Animation|Sci-Fi',\n",
       "       'Animation|Comedy|Thriller', 'Film-Noir', 'Sci-Fi|War',\n",
       "       'Adventure', 'Comedy|Crime', 'Action|Sci-Fi|War',\n",
       "       'Comedy|Fantasy|Romance|Sci-Fi', 'Fantasy',\n",
       "       'Action|Mystery|Thriller', 'Comedy|Musical',\n",
       "       'Action|Adventure|Sci-Fi|Thriller', \"Children's|Drama|Fantasy\",\n",
       "       'Adventure|War', 'Musical|Romance', 'Comedy|Musical|Romance',\n",
       "       'Comedy|Mystery|Romance|Thriller', 'Film-Noir|Mystery', 'Musical',\n",
       "       \"Adventure|Children's|Drama|Musical\",\n",
       "       'Drama|Mystery|Sci-Fi|Thriller', 'Romance|Thriller',\n",
       "       'Film-Noir|Romance|Thriller', 'Crime|Film-Noir|Mystery',\n",
       "       'Adventure|Comedy', 'Action|Adventure|Romance|War', 'Romance|War',\n",
       "       'Action|Drama|Western', \"Children's|Comedy|Western\",\n",
       "       \"Adventure|Children's|Comedy\", \"Children's|Comedy|Mystery\",\n",
       "       \"Adventure|Children's|Fantasy|Sci-Fi\",\n",
       "       \"Adventure|Animation|Children's|Musical\",\n",
       "       \"Adventure|Children's|Musical\", 'Crime|Film-Noir',\n",
       "       \"Adventure|Children's|Comedy|Fantasy\",\n",
       "       \"Children's|Drama|Fantasy|Sci-Fi\", 'Action|Romance',\n",
       "       'Adventure|Western', 'Comedy|Fantasy', 'Animation|Comedy',\n",
       "       'Crime|Drama|Film-Noir', 'Action|Adventure|Drama|Sci-Fi|War',\n",
       "       'Action|Sci-Fi|Thriller|War', 'Action|Western',\n",
       "       \"Action|Animation|Children's|Sci-Fi|Thriller|War\",\n",
       "       'Action|Adventure|Romance|Sci-Fi|War',\n",
       "       'Action|Horror|Sci-Fi|Thriller',\n",
       "       'Action|Adventure|Comedy|Horror|Sci-Fi', 'Action|Comedy|Musical',\n",
       "       'Mystery|Sci-Fi', 'Film-Noir|Mystery|Thriller',\n",
       "       'Adventure|Comedy|Drama', 'Action|Adventure|Comedy|Horror',\n",
       "       'Action|Drama|Mystery|Romance|Thriller', 'Comedy|Mystery|Thriller',\n",
       "       'Adventure|Animation|Sci-Fi|Thriller', 'Action|Drama|Romance',\n",
       "       'Action|Adventure|Drama', 'Comedy|Drama|Musical',\n",
       "       'Documentary|War', 'Drama|Musical|War', 'Action|Horror',\n",
       "       'Horror|Romance', 'Action|Comedy|Sci-Fi|War', 'Crime|Drama|Sci-Fi',\n",
       "       'Action|Romance|War', 'Action|Comedy|Crime|Drama',\n",
       "       'Action|Drama|Thriller|War', \"Action|Adventure|Children's\",\n",
       "       \"Action|Adventure|Children's|Fantasy\",\n",
       "       \"Adventure|Animation|Children's|Comedy|Musical\",\n",
       "       'Crime|Drama|Mystery', 'Action|Adventure|Comedy|Sci-Fi',\n",
       "       \"Children's|Fantasy\", 'Action|Mystery|Sci-Fi|Thriller',\n",
       "       'Action|Mystery|Romance|Thriller', 'Adventure|Thriller',\n",
       "       'Action|Thriller|War', 'Action|Crime|Mystery',\n",
       "       'Horror|Mystery|Thriller', 'Crime|Horror|Mystery|Thriller',\n",
       "       'Comedy|Drama|Thriller', 'Drama|Sci-Fi|Thriller',\n",
       "       'Drama|Romance|Thriller', 'Action|Adventure|Sci-Fi|War',\n",
       "       'Comedy|Crime|Drama|Mystery', 'Comedy|Crime|Mystery|Thriller',\n",
       "       'Film-Noir|Sci-Fi|Thriller', 'Adventure|Sci-Fi|Thriller',\n",
       "       'Crime|Drama|Mystery|Thriller', 'Comedy|Documentary',\n",
       "       'Documentary|Musical', 'Action|Drama|Sci-Fi|Thriller',\n",
       "       \"Adventure|Animation|Children's|Fantasy\",\n",
       "       'Adventure|Comedy|Romance', 'Mystery|Sci-Fi|Thriller',\n",
       "       'Action|Comedy|Crime', \"Animation|Children's|Fantasy|War\",\n",
       "       'Action|Crime|Drama|Thriller', 'Comedy|Sci-Fi|Western',\n",
       "       \"Children's|Fantasy|Musical\", 'Fantasy|Sci-Fi',\n",
       "       \"Children's|Comedy|Sci-Fi\", \"Action|Adventure|Children's|Comedy\",\n",
       "       \"Adventure|Children's|Drama|Romance\",\n",
       "       \"Adventure|Children's|Sci-Fi\",\n",
       "       \"Adventure|Children's|Comedy|Fantasy|Sci-Fi\",\n",
       "       \"Animation|Children's|Comedy|Musical|Romance\",\n",
       "       \"Children's|Musical\", 'Drama|Fantasy',\n",
       "       \"Animation|Children's|Fantasy|Musical\", 'Adventure|Comedy|Musical',\n",
       "       \"Children's|Sci-Fi\", \"Children's|Horror\", 'Comedy|Fantasy|Romance',\n",
       "       'Comedy|Crime|Thriller', \"Adventure|Animation|Children's|Sci-Fi\",\n",
       "       'Action|Crime|Mystery|Thriller', 'Adventure|Musical',\n",
       "       \"Animation|Children's|Drama|Fantasy\", \"Children's|Fantasy|Sci-Fi\",\n",
       "       'Adventure|Fantasy|Romance', 'Crime|Horror',\n",
       "       'Action|Adventure|Horror', 'Adventure|Fantasy|Sci-Fi',\n",
       "       'Drama|Film-Noir|Thriller', 'Action|Comedy|Fantasy',\n",
       "       'Sci-Fi|Thriller|War', 'Action|Adventure|Sci-Fi|Thriller|War',\n",
       "       'Action|Adventure|Drama|Thriller', 'Crime|Horror|Thriller',\n",
       "       'Animation|Musical', 'Action|War',\n",
       "       'Action|Comedy|Romance|Thriller', 'Comedy|Horror|Thriller',\n",
       "       'Drama|Horror|Thriller', 'Action|Sci-Fi|Thriller|Western',\n",
       "       'Drama|Romance|Sci-Fi', 'Action|Adventure|Horror|Thriller',\n",
       "       'Comedy|Film-Noir|Thriller', 'Comedy|Horror|Musical|Sci-Fi',\n",
       "       'Comedy|Romance|Sci-Fi', 'Action|Comedy|Sci-Fi|Thriller',\n",
       "       'Action|Sci-Fi|Western', 'Comedy|Horror|Musical', 'Crime|Mystery',\n",
       "       'Animation|Mystery', 'Action|Horror|Thriller',\n",
       "       'Action|Drama|Fantasy|Romance', 'Horror|Mystery',\n",
       "       \"Adventure|Animation|Children's\", 'Musical|Romance|War',\n",
       "       'Adventure|Drama|Romance', 'Adventure|Animation|Film-Noir',\n",
       "       'Action|Adventure|Animation', 'Comedy|Drama|Western',\n",
       "       'Adventure|Comedy|Sci-Fi', 'Drama|Romance|Western',\n",
       "       'Comedy|Drama|Sci-Fi', 'Action|Drama|Romance|Thriller',\n",
       "       'Adventure|Romance|Sci-Fi', 'Film-Noir|Horror',\n",
       "       'Crime|Drama|Film-Noir|Thriller', 'Action|Adventure|War',\n",
       "       'Romance|Western', \"Action|Children's|Fantasy\",\n",
       "       'Adventure|Drama|Thriller', 'Adventure|Fantasy', 'Musical|War',\n",
       "       'Adventure|Musical|Romance', 'Action|Romance|Sci-Fi',\n",
       "       'Drama|Film-Noir', 'Comedy|Horror|Sci-Fi',\n",
       "       'Adventure|Drama|Romance|Sci-Fi', 'Adventure|Animation|Sci-Fi',\n",
       "       'Adventure|Crime|Sci-Fi|Thriller'], dtype=object)"
      ]
     },
     "execution_count": 39,
     "metadata": {},
     "output_type": "execute_result"
    }
   ],
   "source": [
    "df_movie.Genre.unique()"
   ]
  },
  {
   "cell_type": "code",
   "execution_count": 40,
   "id": "0df217fd",
   "metadata": {},
   "outputs": [
    {
     "data": {
      "text/plain": [
       "array(['Toy Story (1995)', 'Jumanji (1995)', 'Grumpier Old Men (1995)',\n",
       "       ..., 'Tigerland (2000)', 'Two Family House (2000)',\n",
       "       'Contender, The (2000)'], dtype=object)"
      ]
     },
     "execution_count": 40,
     "metadata": {},
     "output_type": "execute_result"
    }
   ],
   "source": [
    "df_movie.Movie.unique()"
   ]
  },
  {
   "cell_type": "code",
   "execution_count": 41,
   "id": "3a00b5ae",
   "metadata": {},
   "outputs": [
    {
     "data": {
      "text/plain": [
       "Movie    3883\n",
       "Genre    3883\n",
       "dtype: int64"
      ]
     },
     "execution_count": 41,
     "metadata": {},
     "output_type": "execute_result"
    }
   ],
   "source": [
    "df_movie.notnull().sum()"
   ]
  },
  {
   "cell_type": "markdown",
   "id": "b78fcc03",
   "metadata": {},
   "source": [
    "<div class=\"alert alert-block alert-warning\">\n",
    "Como no parece que hayan valores nulos, se puede proceder a manipular el dataframe</div>"
   ]
  },
  {
   "cell_type": "code",
   "execution_count": 42,
   "id": "c998d564",
   "metadata": {},
   "outputs": [],
   "source": [
    "#Creación de una nueva columna \"Year\" asignando int como datatype.\n",
    "df_movie['Year'] = df_movie['Movie'].str.extract(r'\\((\\d{4})\\)').astype(int)"
   ]
  },
  {
   "cell_type": "code",
   "execution_count": 43,
   "id": "32aa3072",
   "metadata": {},
   "outputs": [],
   "source": [
    "#Manipulación de la columna \"Movie\" para eliminar las fechas ya que hemos creado una columna con las mismas.\n",
    "df_movie['Movie']=df_movie['Movie'].str.replace(r'\\s*\\(\\d{4}\\)','',regex=True)"
   ]
  },
  {
   "cell_type": "code",
   "execution_count": 44,
   "id": "9f699636",
   "metadata": {},
   "outputs": [],
   "source": [
    "#Manipulación de la columna \"Genre\" dejando el primer genero que aparece en cada row.\n",
    "df_movie['Genre']=df_movie['Genre'].str.replace(r'\\s*\\|.*','', regex=True)"
   ]
  },
  {
   "cell_type": "code",
   "execution_count": 45,
   "id": "2903ad0e",
   "metadata": {},
   "outputs": [
    {
     "data": {
      "text/html": [
       "<div>\n",
       "<style scoped>\n",
       "    .dataframe tbody tr th:only-of-type {\n",
       "        vertical-align: middle;\n",
       "    }\n",
       "\n",
       "    .dataframe tbody tr th {\n",
       "        vertical-align: top;\n",
       "    }\n",
       "\n",
       "    .dataframe thead th {\n",
       "        text-align: right;\n",
       "    }\n",
       "</style>\n",
       "<table border=\"1\" class=\"dataframe\">\n",
       "  <thead>\n",
       "    <tr style=\"text-align: right;\">\n",
       "      <th></th>\n",
       "      <th>Movie</th>\n",
       "      <th>Genre</th>\n",
       "      <th>Year</th>\n",
       "    </tr>\n",
       "    <tr>\n",
       "      <th>ID</th>\n",
       "      <th></th>\n",
       "      <th></th>\n",
       "      <th></th>\n",
       "    </tr>\n",
       "  </thead>\n",
       "  <tbody>\n",
       "    <tr>\n",
       "      <th>1</th>\n",
       "      <td>Toy Story</td>\n",
       "      <td>Animation</td>\n",
       "      <td>1995</td>\n",
       "    </tr>\n",
       "    <tr>\n",
       "      <th>2</th>\n",
       "      <td>Jumanji</td>\n",
       "      <td>Adventure</td>\n",
       "      <td>1995</td>\n",
       "    </tr>\n",
       "    <tr>\n",
       "      <th>3</th>\n",
       "      <td>Grumpier Old Men</td>\n",
       "      <td>Comedy</td>\n",
       "      <td>1995</td>\n",
       "    </tr>\n",
       "    <tr>\n",
       "      <th>4</th>\n",
       "      <td>Waiting to Exhale</td>\n",
       "      <td>Comedy</td>\n",
       "      <td>1995</td>\n",
       "    </tr>\n",
       "    <tr>\n",
       "      <th>5</th>\n",
       "      <td>Father of the Bride Part II</td>\n",
       "      <td>Comedy</td>\n",
       "      <td>1995</td>\n",
       "    </tr>\n",
       "  </tbody>\n",
       "</table>\n",
       "</div>"
      ],
      "text/plain": [
       "                          Movie      Genre  Year\n",
       "ID                                              \n",
       "1                     Toy Story  Animation  1995\n",
       "2                       Jumanji  Adventure  1995\n",
       "3              Grumpier Old Men     Comedy  1995\n",
       "4             Waiting to Exhale     Comedy  1995\n",
       "5   Father of the Bride Part II     Comedy  1995"
      ]
     },
     "execution_count": 45,
     "metadata": {},
     "output_type": "execute_result"
    }
   ],
   "source": [
    "#Comprobación del resultado\n",
    "df_movie.head()"
   ]
  },
  {
   "cell_type": "code",
   "execution_count": 46,
   "id": "43c04b44",
   "metadata": {},
   "outputs": [
    {
     "data": {
      "text/plain": [
       "Movie    object\n",
       "Genre    object\n",
       "Year      int32\n",
       "dtype: object"
      ]
     },
     "execution_count": 46,
     "metadata": {},
     "output_type": "execute_result"
    }
   ],
   "source": [
    "df_movie.dtypes"
   ]
  },
  {
   "cell_type": "code",
   "execution_count": 47,
   "id": "ca1f0ce6",
   "metadata": {},
   "outputs": [
    {
     "data": {
      "text/plain": [
       "Movie    0\n",
       "Genre    0\n",
       "Year     0\n",
       "dtype: int64"
      ]
     },
     "execution_count": 47,
     "metadata": {},
     "output_type": "execute_result"
    }
   ],
   "source": [
    "df_movie.isnull().sum()"
   ]
  },
  {
   "cell_type": "code",
   "execution_count": 48,
   "id": "fbd1b88c",
   "metadata": {},
   "outputs": [
    {
     "data": {
      "text/plain": [
       "array(['Animation', 'Adventure', 'Comedy', 'Action', 'Drama', 'Thriller',\n",
       "       'Crime', 'Romance', \"Children's\", 'Documentary', 'Sci-Fi',\n",
       "       'Horror', 'Western', 'Mystery', 'Film-Noir', 'War', 'Fantasy',\n",
       "       'Musical'], dtype=object)"
      ]
     },
     "execution_count": 48,
     "metadata": {},
     "output_type": "execute_result"
    }
   ],
   "source": [
    "df_movie.Genre.unique()"
   ]
  },
  {
   "cell_type": "code",
   "execution_count": 49,
   "id": "a81cd584",
   "metadata": {},
   "outputs": [
    {
     "data": {
      "text/plain": [
       "Drama          1176\n",
       "Comedy         1024\n",
       "Action          503\n",
       "Horror          262\n",
       "Adventure       155\n",
       "Crime           131\n",
       "Documentary     123\n",
       "Thriller        101\n",
       "Animation        90\n",
       "Children's       89\n",
       "Romance          50\n",
       "Sci-Fi           46\n",
       "Mystery          36\n",
       "Western          33\n",
       "Film-Noir        25\n",
       "Musical          25\n",
       "War              12\n",
       "Fantasy           2\n",
       "Name: Genre, dtype: int64"
      ]
     },
     "execution_count": 49,
     "metadata": {},
     "output_type": "execute_result"
    }
   ],
   "source": [
    "df_movie['Genre'].value_counts()"
   ]
  },
  {
   "cell_type": "markdown",
   "id": "659c4f44",
   "metadata": {},
   "source": [
    "<div class=\"alert alert-block alert-info\">\n",
    "    <b>Visualización grafica</b></div>"
   ]
  },
  {
   "cell_type": "code",
   "execution_count": 50,
   "id": "164bb17d",
   "metadata": {},
   "outputs": [
    {
     "data": {
      "image/png": "[encoded data removed]",
      "text/plain": [
       "<Figure size 1000x800 with 1 Axes>"
      ]
     },
     "metadata": {},
     "output_type": "display_data"
    }
   ],
   "source": [
    "#Visualizamos la cantidad de peliculas por cada genero.\n",
    "df_movie['Genre'].value_counts().sort_values(ascending=True).plot.barh(alpha=0.5, width = 0.9, figsize=(10,8))\n",
    "plt.title(\"Cantidad de peliculas por genero\")\n",
    "plt.xlabel(\"Cantidad\")\n",
    "plt.xticks(rotation=45)\n",
    "plt.ylabel(\"Genero\")\n",
    "plt.show()\n",
    "plt.show()"
   ]
  },
  {
   "cell_type": "markdown",
   "id": "f66b5094",
   "metadata": {},
   "source": [
    "_Al parecer el genero \"drama\" es el que mas demanda tiene._"
   ]
  },
  {
   "cell_type": "code",
   "execution_count": 51,
   "id": "68de4f51",
   "metadata": {},
   "outputs": [
    {
     "data": {
      "image/png": "[encoded data removed]",
      "text/plain": [
       "<Figure size 1000x600 with 1 Axes>"
      ]
     },
     "metadata": {},
     "output_type": "display_data"
    }
   ],
   "source": [
    "#Visualización general de la evolución en la produccion de peliculas.\n",
    "sns.set(rc={\"figure.figsize\":(10, 6)})\n",
    "sns.set_style(rc = {'axes.facecolor': 'white'})\n",
    "\n",
    "plot=sns.histplot(df_movie['Year'], alpha=0.5)\n",
    "plt.title(\"Evolución\")\n",
    "plt.xlabel(\"Year\")\n",
    "plt.xticks(rotation=45)\n",
    "plt.ylabel(\"Cantidad\")\n",
    "plt.show()"
   ]
  },
  {
   "cell_type": "markdown",
   "id": "67bab909",
   "metadata": {},
   "source": [
    "_A pesar del crecimiento, parece que la evolución no haya sido siempre constante y que la misma haya alcanzado su umbral en la decada entre los 90 y el 2000._"
   ]
  },
  {
   "cell_type": "code",
   "execution_count": 52,
   "id": "0483be54",
   "metadata": {},
   "outputs": [
    {
     "name": "stdout",
     "output_type": "stream",
     "text": [
      "Dash is running on http://127.0.0.1:8050/\n",
      "\n"
     ]
    },
    {
     "data": {
      "text/html": [
       "\n",
       "        <iframe\n",
       "            width=\"100%\"\n",
       "            height=\"650\"\n",
       "            src=\"http://127.0.0.1:8050/\"\n",
       "            frameborder=\"0\"\n",
       "            allowfullscreen\n",
       "            \n",
       "        ></iframe>\n",
       "        "
      ],
      "text/plain": [
       "<IPython.lib.display.IFrame at 0x1b779f3c790>"
      ]
     },
     "metadata": {},
     "output_type": "display_data"
    }
   ],
   "source": [
    "from dash import Dash, dcc, html, Input, Output\n",
    "from jupyter_dash import JupyterDash\n",
    "\n",
    "grouped_data = df_movie.groupby(['Year', 'Genre']).size().reset_index(name='count')\n",
    "\n",
    "app = JupyterDash(__name__)\n",
    "\n",
    "app.layout = html.Div([\n",
    "    html.H4('Evolución de producción de peliculas por genero'),\n",
    "    dcc.Graph(id=\"graph\"),\n",
    "    dcc.Checklist(\n",
    "        id=\"checklist\",\n",
    "        options=['Animation', 'Adventure', 'Comedy', 'Action', 'Drama', 'Thriller',\n",
    "       'Crime', 'Romance', \"Children's\", 'Documentary', 'Sci-Fi',\n",
    "       'Horror', 'Western', 'Mystery', 'Film-Noir', 'War', 'Fantasy',\n",
    "       'Musical'],\n",
    "        value=[\"Comedy\", \"Drama\"],\n",
    "        inline=True\n",
    "    ),\n",
    "])\n",
    "\n",
    "\n",
    "@app.callback(\n",
    "    Output(\"graph\", \"figure\"), \n",
    "    Input(\"checklist\", \"value\"))\n",
    "def update_line_chart(Genre):\n",
    "    mask = grouped_data.Genre.isin(Genre)\n",
    "    fig = px.line(grouped_data[mask], \n",
    "        x=\"Year\", y=\"count\", color='Genre')\n",
    "    return fig\n",
    "\n",
    "\n",
    "app.run_server(mode='inline', dev_tools_ui=True, #debug=True,\n",
    "              dev_tools_hot_reload =True, threaded=True)"
   ]
  },
  {
   "cell_type": "markdown",
   "id": "bcf080a4",
   "metadata": {},
   "source": [
    "_En el grafico interactivo se pueden apreciar los mismos datos mas al detalle pudiendo evidenciar como ha evoluciónado cada genero a lo largo del tiempo._ "
   ]
  },
  {
   "cell_type": "markdown",
   "id": "49cb687a",
   "metadata": {},
   "source": [
    "<div class=\"alert alert-block alert-warning\">\n",
    "Podemos examinar las tres ultimas decadas para tener una idea aun mas detallada sobre la evolucion de los datos</div>"
   ]
  },
  {
   "cell_type": "code",
   "execution_count": 53,
   "id": "8fdad2fe",
   "metadata": {},
   "outputs": [],
   "source": [
    "df = df_movie.groupby(['Year', 'Genre']).size().reset_index(name='count').query('Year>1980')"
   ]
  },
  {
   "cell_type": "code",
   "execution_count": 54,
   "id": "a02bbb9e",
   "metadata": {},
   "outputs": [
    {
     "data": {
      "application/vnd.plotly.v1+json": {
       "config": {
        "plotlyServerURL": "https://plot.ly"
       },
       "data": [
        {
         "alignmentgroup": "True",
         "hovertemplate": "Genre=%{x}<br>Year=1981<br>count=%{y}<extra></extra>",
         "ids": [
          "Action"
         ],
         "legendgroup": "Action",
         "marker": {
          "color": "#636efa",
          "pattern": {
           "shape": ""
          }
         },
         "name": "Action",
         "offsetgroup": "Action",
         "orientation": "v",
         "showlegend": true,
         "textposition": "auto",
         "type": "bar",
         "x": [
          "Action"
         ],
         "xaxis": "x",
         "y": [
          12
         ],
         "yaxis": "y"
        },
        {
         "alignmentgroup": "True",
         "hovertemplate": "Genre=%{x}<br>Year=1981<br>count=%{y}<extra></extra>",
         "ids": [
          "Adventure"
         ],
         "legendgroup": "Adventure",
         "marker": {
          "color": "#EF553B",
          "pattern": {
           "shape": ""
          }
         },
         "name": "Adventure",
         "offsetgroup": "Adventure",
         "orientation": "v",
         "showlegend": true,
         "textposition": "auto",
         "type": "bar",
         "x": [
          "Adventure"
         ],
         "xaxis": "x",
         "y": [
          2
         ],
         "yaxis": "y"
        },
        {
         "alignmentgroup": "True",
         "hovertemplate": "Genre=%{x}<br>Year=1981<br>count=%{y}<extra></extra>",
         "ids": [
          "Animation"
         ],
         "legendgroup": "Animation",
         "marker": {
          "color": "#00cc96",
          "pattern": {
           "shape": ""
          }
         },
         "name": "Animation",
         "offsetgroup": "Animation",
         "orientation": "v",
         "showlegend": true,
         "textposition": "auto",
         "type": "bar",
         "x": [
          "Animation"
         ],
         "xaxis": "x",
         "y": [
          2
         ],
         "yaxis": "y"
        },
        {
         "alignmentgroup": "True",
         "hovertemplate": "Genre=%{x}<br>Year=1981<br>count=%{y}<extra></extra>",
         "ids": [
          "Children's"
         ],
         "legendgroup": "Children's",
         "marker": {
          "color": "#ab63fa",
          "pattern": {
           "shape": ""
          }
         },
         "name": "Children's",
         "offsetgroup": "Children's",
         "orientation": "v",
         "showlegend": true,
         "textposition": "auto",
         "type": "bar",
         "x": [
          "Children's"
         ],
         "xaxis": "x",
         "y": [
          1
         ],
         "yaxis": "y"
        },
        {
         "alignmentgroup": "True",
         "hovertemplate": "Genre=%{x}<br>Year=1981<br>count=%{y}<extra></extra>",
         "ids": [
          "Comedy"
         ],
         "legendgroup": "Comedy",
         "marker": {
          "color": "#FFA15A",
          "pattern": {
           "shape": ""
          }
         },
         "name": "Comedy",
         "offsetgroup": "Comedy",
         "orientation": "v",
         "showlegend": true,
         "textposition": "auto",
         "type": "bar",
         "x": [
          "Comedy"
         ],
         "xaxis": "x",
         "y": [
          7
         ],
         "yaxis": "y"
        },
        {
         "alignmentgroup": "True",
         "hovertemplate": "Genre=%{x}<br>Year=1981<br>count=%{y}<extra></extra>",
         "ids": [
          "Crime"
         ],
         "legendgroup": "Crime",
         "marker": {
          "color": "#19d3f3",
          "pattern": {
           "shape": ""
          }
         },
         "name": "Crime",
         "offsetgroup": "Crime",
         "orientation": "v",
         "showlegend": true,
         "textposition": "auto",
         "type": "bar",
         "x": [
          "Crime"
         ],
         "xaxis": "x",
         "y": [
          3
         ],
         "yaxis": "y"
        },
        {
         "alignmentgroup": "True",
         "hovertemplate": "Genre=%{x}<br>Year=1981<br>count=%{y}<extra></extra>",
         "ids": [
          "Documentary"
         ],
         "legendgroup": "Documentary",
         "marker": {
          "color": "#FF6692",
          "pattern": {
           "shape": ""
          }
         },
         "name": "Documentary",
         "offsetgroup": "Documentary",
         "orientation": "v",
         "showlegend": true,
         "textposition": "auto",
         "type": "bar",
         "x": [
          "Documentary"
         ],
         "xaxis": "x",
         "y": [
          1
         ],
         "yaxis": "y"
        },
        {
         "alignmentgroup": "True",
         "hovertemplate": "Genre=%{x}<br>Year=1981<br>count=%{y}<extra></extra>",
         "ids": [
          "Drama"
         ],
         "legendgroup": "Drama",
         "marker": {
          "color": "#B6E880",
          "pattern": {
           "shape": ""
          }
         },
         "name": "Drama",
         "offsetgroup": "Drama",
         "orientation": "v",
         "showlegend": true,
         "textposition": "auto",
         "type": "bar",
         "x": [
          "Drama"
         ],
         "xaxis": "x",
         "y": [
          9
         ],
         "yaxis": "y"
        },
        {
         "alignmentgroup": "True",
         "hovertemplate": "Genre=%{x}<br>Year=1981<br>count=%{y}<extra></extra>",
         "ids": [
          "Horror"
         ],
         "legendgroup": "Horror",
         "marker": {
          "color": "#FF97FF",
          "pattern": {
           "shape": ""
          }
         },
         "name": "Horror",
         "offsetgroup": "Horror",
         "orientation": "v",
         "showlegend": true,
         "textposition": "auto",
         "type": "bar",
         "x": [
          "Horror"
         ],
         "xaxis": "x",
         "y": [
          6
         ],
         "yaxis": "y"
        }
       ],
       "frames": [
        {
         "data": [
          {
           "alignmentgroup": "True",
           "hovertemplate": "Genre=%{x}<br>Year=1981<br>count=%{y}<extra></extra>",
           "ids": [
            "Action"
           ],
           "legendgroup": "Action",
           "marker": {
            "color": "#636efa",
            "pattern": {
             "shape": ""
            }
           },
           "name": "Action",
           "offsetgroup": "Action",
           "orientation": "v",
           "showlegend": true,
           "textposition": "auto",
           "type": "bar",
           "x": [
            "Action"
           ],
           "xaxis": "x",
           "y": [
            12
           ],
           "yaxis": "y"
          },
          {
           "alignmentgroup": "True",
           "hovertemplate": "Genre=%{x}<br>Year=1981<br>count=%{y}<extra></extra>",
           "ids": [
            "Adventure"
           ],
           "legendgroup": "Adventure",
           "marker": {
            "color": "#EF553B",
            "pattern": {
             "shape": ""
            }
           },
           "name": "Adventure",
           "offsetgroup": "Adventure",
           "orientation": "v",
           "showlegend": true,
           "textposition": "auto",
           "type": "bar",
           "x": [
            "Adventure"
           ],
           "xaxis": "x",
           "y": [
            2
           ],
           "yaxis": "y"
          },
          {
           "alignmentgroup": "True",
           "hovertemplate": "Genre=%{x}<br>Year=1981<br>count=%{y}<extra></extra>",
           "ids": [
            "Animation"
           ],
           "legendgroup": "Animation",
           "marker": {
            "color": "#00cc96",
            "pattern": {
             "shape": ""
            }
           },
           "name": "Animation",
           "offsetgroup": "Animation",
           "orientation": "v",
           "showlegend": true,
           "textposition": "auto",
           "type": "bar",
           "x": [
            "Animation"
           ],
           "xaxis": "x",
           "y": [
            2
           ],
           "yaxis": "y"
          },
          {
           "alignmentgroup": "True",
           "hovertemplate": "Genre=%{x}<br>Year=1981<br>count=%{y}<extra></extra>",
           "ids": [
            "Children's"
           ],
           "legendgroup": "Children's",
           "marker": {
            "color": "#ab63fa",
            "pattern": {
             "shape": ""
            }
           },
           "name": "Children's",
           "offsetgroup": "Children's",
           "orientation": "v",
           "showlegend": true,
           "textposition": "auto",
           "type": "bar",
           "x": [
            "Children's"
           ],
           "xaxis": "x",
           "y": [
            1
           ],
           "yaxis": "y"
          },
          {
           "alignmentgroup": "True",
           "hovertemplate": "Genre=%{x}<br>Year=1981<br>count=%{y}<extra></extra>",
           "ids": [
            "Comedy"
           ],
           "legendgroup": "Comedy",
           "marker": {
            "color": "#FFA15A",
            "pattern": {
             "shape": ""
            }
           },
           "name": "Comedy",
           "offsetgroup": "Comedy",
           "orientation": "v",
           "showlegend": true,
           "textposition": "auto",
           "type": "bar",
           "x": [
            "Comedy"
           ],
           "xaxis": "x",
           "y": [
            7
           ],
           "yaxis": "y"
          },
          {
           "alignmentgroup": "True",
           "hovertemplate": "Genre=%{x}<br>Year=1981<br>count=%{y}<extra></extra>",
           "ids": [
            "Crime"
           ],
           "legendgroup": "Crime",
           "marker": {
            "color": "#19d3f3",
            "pattern": {
             "shape": ""
            }
           },
           "name": "Crime",
           "offsetgroup": "Crime",
           "orientation": "v",
           "showlegend": true,
           "textposition": "auto",
           "type": "bar",
           "x": [
            "Crime"
           ],
           "xaxis": "x",
           "y": [
            3
           ],
           "yaxis": "y"
          },
          {
           "alignmentgroup": "True",
           "hovertemplate": "Genre=%{x}<br>Year=1981<br>count=%{y}<extra></extra>",
           "ids": [
            "Documentary"
           ],
           "legendgroup": "Documentary",
           "marker": {
            "color": "#FF6692",
            "pattern": {
             "shape": ""
            }
           },
           "name": "Documentary",
           "offsetgroup": "Documentary",
           "orientation": "v",
           "showlegend": true,
           "textposition": "auto",
           "type": "bar",
           "x": [
            "Documentary"
           ],
           "xaxis": "x",
           "y": [
            1
           ],
           "yaxis": "y"
          },
          {
           "alignmentgroup": "True",
           "hovertemplate": "Genre=%{x}<br>Year=1981<br>count=%{y}<extra></extra>",
           "ids": [
            "Drama"
           ],
           "legendgroup": "Drama",
           "marker": {
            "color": "#B6E880",
            "pattern": {
             "shape": ""
            }
           },
           "name": "Drama",
           "offsetgroup": "Drama",
           "orientation": "v",
           "showlegend": true,
           "textposition": "auto",
           "type": "bar",
           "x": [
            "Drama"
           ],
           "xaxis": "x",
           "y": [
            9
           ],
           "yaxis": "y"
          },
          {
           "alignmentgroup": "True",
           "hovertemplate": "Genre=%{x}<br>Year=1981<br>count=%{y}<extra></extra>",
           "ids": [
            "Horror"
           ],
           "legendgroup": "Horror",
           "marker": {
            "color": "#FF97FF",
            "pattern": {
             "shape": ""
            }
           },
           "name": "Horror",
           "offsetgroup": "Horror",
           "orientation": "v",
           "showlegend": true,
           "textposition": "auto",
           "type": "bar",
           "x": [
            "Horror"
           ],
           "xaxis": "x",
           "y": [
            6
           ],
           "yaxis": "y"
          }
         ],
         "name": "1981"
        },
        {
         "data": [
          {
           "alignmentgroup": "True",
           "hovertemplate": "Genre=%{x}<br>Year=1982<br>count=%{y}<extra></extra>",
           "ids": [
            "Action"
           ],
           "legendgroup": "Action",
           "marker": {
            "color": "#636efa",
            "pattern": {
             "shape": ""
            }
           },
           "name": "Action",
           "offsetgroup": "Action",
           "orientation": "v",
           "showlegend": true,
           "textposition": "auto",
           "type": "bar",
           "x": [
            "Action"
           ],
           "xaxis": "x",
           "y": [
            7
           ],
           "yaxis": "y"
          },
          {
           "alignmentgroup": "True",
           "hovertemplate": "Genre=%{x}<br>Year=1982<br>count=%{y}<extra></extra>",
           "ids": [
            "Adventure"
           ],
           "legendgroup": "Adventure",
           "marker": {
            "color": "#EF553B",
            "pattern": {
             "shape": ""
            }
           },
           "name": "Adventure",
           "offsetgroup": "Adventure",
           "orientation": "v",
           "showlegend": true,
           "textposition": "auto",
           "type": "bar",
           "x": [
            "Adventure"
           ],
           "xaxis": "x",
           "y": [
            1
           ],
           "yaxis": "y"
          },
          {
           "alignmentgroup": "True",
           "hovertemplate": "Genre=%{x}<br>Year=1982<br>count=%{y}<extra></extra>",
           "ids": [
            "Animation"
           ],
           "legendgroup": "Animation",
           "marker": {
            "color": "#00cc96",
            "pattern": {
             "shape": ""
            }
           },
           "name": "Animation",
           "offsetgroup": "Animation",
           "orientation": "v",
           "showlegend": true,
           "textposition": "auto",
           "type": "bar",
           "x": [
            "Animation"
           ],
           "xaxis": "x",
           "y": [
            2
           ],
           "yaxis": "y"
          },
          {
           "alignmentgroup": "True",
           "hovertemplate": "Genre=%{x}<br>Year=1982<br>count=%{y}<extra></extra>",
           "ids": [
            "Children's"
           ],
           "legendgroup": "Children's",
           "marker": {
            "color": "#ab63fa",
            "pattern": {
             "shape": ""
            }
           },
           "name": "Children's",
           "offsetgroup": "Children's",
           "orientation": "v",
           "showlegend": true,
           "textposition": "auto",
           "type": "bar",
           "x": [
            "Children's"
           ],
           "xaxis": "x",
           "y": [
            2
           ],
           "yaxis": "y"
          },
          {
           "alignmentgroup": "True",
           "hovertemplate": "Genre=%{x}<br>Year=1982<br>count=%{y}<extra></extra>",
           "ids": [
            "Comedy"
           ],
           "legendgroup": "Comedy",
           "marker": {
            "color": "#FFA15A",
            "pattern": {
             "shape": ""
            }
           },
           "name": "Comedy",
           "offsetgroup": "Comedy",
           "orientation": "v",
           "showlegend": true,
           "textposition": "auto",
           "type": "bar",
           "x": [
            "Comedy"
           ],
           "xaxis": "x",
           "y": [
            12
           ],
           "yaxis": "y"
          },
          {
           "alignmentgroup": "True",
           "hovertemplate": "Genre=%{x}<br>Year=1982<br>count=%{y}<extra></extra>",
           "ids": [
            "Drama"
           ],
           "legendgroup": "Drama",
           "marker": {
            "color": "#B6E880",
            "pattern": {
             "shape": ""
            }
           },
           "name": "Drama",
           "offsetgroup": "Drama",
           "orientation": "v",
           "showlegend": true,
           "textposition": "auto",
           "type": "bar",
           "x": [
            "Drama"
           ],
           "xaxis": "x",
           "y": [
            16
           ],
           "yaxis": "y"
          },
          {
           "alignmentgroup": "True",
           "hovertemplate": "Genre=%{x}<br>Year=1982<br>count=%{y}<extra></extra>",
           "ids": [
            "Horror"
           ],
           "legendgroup": "Horror",
           "marker": {
            "color": "#FF97FF",
            "pattern": {
             "shape": ""
            }
           },
           "name": "Horror",
           "offsetgroup": "Horror",
           "orientation": "v",
           "showlegend": true,
           "textposition": "auto",
           "type": "bar",
           "x": [
            "Horror"
           ],
           "xaxis": "x",
           "y": [
            9
           ],
           "yaxis": "y"
          },
          {
           "alignmentgroup": "True",
           "hovertemplate": "Genre=%{x}<br>Year=1982<br>count=%{y}<extra></extra>",
           "ids": [
            "Film-Noir"
           ],
           "legendgroup": "Film-Noir",
           "marker": {
            "color": "#FECB52",
            "pattern": {
             "shape": ""
            }
           },
           "name": "Film-Noir",
           "offsetgroup": "Film-Noir",
           "orientation": "v",
           "showlegend": true,
           "textposition": "auto",
           "type": "bar",
           "x": [
            "Film-Noir"
           ],
           "xaxis": "x",
           "y": [
            1
           ],
           "yaxis": "y"
          }
         ],
         "name": "1982"
        },
        {
         "data": [
          {
           "alignmentgroup": "True",
           "hovertemplate": "Genre=%{x}<br>Year=1983<br>count=%{y}<extra></extra>",
           "ids": [
            "Action"
           ],
           "legendgroup": "Action",
           "marker": {
            "color": "#636efa",
            "pattern": {
             "shape": ""
            }
           },
           "name": "Action",
           "offsetgroup": "Action",
           "orientation": "v",
           "showlegend": true,
           "textposition": "auto",
           "type": "bar",
           "x": [
            "Action"
           ],
           "xaxis": "x",
           "y": [
            4
           ],
           "yaxis": "y"
          },
          {
           "alignmentgroup": "True",
           "hovertemplate": "Genre=%{x}<br>Year=1983<br>count=%{y}<extra></extra>",
           "ids": [
            "Children's"
           ],
           "legendgroup": "Children's",
           "marker": {
            "color": "#ab63fa",
            "pattern": {
             "shape": ""
            }
           },
           "name": "Children's",
           "offsetgroup": "Children's",
           "orientation": "v",
           "showlegend": true,
           "textposition": "auto",
           "type": "bar",
           "x": [
            "Children's"
           ],
           "xaxis": "x",
           "y": [
            1
           ],
           "yaxis": "y"
          },
          {
           "alignmentgroup": "True",
           "hovertemplate": "Genre=%{x}<br>Year=1983<br>count=%{y}<extra></extra>",
           "ids": [
            "Comedy"
           ],
           "legendgroup": "Comedy",
           "marker": {
            "color": "#FFA15A",
            "pattern": {
             "shape": ""
            }
           },
           "name": "Comedy",
           "offsetgroup": "Comedy",
           "orientation": "v",
           "showlegend": true,
           "textposition": "auto",
           "type": "bar",
           "x": [
            "Comedy"
           ],
           "xaxis": "x",
           "y": [
            14
           ],
           "yaxis": "y"
          },
          {
           "alignmentgroup": "True",
           "hovertemplate": "Genre=%{x}<br>Year=1983<br>count=%{y}<extra></extra>",
           "ids": [
            "Documentary"
           ],
           "legendgroup": "Documentary",
           "marker": {
            "color": "#FF6692",
            "pattern": {
             "shape": ""
            }
           },
           "name": "Documentary",
           "offsetgroup": "Documentary",
           "orientation": "v",
           "showlegend": true,
           "textposition": "auto",
           "type": "bar",
           "x": [
            "Documentary"
           ],
           "xaxis": "x",
           "y": [
            1
           ],
           "yaxis": "y"
          },
          {
           "alignmentgroup": "True",
           "hovertemplate": "Genre=%{x}<br>Year=1983<br>count=%{y}<extra></extra>",
           "ids": [
            "Drama"
           ],
           "legendgroup": "Drama",
           "marker": {
            "color": "#B6E880",
            "pattern": {
             "shape": ""
            }
           },
           "name": "Drama",
           "offsetgroup": "Drama",
           "orientation": "v",
           "showlegend": true,
           "textposition": "auto",
           "type": "bar",
           "x": [
            "Drama"
           ],
           "xaxis": "x",
           "y": [
            6
           ],
           "yaxis": "y"
          },
          {
           "alignmentgroup": "True",
           "hovertemplate": "Genre=%{x}<br>Year=1983<br>count=%{y}<extra></extra>",
           "ids": [
            "Horror"
           ],
           "legendgroup": "Horror",
           "marker": {
            "color": "#FF97FF",
            "pattern": {
             "shape": ""
            }
           },
           "name": "Horror",
           "offsetgroup": "Horror",
           "orientation": "v",
           "showlegend": true,
           "textposition": "auto",
           "type": "bar",
           "x": [
            "Horror"
           ],
           "xaxis": "x",
           "y": [
            9
           ],
           "yaxis": "y"
          }
         ],
         "name": "1983"
        },
        {
         "data": [
          {
           "alignmentgroup": "True",
           "hovertemplate": "Genre=%{x}<br>Year=1984<br>count=%{y}<extra></extra>",
           "ids": [
            "Action"
           ],
           "legendgroup": "Action",
           "marker": {
            "color": "#636efa",
            "pattern": {
             "shape": ""
            }
           },
           "name": "Action",
           "offsetgroup": "Action",
           "orientation": "v",
           "showlegend": true,
           "textposition": "auto",
           "type": "bar",
           "x": [
            "Action"
           ],
           "xaxis": "x",
           "y": [
            11
           ],
           "yaxis": "y"
          },
          {
           "alignmentgroup": "True",
           "hovertemplate": "Genre=%{x}<br>Year=1984<br>count=%{y}<extra></extra>",
           "ids": [
            "Adventure"
           ],
           "legendgroup": "Adventure",
           "marker": {
            "color": "#EF553B",
            "pattern": {
             "shape": ""
            }
           },
           "name": "Adventure",
           "offsetgroup": "Adventure",
           "orientation": "v",
           "showlegend": true,
           "textposition": "auto",
           "type": "bar",
           "x": [
            "Adventure"
           ],
           "xaxis": "x",
           "y": [
            4
           ],
           "yaxis": "y"
          },
          {
           "alignmentgroup": "True",
           "hovertemplate": "Genre=%{x}<br>Year=1984<br>count=%{y}<extra></extra>",
           "ids": [
            "Children's"
           ],
           "legendgroup": "Children's",
           "marker": {
            "color": "#ab63fa",
            "pattern": {
             "shape": ""
            }
           },
           "name": "Children's",
           "offsetgroup": "Children's",
           "orientation": "v",
           "showlegend": true,
           "textposition": "auto",
           "type": "bar",
           "x": [
            "Children's"
           ],
           "xaxis": "x",
           "y": [
            1
           ],
           "yaxis": "y"
          },
          {
           "alignmentgroup": "True",
           "hovertemplate": "Genre=%{x}<br>Year=1984<br>count=%{y}<extra></extra>",
           "ids": [
            "Comedy"
           ],
           "legendgroup": "Comedy",
           "marker": {
            "color": "#FFA15A",
            "pattern": {
             "shape": ""
            }
           },
           "name": "Comedy",
           "offsetgroup": "Comedy",
           "orientation": "v",
           "showlegend": true,
           "textposition": "auto",
           "type": "bar",
           "x": [
            "Comedy"
           ],
           "xaxis": "x",
           "y": [
            14
           ],
           "yaxis": "y"
          },
          {
           "alignmentgroup": "True",
           "hovertemplate": "Genre=%{x}<br>Year=1984<br>count=%{y}<extra></extra>",
           "ids": [
            "Crime"
           ],
           "legendgroup": "Crime",
           "marker": {
            "color": "#19d3f3",
            "pattern": {
             "shape": ""
            }
           },
           "name": "Crime",
           "offsetgroup": "Crime",
           "orientation": "v",
           "showlegend": true,
           "textposition": "auto",
           "type": "bar",
           "x": [
            "Crime"
           ],
           "xaxis": "x",
           "y": [
            1
           ],
           "yaxis": "y"
          },
          {
           "alignmentgroup": "True",
           "hovertemplate": "Genre=%{x}<br>Year=1984<br>count=%{y}<extra></extra>",
           "ids": [
            "Documentary"
           ],
           "legendgroup": "Documentary",
           "marker": {
            "color": "#FF6692",
            "pattern": {
             "shape": ""
            }
           },
           "name": "Documentary",
           "offsetgroup": "Documentary",
           "orientation": "v",
           "showlegend": true,
           "textposition": "auto",
           "type": "bar",
           "x": [
            "Documentary"
           ],
           "xaxis": "x",
           "y": [
            1
           ],
           "yaxis": "y"
          },
          {
           "alignmentgroup": "True",
           "hovertemplate": "Genre=%{x}<br>Year=1984<br>count=%{y}<extra></extra>",
           "ids": [
            "Drama"
           ],
           "legendgroup": "Drama",
           "marker": {
            "color": "#B6E880",
            "pattern": {
             "shape": ""
            }
           },
           "name": "Drama",
           "offsetgroup": "Drama",
           "orientation": "v",
           "showlegend": true,
           "textposition": "auto",
           "type": "bar",
           "x": [
            "Drama"
           ],
           "xaxis": "x",
           "y": [
            19
           ],
           "yaxis": "y"
          },
          {
           "alignmentgroup": "True",
           "hovertemplate": "Genre=%{x}<br>Year=1984<br>count=%{y}<extra></extra>",
           "ids": [
            "Horror"
           ],
           "legendgroup": "Horror",
           "marker": {
            "color": "#FF97FF",
            "pattern": {
             "shape": ""
            }
           },
           "name": "Horror",
           "offsetgroup": "Horror",
           "orientation": "v",
           "showlegend": true,
           "textposition": "auto",
           "type": "bar",
           "x": [
            "Horror"
           ],
           "xaxis": "x",
           "y": [
            4
           ],
           "yaxis": "y"
          },
          {
           "alignmentgroup": "True",
           "hovertemplate": "Genre=%{x}<br>Year=1984<br>count=%{y}<extra></extra>",
           "ids": [
            "Fantasy"
           ],
           "legendgroup": "Fantasy",
           "marker": {
            "color": "#636efa",
            "pattern": {
             "shape": ""
            }
           },
           "name": "Fantasy",
           "offsetgroup": "Fantasy",
           "orientation": "v",
           "showlegend": true,
           "textposition": "auto",
           "type": "bar",
           "x": [
            "Fantasy"
           ],
           "xaxis": "x",
           "y": [
            1
           ],
           "yaxis": "y"
          },
          {
           "alignmentgroup": "True",
           "hovertemplate": "Genre=%{x}<br>Year=1984<br>count=%{y}<extra></extra>",
           "ids": [
            "Mystery"
           ],
           "legendgroup": "Mystery",
           "marker": {
            "color": "#EF553B",
            "pattern": {
             "shape": ""
            }
           },
           "name": "Mystery",
           "offsetgroup": "Mystery",
           "orientation": "v",
           "showlegend": true,
           "textposition": "auto",
           "type": "bar",
           "x": [
            "Mystery"
           ],
           "xaxis": "x",
           "y": [
            2
           ],
           "yaxis": "y"
          },
          {
           "alignmentgroup": "True",
           "hovertemplate": "Genre=%{x}<br>Year=1984<br>count=%{y}<extra></extra>",
           "ids": [
            "Romance"
           ],
           "legendgroup": "Romance",
           "marker": {
            "color": "#00cc96",
            "pattern": {
             "shape": ""
            }
           },
           "name": "Romance",
           "offsetgroup": "Romance",
           "orientation": "v",
           "showlegend": true,
           "textposition": "auto",
           "type": "bar",
           "x": [
            "Romance"
           ],
           "xaxis": "x",
           "y": [
            1
           ],
           "yaxis": "y"
          },
          {
           "alignmentgroup": "True",
           "hovertemplate": "Genre=%{x}<br>Year=1984<br>count=%{y}<extra></extra>",
           "ids": [
            "Sci-Fi"
           ],
           "legendgroup": "Sci-Fi",
           "marker": {
            "color": "#ab63fa",
            "pattern": {
             "shape": ""
            }
           },
           "name": "Sci-Fi",
           "offsetgroup": "Sci-Fi",
           "orientation": "v",
           "showlegend": true,
           "textposition": "auto",
           "type": "bar",
           "x": [
            "Sci-Fi"
           ],
           "xaxis": "x",
           "y": [
            1
           ],
           "yaxis": "y"
          }
         ],
         "name": "1984"
        },
        {
         "data": [
          {
           "alignmentgroup": "True",
           "hovertemplate": "Genre=%{x}<br>Year=1985<br>count=%{y}<extra></extra>",
           "ids": [
            "Action"
           ],
           "legendgroup": "Action",
           "marker": {
            "color": "#636efa",
            "pattern": {
             "shape": ""
            }
           },
           "name": "Action",
           "offsetgroup": "Action",
           "orientation": "v",
           "showlegend": true,
           "textposition": "auto",
           "type": "bar",
           "x": [
            "Action"
           ],
           "xaxis": "x",
           "y": [
            11
           ],
           "yaxis": "y"
          },
          {
           "alignmentgroup": "True",
           "hovertemplate": "Genre=%{x}<br>Year=1985<br>count=%{y}<extra></extra>",
           "ids": [
            "Adventure"
           ],
           "legendgroup": "Adventure",
           "marker": {
            "color": "#EF553B",
            "pattern": {
             "shape": ""
            }
           },
           "name": "Adventure",
           "offsetgroup": "Adventure",
           "orientation": "v",
           "showlegend": true,
           "textposition": "auto",
           "type": "bar",
           "x": [
            "Adventure"
           ],
           "xaxis": "x",
           "y": [
            8
           ],
           "yaxis": "y"
          },
          {
           "alignmentgroup": "True",
           "hovertemplate": "Genre=%{x}<br>Year=1985<br>count=%{y}<extra></extra>",
           "ids": [
            "Animation"
           ],
           "legendgroup": "Animation",
           "marker": {
            "color": "#00cc96",
            "pattern": {
             "shape": ""
            }
           },
           "name": "Animation",
           "offsetgroup": "Animation",
           "orientation": "v",
           "showlegend": true,
           "textposition": "auto",
           "type": "bar",
           "x": [
            "Animation"
           ],
           "xaxis": "x",
           "y": [
            1
           ],
           "yaxis": "y"
          },
          {
           "alignmentgroup": "True",
           "hovertemplate": "Genre=%{x}<br>Year=1985<br>count=%{y}<extra></extra>",
           "ids": [
            "Children's"
           ],
           "legendgroup": "Children's",
           "marker": {
            "color": "#ab63fa",
            "pattern": {
             "shape": ""
            }
           },
           "name": "Children's",
           "offsetgroup": "Children's",
           "orientation": "v",
           "showlegend": true,
           "textposition": "auto",
           "type": "bar",
           "x": [
            "Children's"
           ],
           "xaxis": "x",
           "y": [
            1
           ],
           "yaxis": "y"
          },
          {
           "alignmentgroup": "True",
           "hovertemplate": "Genre=%{x}<br>Year=1985<br>count=%{y}<extra></extra>",
           "ids": [
            "Comedy"
           ],
           "legendgroup": "Comedy",
           "marker": {
            "color": "#FFA15A",
            "pattern": {
             "shape": ""
            }
           },
           "name": "Comedy",
           "offsetgroup": "Comedy",
           "orientation": "v",
           "showlegend": true,
           "textposition": "auto",
           "type": "bar",
           "x": [
            "Comedy"
           ],
           "xaxis": "x",
           "y": [
            20
           ],
           "yaxis": "y"
          },
          {
           "alignmentgroup": "True",
           "hovertemplate": "Genre=%{x}<br>Year=1985<br>count=%{y}<extra></extra>",
           "ids": [
            "Drama"
           ],
           "legendgroup": "Drama",
           "marker": {
            "color": "#B6E880",
            "pattern": {
             "shape": ""
            }
           },
           "name": "Drama",
           "offsetgroup": "Drama",
           "orientation": "v",
           "showlegend": true,
           "textposition": "auto",
           "type": "bar",
           "x": [
            "Drama"
           ],
           "xaxis": "x",
           "y": [
            15
           ],
           "yaxis": "y"
          },
          {
           "alignmentgroup": "True",
           "hovertemplate": "Genre=%{x}<br>Year=1985<br>count=%{y}<extra></extra>",
           "ids": [
            "Horror"
           ],
           "legendgroup": "Horror",
           "marker": {
            "color": "#FF97FF",
            "pattern": {
             "shape": ""
            }
           },
           "name": "Horror",
           "offsetgroup": "Horror",
           "orientation": "v",
           "showlegend": true,
           "textposition": "auto",
           "type": "bar",
           "x": [
            "Horror"
           ],
           "xaxis": "x",
           "y": [
            6
           ],
           "yaxis": "y"
          },
          {
           "alignmentgroup": "True",
           "hovertemplate": "Genre=%{x}<br>Year=1985<br>count=%{y}<extra></extra>",
           "ids": [
            "Sci-Fi"
           ],
           "legendgroup": "Sci-Fi",
           "marker": {
            "color": "#ab63fa",
            "pattern": {
             "shape": ""
            }
           },
           "name": "Sci-Fi",
           "offsetgroup": "Sci-Fi",
           "orientation": "v",
           "showlegend": true,
           "textposition": "auto",
           "type": "bar",
           "x": [
            "Sci-Fi"
           ],
           "xaxis": "x",
           "y": [
            1
           ],
           "yaxis": "y"
          },
          {
           "alignmentgroup": "True",
           "hovertemplate": "Genre=%{x}<br>Year=1985<br>count=%{y}<extra></extra>",
           "ids": [
            "Thriller"
           ],
           "legendgroup": "Thriller",
           "marker": {
            "color": "#FFA15A",
            "pattern": {
             "shape": ""
            }
           },
           "name": "Thriller",
           "offsetgroup": "Thriller",
           "orientation": "v",
           "showlegend": true,
           "textposition": "auto",
           "type": "bar",
           "x": [
            "Thriller"
           ],
           "xaxis": "x",
           "y": [
            1
           ],
           "yaxis": "y"
          },
          {
           "alignmentgroup": "True",
           "hovertemplate": "Genre=%{x}<br>Year=1985<br>count=%{y}<extra></extra>",
           "ids": [
            "Western"
           ],
           "legendgroup": "Western",
           "marker": {
            "color": "#19d3f3",
            "pattern": {
             "shape": ""
            }
           },
           "name": "Western",
           "offsetgroup": "Western",
           "orientation": "v",
           "showlegend": true,
           "textposition": "auto",
           "type": "bar",
           "x": [
            "Western"
           ],
           "xaxis": "x",
           "y": [
            1
           ],
           "yaxis": "y"
          }
         ],
         "name": "1985"
        },
        {
         "data": [
          {
           "alignmentgroup": "True",
           "hovertemplate": "Genre=%{x}<br>Year=1986<br>count=%{y}<extra></extra>",
           "ids": [
            "Action"
           ],
           "legendgroup": "Action",
           "marker": {
            "color": "#636efa",
            "pattern": {
             "shape": ""
            }
           },
           "name": "Action",
           "offsetgroup": "Action",
           "orientation": "v",
           "showlegend": true,
           "textposition": "auto",
           "type": "bar",
           "x": [
            "Action"
           ],
           "xaxis": "x",
           "y": [
            21
           ],
           "yaxis": "y"
          },
          {
           "alignmentgroup": "True",
           "hovertemplate": "Genre=%{x}<br>Year=1986<br>count=%{y}<extra></extra>",
           "ids": [
            "Adventure"
           ],
           "legendgroup": "Adventure",
           "marker": {
            "color": "#EF553B",
            "pattern": {
             "shape": ""
            }
           },
           "name": "Adventure",
           "offsetgroup": "Adventure",
           "orientation": "v",
           "showlegend": true,
           "textposition": "auto",
           "type": "bar",
           "x": [
            "Adventure"
           ],
           "xaxis": "x",
           "y": [
            7
           ],
           "yaxis": "y"
          },
          {
           "alignmentgroup": "True",
           "hovertemplate": "Genre=%{x}<br>Year=1986<br>count=%{y}<extra></extra>",
           "ids": [
            "Animation"
           ],
           "legendgroup": "Animation",
           "marker": {
            "color": "#00cc96",
            "pattern": {
             "shape": ""
            }
           },
           "name": "Animation",
           "offsetgroup": "Animation",
           "orientation": "v",
           "showlegend": true,
           "textposition": "auto",
           "type": "bar",
           "x": [
            "Animation"
           ],
           "xaxis": "x",
           "y": [
            2
           ],
           "yaxis": "y"
          },
          {
           "alignmentgroup": "True",
           "hovertemplate": "Genre=%{x}<br>Year=1986<br>count=%{y}<extra></extra>",
           "ids": [
            "Children's"
           ],
           "legendgroup": "Children's",
           "marker": {
            "color": "#ab63fa",
            "pattern": {
             "shape": ""
            }
           },
           "name": "Children's",
           "offsetgroup": "Children's",
           "orientation": "v",
           "showlegend": true,
           "textposition": "auto",
           "type": "bar",
           "x": [
            "Children's"
           ],
           "xaxis": "x",
           "y": [
            1
           ],
           "yaxis": "y"
          },
          {
           "alignmentgroup": "True",
           "hovertemplate": "Genre=%{x}<br>Year=1986<br>count=%{y}<extra></extra>",
           "ids": [
            "Comedy"
           ],
           "legendgroup": "Comedy",
           "marker": {
            "color": "#FFA15A",
            "pattern": {
             "shape": ""
            }
           },
           "name": "Comedy",
           "offsetgroup": "Comedy",
           "orientation": "v",
           "showlegend": true,
           "textposition": "auto",
           "type": "bar",
           "x": [
            "Comedy"
           ],
           "xaxis": "x",
           "y": [
            30
           ],
           "yaxis": "y"
          },
          {
           "alignmentgroup": "True",
           "hovertemplate": "Genre=%{x}<br>Year=1986<br>count=%{y}<extra></extra>",
           "ids": [
            "Drama"
           ],
           "legendgroup": "Drama",
           "marker": {
            "color": "#B6E880",
            "pattern": {
             "shape": ""
            }
           },
           "name": "Drama",
           "offsetgroup": "Drama",
           "orientation": "v",
           "showlegend": true,
           "textposition": "auto",
           "type": "bar",
           "x": [
            "Drama"
           ],
           "xaxis": "x",
           "y": [
            28
           ],
           "yaxis": "y"
          },
          {
           "alignmentgroup": "True",
           "hovertemplate": "Genre=%{x}<br>Year=1986<br>count=%{y}<extra></extra>",
           "ids": [
            "Horror"
           ],
           "legendgroup": "Horror",
           "marker": {
            "color": "#FF97FF",
            "pattern": {
             "shape": ""
            }
           },
           "name": "Horror",
           "offsetgroup": "Horror",
           "orientation": "v",
           "showlegend": true,
           "textposition": "auto",
           "type": "bar",
           "x": [
            "Horror"
           ],
           "xaxis": "x",
           "y": [
            13
           ],
           "yaxis": "y"
          },
          {
           "alignmentgroup": "True",
           "hovertemplate": "Genre=%{x}<br>Year=1986<br>count=%{y}<extra></extra>",
           "ids": [
            "Mystery"
           ],
           "legendgroup": "Mystery",
           "marker": {
            "color": "#EF553B",
            "pattern": {
             "shape": ""
            }
           },
           "name": "Mystery",
           "offsetgroup": "Mystery",
           "orientation": "v",
           "showlegend": true,
           "textposition": "auto",
           "type": "bar",
           "x": [
            "Mystery"
           ],
           "xaxis": "x",
           "y": [
            1
           ],
           "yaxis": "y"
          },
          {
           "alignmentgroup": "True",
           "hovertemplate": "Genre=%{x}<br>Year=1986<br>count=%{y}<extra></extra>",
           "ids": [
            "Musical"
           ],
           "legendgroup": "Musical",
           "marker": {
            "color": "#FF6692",
            "pattern": {
             "shape": ""
            }
           },
           "name": "Musical",
           "offsetgroup": "Musical",
           "orientation": "v",
           "showlegend": true,
           "textposition": "auto",
           "type": "bar",
           "x": [
            "Musical"
           ],
           "xaxis": "x",
           "y": [
            1
           ],
           "yaxis": "y"
          }
         ],
         "name": "1986"
        },
        {
         "data": [
          {
           "alignmentgroup": "True",
           "hovertemplate": "Genre=%{x}<br>Year=1987<br>count=%{y}<extra></extra>",
           "ids": [
            "Action"
           ],
           "legendgroup": "Action",
           "marker": {
            "color": "#636efa",
            "pattern": {
             "shape": ""
            }
           },
           "name": "Action",
           "offsetgroup": "Action",
           "orientation": "v",
           "showlegend": true,
           "textposition": "auto",
           "type": "bar",
           "x": [
            "Action"
           ],
           "xaxis": "x",
           "y": [
            17
           ],
           "yaxis": "y"
          },
          {
           "alignmentgroup": "True",
           "hovertemplate": "Genre=%{x}<br>Year=1987<br>count=%{y}<extra></extra>",
           "ids": [
            "Adventure"
           ],
           "legendgroup": "Adventure",
           "marker": {
            "color": "#EF553B",
            "pattern": {
             "shape": ""
            }
           },
           "name": "Adventure",
           "offsetgroup": "Adventure",
           "orientation": "v",
           "showlegend": true,
           "textposition": "auto",
           "type": "bar",
           "x": [
            "Adventure"
           ],
           "xaxis": "x",
           "y": [
            3
           ],
           "yaxis": "y"
          },
          {
           "alignmentgroup": "True",
           "hovertemplate": "Genre=%{x}<br>Year=1987<br>count=%{y}<extra></extra>",
           "ids": [
            "Comedy"
           ],
           "legendgroup": "Comedy",
           "marker": {
            "color": "#FFA15A",
            "pattern": {
             "shape": ""
            }
           },
           "name": "Comedy",
           "offsetgroup": "Comedy",
           "orientation": "v",
           "showlegend": true,
           "textposition": "auto",
           "type": "bar",
           "x": [
            "Comedy"
           ],
           "xaxis": "x",
           "y": [
            25
           ],
           "yaxis": "y"
          },
          {
           "alignmentgroup": "True",
           "hovertemplate": "Genre=%{x}<br>Year=1987<br>count=%{y}<extra></extra>",
           "ids": [
            "Drama"
           ],
           "legendgroup": "Drama",
           "marker": {
            "color": "#B6E880",
            "pattern": {
             "shape": ""
            }
           },
           "name": "Drama",
           "offsetgroup": "Drama",
           "orientation": "v",
           "showlegend": true,
           "textposition": "auto",
           "type": "bar",
           "x": [
            "Drama"
           ],
           "xaxis": "x",
           "y": [
            11
           ],
           "yaxis": "y"
          },
          {
           "alignmentgroup": "True",
           "hovertemplate": "Genre=%{x}<br>Year=1987<br>count=%{y}<extra></extra>",
           "ids": [
            "Horror"
           ],
           "legendgroup": "Horror",
           "marker": {
            "color": "#FF97FF",
            "pattern": {
             "shape": ""
            }
           },
           "name": "Horror",
           "offsetgroup": "Horror",
           "orientation": "v",
           "showlegend": true,
           "textposition": "auto",
           "type": "bar",
           "x": [
            "Horror"
           ],
           "xaxis": "x",
           "y": [
            9
           ],
           "yaxis": "y"
          },
          {
           "alignmentgroup": "True",
           "hovertemplate": "Genre=%{x}<br>Year=1987<br>count=%{y}<extra></extra>",
           "ids": [
            "Film-Noir"
           ],
           "legendgroup": "Film-Noir",
           "marker": {
            "color": "#FECB52",
            "pattern": {
             "shape": ""
            }
           },
           "name": "Film-Noir",
           "offsetgroup": "Film-Noir",
           "orientation": "v",
           "showlegend": true,
           "textposition": "auto",
           "type": "bar",
           "x": [
            "Film-Noir"
           ],
           "xaxis": "x",
           "y": [
            1
           ],
           "yaxis": "y"
          },
          {
           "alignmentgroup": "True",
           "hovertemplate": "Genre=%{x}<br>Year=1987<br>count=%{y}<extra></extra>",
           "ids": [
            "Fantasy"
           ],
           "legendgroup": "Fantasy",
           "marker": {
            "color": "#636efa",
            "pattern": {
             "shape": ""
            }
           },
           "name": "Fantasy",
           "offsetgroup": "Fantasy",
           "orientation": "v",
           "showlegend": true,
           "textposition": "auto",
           "type": "bar",
           "x": [
            "Fantasy"
           ],
           "xaxis": "x",
           "y": [
            1
           ],
           "yaxis": "y"
          },
          {
           "alignmentgroup": "True",
           "hovertemplate": "Genre=%{x}<br>Year=1987<br>count=%{y}<extra></extra>",
           "ids": [
            "Thriller"
           ],
           "legendgroup": "Thriller",
           "marker": {
            "color": "#FFA15A",
            "pattern": {
             "shape": ""
            }
           },
           "name": "Thriller",
           "offsetgroup": "Thriller",
           "orientation": "v",
           "showlegend": true,
           "textposition": "auto",
           "type": "bar",
           "x": [
            "Thriller"
           ],
           "xaxis": "x",
           "y": [
            3
           ],
           "yaxis": "y"
          },
          {
           "alignmentgroup": "True",
           "hovertemplate": "Genre=%{x}<br>Year=1987<br>count=%{y}<extra></extra>",
           "ids": [
            "Musical"
           ],
           "legendgroup": "Musical",
           "marker": {
            "color": "#FF6692",
            "pattern": {
             "shape": ""
            }
           },
           "name": "Musical",
           "offsetgroup": "Musical",
           "orientation": "v",
           "showlegend": true,
           "textposition": "auto",
           "type": "bar",
           "x": [
            "Musical"
           ],
           "xaxis": "x",
           "y": [
            1
           ],
           "yaxis": "y"
          }
         ],
         "name": "1987"
        },
        {
         "data": [
          {
           "alignmentgroup": "True",
           "hovertemplate": "Genre=%{x}<br>Year=1988<br>count=%{y}<extra></extra>",
           "ids": [
            "Action"
           ],
           "legendgroup": "Action",
           "marker": {
            "color": "#636efa",
            "pattern": {
             "shape": ""
            }
           },
           "name": "Action",
           "offsetgroup": "Action",
           "orientation": "v",
           "showlegend": true,
           "textposition": "auto",
           "type": "bar",
           "x": [
            "Action"
           ],
           "xaxis": "x",
           "y": [
            13
           ],
           "yaxis": "y"
          },
          {
           "alignmentgroup": "True",
           "hovertemplate": "Genre=%{x}<br>Year=1988<br>count=%{y}<extra></extra>",
           "ids": [
            "Adventure"
           ],
           "legendgroup": "Adventure",
           "marker": {
            "color": "#EF553B",
            "pattern": {
             "shape": ""
            }
           },
           "name": "Adventure",
           "offsetgroup": "Adventure",
           "orientation": "v",
           "showlegend": true,
           "textposition": "auto",
           "type": "bar",
           "x": [
            "Adventure"
           ],
           "xaxis": "x",
           "y": [
            7
           ],
           "yaxis": "y"
          },
          {
           "alignmentgroup": "True",
           "hovertemplate": "Genre=%{x}<br>Year=1988<br>count=%{y}<extra></extra>",
           "ids": [
            "Animation"
           ],
           "legendgroup": "Animation",
           "marker": {
            "color": "#00cc96",
            "pattern": {
             "shape": ""
            }
           },
           "name": "Animation",
           "offsetgroup": "Animation",
           "orientation": "v",
           "showlegend": true,
           "textposition": "auto",
           "type": "bar",
           "x": [
            "Animation"
           ],
           "xaxis": "x",
           "y": [
            1
           ],
           "yaxis": "y"
          },
          {
           "alignmentgroup": "True",
           "hovertemplate": "Genre=%{x}<br>Year=1988<br>count=%{y}<extra></extra>",
           "ids": [
            "Comedy"
           ],
           "legendgroup": "Comedy",
           "marker": {
            "color": "#FFA15A",
            "pattern": {
             "shape": ""
            }
           },
           "name": "Comedy",
           "offsetgroup": "Comedy",
           "orientation": "v",
           "showlegend": true,
           "textposition": "auto",
           "type": "bar",
           "x": [
            "Comedy"
           ],
           "xaxis": "x",
           "y": [
            17
           ],
           "yaxis": "y"
          },
          {
           "alignmentgroup": "True",
           "hovertemplate": "Genre=%{x}<br>Year=1988<br>count=%{y}<extra></extra>",
           "ids": [
            "Crime"
           ],
           "legendgroup": "Crime",
           "marker": {
            "color": "#19d3f3",
            "pattern": {
             "shape": ""
            }
           },
           "name": "Crime",
           "offsetgroup": "Crime",
           "orientation": "v",
           "showlegend": true,
           "textposition": "auto",
           "type": "bar",
           "x": [
            "Crime"
           ],
           "xaxis": "x",
           "y": [
            1
           ],
           "yaxis": "y"
          },
          {
           "alignmentgroup": "True",
           "hovertemplate": "Genre=%{x}<br>Year=1988<br>count=%{y}<extra></extra>",
           "ids": [
            "Documentary"
           ],
           "legendgroup": "Documentary",
           "marker": {
            "color": "#FF6692",
            "pattern": {
             "shape": ""
            }
           },
           "name": "Documentary",
           "offsetgroup": "Documentary",
           "orientation": "v",
           "showlegend": true,
           "textposition": "auto",
           "type": "bar",
           "x": [
            "Documentary"
           ],
           "xaxis": "x",
           "y": [
            3
           ],
           "yaxis": "y"
          },
          {
           "alignmentgroup": "True",
           "hovertemplate": "Genre=%{x}<br>Year=1988<br>count=%{y}<extra></extra>",
           "ids": [
            "Drama"
           ],
           "legendgroup": "Drama",
           "marker": {
            "color": "#B6E880",
            "pattern": {
             "shape": ""
            }
           },
           "name": "Drama",
           "offsetgroup": "Drama",
           "orientation": "v",
           "showlegend": true,
           "textposition": "auto",
           "type": "bar",
           "x": [
            "Drama"
           ],
           "xaxis": "x",
           "y": [
            14
           ],
           "yaxis": "y"
          },
          {
           "alignmentgroup": "True",
           "hovertemplate": "Genre=%{x}<br>Year=1988<br>count=%{y}<extra></extra>",
           "ids": [
            "Horror"
           ],
           "legendgroup": "Horror",
           "marker": {
            "color": "#FF97FF",
            "pattern": {
             "shape": ""
            }
           },
           "name": "Horror",
           "offsetgroup": "Horror",
           "orientation": "v",
           "showlegend": true,
           "textposition": "auto",
           "type": "bar",
           "x": [
            "Horror"
           ],
           "xaxis": "x",
           "y": [
            10
           ],
           "yaxis": "y"
          },
          {
           "alignmentgroup": "True",
           "hovertemplate": "Genre=%{x}<br>Year=1988<br>count=%{y}<extra></extra>",
           "ids": [
            "Sci-Fi"
           ],
           "legendgroup": "Sci-Fi",
           "marker": {
            "color": "#ab63fa",
            "pattern": {
             "shape": ""
            }
           },
           "name": "Sci-Fi",
           "offsetgroup": "Sci-Fi",
           "orientation": "v",
           "showlegend": true,
           "textposition": "auto",
           "type": "bar",
           "x": [
            "Sci-Fi"
           ],
           "xaxis": "x",
           "y": [
            1
           ],
           "yaxis": "y"
          },
          {
           "alignmentgroup": "True",
           "hovertemplate": "Genre=%{x}<br>Year=1988<br>count=%{y}<extra></extra>",
           "ids": [
            "Thriller"
           ],
           "legendgroup": "Thriller",
           "marker": {
            "color": "#FFA15A",
            "pattern": {
             "shape": ""
            }
           },
           "name": "Thriller",
           "offsetgroup": "Thriller",
           "orientation": "v",
           "showlegend": true,
           "textposition": "auto",
           "type": "bar",
           "x": [
            "Thriller"
           ],
           "xaxis": "x",
           "y": [
            2
           ],
           "yaxis": "y"
          }
         ],
         "name": "1988"
        },
        {
         "data": [
          {
           "alignmentgroup": "True",
           "hovertemplate": "Genre=%{x}<br>Year=1989<br>count=%{y}<extra></extra>",
           "ids": [
            "Action"
           ],
           "legendgroup": "Action",
           "marker": {
            "color": "#636efa",
            "pattern": {
             "shape": ""
            }
           },
           "name": "Action",
           "offsetgroup": "Action",
           "orientation": "v",
           "showlegend": true,
           "textposition": "auto",
           "type": "bar",
           "x": [
            "Action"
           ],
           "xaxis": "x",
           "y": [
            9
           ],
           "yaxis": "y"
          },
          {
           "alignmentgroup": "True",
           "hovertemplate": "Genre=%{x}<br>Year=1989<br>count=%{y}<extra></extra>",
           "ids": [
            "Adventure"
           ],
           "legendgroup": "Adventure",
           "marker": {
            "color": "#EF553B",
            "pattern": {
             "shape": ""
            }
           },
           "name": "Adventure",
           "offsetgroup": "Adventure",
           "orientation": "v",
           "showlegend": true,
           "textposition": "auto",
           "type": "bar",
           "x": [
            "Adventure"
           ],
           "xaxis": "x",
           "y": [
            3
           ],
           "yaxis": "y"
          },
          {
           "alignmentgroup": "True",
           "hovertemplate": "Genre=%{x}<br>Year=1989<br>count=%{y}<extra></extra>",
           "ids": [
            "Animation"
           ],
           "legendgroup": "Animation",
           "marker": {
            "color": "#00cc96",
            "pattern": {
             "shape": ""
            }
           },
           "name": "Animation",
           "offsetgroup": "Animation",
           "orientation": "v",
           "showlegend": true,
           "textposition": "auto",
           "type": "bar",
           "x": [
            "Animation"
           ],
           "xaxis": "x",
           "y": [
            2
           ],
           "yaxis": "y"
          },
          {
           "alignmentgroup": "True",
           "hovertemplate": "Genre=%{x}<br>Year=1989<br>count=%{y}<extra></extra>",
           "ids": [
            "Children's"
           ],
           "legendgroup": "Children's",
           "marker": {
            "color": "#ab63fa",
            "pattern": {
             "shape": ""
            }
           },
           "name": "Children's",
           "offsetgroup": "Children's",
           "orientation": "v",
           "showlegend": true,
           "textposition": "auto",
           "type": "bar",
           "x": [
            "Children's"
           ],
           "xaxis": "x",
           "y": [
            1
           ],
           "yaxis": "y"
          },
          {
           "alignmentgroup": "True",
           "hovertemplate": "Genre=%{x}<br>Year=1989<br>count=%{y}<extra></extra>",
           "ids": [
            "Comedy"
           ],
           "legendgroup": "Comedy",
           "marker": {
            "color": "#FFA15A",
            "pattern": {
             "shape": ""
            }
           },
           "name": "Comedy",
           "offsetgroup": "Comedy",
           "orientation": "v",
           "showlegend": true,
           "textposition": "auto",
           "type": "bar",
           "x": [
            "Comedy"
           ],
           "xaxis": "x",
           "y": [
            21
           ],
           "yaxis": "y"
          },
          {
           "alignmentgroup": "True",
           "hovertemplate": "Genre=%{x}<br>Year=1989<br>count=%{y}<extra></extra>",
           "ids": [
            "Crime"
           ],
           "legendgroup": "Crime",
           "marker": {
            "color": "#19d3f3",
            "pattern": {
             "shape": ""
            }
           },
           "name": "Crime",
           "offsetgroup": "Crime",
           "orientation": "v",
           "showlegend": true,
           "textposition": "auto",
           "type": "bar",
           "x": [
            "Crime"
           ],
           "xaxis": "x",
           "y": [
            1
           ],
           "yaxis": "y"
          },
          {
           "alignmentgroup": "True",
           "hovertemplate": "Genre=%{x}<br>Year=1989<br>count=%{y}<extra></extra>",
           "ids": [
            "Documentary"
           ],
           "legendgroup": "Documentary",
           "marker": {
            "color": "#FF6692",
            "pattern": {
             "shape": ""
            }
           },
           "name": "Documentary",
           "offsetgroup": "Documentary",
           "orientation": "v",
           "showlegend": true,
           "textposition": "auto",
           "type": "bar",
           "x": [
            "Documentary"
           ],
           "xaxis": "x",
           "y": [
            1
           ],
           "yaxis": "y"
          },
          {
           "alignmentgroup": "True",
           "hovertemplate": "Genre=%{x}<br>Year=1989<br>count=%{y}<extra></extra>",
           "ids": [
            "Drama"
           ],
           "legendgroup": "Drama",
           "marker": {
            "color": "#B6E880",
            "pattern": {
             "shape": ""
            }
           },
           "name": "Drama",
           "offsetgroup": "Drama",
           "orientation": "v",
           "showlegend": true,
           "textposition": "auto",
           "type": "bar",
           "x": [
            "Drama"
           ],
           "xaxis": "x",
           "y": [
            13
           ],
           "yaxis": "y"
          },
          {
           "alignmentgroup": "True",
           "hovertemplate": "Genre=%{x}<br>Year=1989<br>count=%{y}<extra></extra>",
           "ids": [
            "Horror"
           ],
           "legendgroup": "Horror",
           "marker": {
            "color": "#FF97FF",
            "pattern": {
             "shape": ""
            }
           },
           "name": "Horror",
           "offsetgroup": "Horror",
           "orientation": "v",
           "showlegend": true,
           "textposition": "auto",
           "type": "bar",
           "x": [
            "Horror"
           ],
           "xaxis": "x",
           "y": [
            8
           ],
           "yaxis": "y"
          },
          {
           "alignmentgroup": "True",
           "hovertemplate": "Genre=%{x}<br>Year=1989<br>count=%{y}<extra></extra>",
           "ids": [
            "Thriller"
           ],
           "legendgroup": "Thriller",
           "marker": {
            "color": "#FFA15A",
            "pattern": {
             "shape": ""
            }
           },
           "name": "Thriller",
           "offsetgroup": "Thriller",
           "orientation": "v",
           "showlegend": true,
           "textposition": "auto",
           "type": "bar",
           "x": [
            "Thriller"
           ],
           "xaxis": "x",
           "y": [
            1
           ],
           "yaxis": "y"
          }
         ],
         "name": "1989"
        },
        {
         "data": [
          {
           "alignmentgroup": "True",
           "hovertemplate": "Genre=%{x}<br>Year=1990<br>count=%{y}<extra></extra>",
           "ids": [
            "Action"
           ],
           "legendgroup": "Action",
           "marker": {
            "color": "#636efa",
            "pattern": {
             "shape": ""
            }
           },
           "name": "Action",
           "offsetgroup": "Action",
           "orientation": "v",
           "showlegend": true,
           "textposition": "auto",
           "type": "bar",
           "x": [
            "Action"
           ],
           "xaxis": "x",
           "y": [
            19
           ],
           "yaxis": "y"
          },
          {
           "alignmentgroup": "True",
           "hovertemplate": "Genre=%{x}<br>Year=1990<br>count=%{y}<extra></extra>",
           "ids": [
            "Adventure"
           ],
           "legendgroup": "Adventure",
           "marker": {
            "color": "#EF553B",
            "pattern": {
             "shape": ""
            }
           },
           "name": "Adventure",
           "offsetgroup": "Adventure",
           "orientation": "v",
           "showlegend": true,
           "textposition": "auto",
           "type": "bar",
           "x": [
            "Adventure"
           ],
           "xaxis": "x",
           "y": [
            2
           ],
           "yaxis": "y"
          },
          {
           "alignmentgroup": "True",
           "hovertemplate": "Genre=%{x}<br>Year=1990<br>count=%{y}<extra></extra>",
           "ids": [
            "Animation"
           ],
           "legendgroup": "Animation",
           "marker": {
            "color": "#00cc96",
            "pattern": {
             "shape": ""
            }
           },
           "name": "Animation",
           "offsetgroup": "Animation",
           "orientation": "v",
           "showlegend": true,
           "textposition": "auto",
           "type": "bar",
           "x": [
            "Animation"
           ],
           "xaxis": "x",
           "y": [
            2
           ],
           "yaxis": "y"
          },
          {
           "alignmentgroup": "True",
           "hovertemplate": "Genre=%{x}<br>Year=1990<br>count=%{y}<extra></extra>",
           "ids": [
            "Children's"
           ],
           "legendgroup": "Children's",
           "marker": {
            "color": "#ab63fa",
            "pattern": {
             "shape": ""
            }
           },
           "name": "Children's",
           "offsetgroup": "Children's",
           "orientation": "v",
           "showlegend": true,
           "textposition": "auto",
           "type": "bar",
           "x": [
            "Children's"
           ],
           "xaxis": "x",
           "y": [
            1
           ],
           "yaxis": "y"
          },
          {
           "alignmentgroup": "True",
           "hovertemplate": "Genre=%{x}<br>Year=1990<br>count=%{y}<extra></extra>",
           "ids": [
            "Comedy"
           ],
           "legendgroup": "Comedy",
           "marker": {
            "color": "#FFA15A",
            "pattern": {
             "shape": ""
            }
           },
           "name": "Comedy",
           "offsetgroup": "Comedy",
           "orientation": "v",
           "showlegend": true,
           "textposition": "auto",
           "type": "bar",
           "x": [
            "Comedy"
           ],
           "xaxis": "x",
           "y": [
            15
           ],
           "yaxis": "y"
          },
          {
           "alignmentgroup": "True",
           "hovertemplate": "Genre=%{x}<br>Year=1990<br>count=%{y}<extra></extra>",
           "ids": [
            "Crime"
           ],
           "legendgroup": "Crime",
           "marker": {
            "color": "#19d3f3",
            "pattern": {
             "shape": ""
            }
           },
           "name": "Crime",
           "offsetgroup": "Crime",
           "orientation": "v",
           "showlegend": true,
           "textposition": "auto",
           "type": "bar",
           "x": [
            "Crime"
           ],
           "xaxis": "x",
           "y": [
            3
           ],
           "yaxis": "y"
          },
          {
           "alignmentgroup": "True",
           "hovertemplate": "Genre=%{x}<br>Year=1990<br>count=%{y}<extra></extra>",
           "ids": [
            "Documentary"
           ],
           "legendgroup": "Documentary",
           "marker": {
            "color": "#FF6692",
            "pattern": {
             "shape": ""
            }
           },
           "name": "Documentary",
           "offsetgroup": "Documentary",
           "orientation": "v",
           "showlegend": true,
           "textposition": "auto",
           "type": "bar",
           "x": [
            "Documentary"
           ],
           "xaxis": "x",
           "y": [
            2
           ],
           "yaxis": "y"
          },
          {
           "alignmentgroup": "True",
           "hovertemplate": "Genre=%{x}<br>Year=1990<br>count=%{y}<extra></extra>",
           "ids": [
            "Drama"
           ],
           "legendgroup": "Drama",
           "marker": {
            "color": "#B6E880",
            "pattern": {
             "shape": ""
            }
           },
           "name": "Drama",
           "offsetgroup": "Drama",
           "orientation": "v",
           "showlegend": true,
           "textposition": "auto",
           "type": "bar",
           "x": [
            "Drama"
           ],
           "xaxis": "x",
           "y": [
            17
           ],
           "yaxis": "y"
          },
          {
           "alignmentgroup": "True",
           "hovertemplate": "Genre=%{x}<br>Year=1990<br>count=%{y}<extra></extra>",
           "ids": [
            "Horror"
           ],
           "legendgroup": "Horror",
           "marker": {
            "color": "#FF97FF",
            "pattern": {
             "shape": ""
            }
           },
           "name": "Horror",
           "offsetgroup": "Horror",
           "orientation": "v",
           "showlegend": true,
           "textposition": "auto",
           "type": "bar",
           "x": [
            "Horror"
           ],
           "xaxis": "x",
           "y": [
            13
           ],
           "yaxis": "y"
          },
          {
           "alignmentgroup": "True",
           "hovertemplate": "Genre=%{x}<br>Year=1990<br>count=%{y}<extra></extra>",
           "ids": [
            "Thriller"
           ],
           "legendgroup": "Thriller",
           "marker": {
            "color": "#FFA15A",
            "pattern": {
             "shape": ""
            }
           },
           "name": "Thriller",
           "offsetgroup": "Thriller",
           "orientation": "v",
           "showlegend": true,
           "textposition": "auto",
           "type": "bar",
           "x": [
            "Thriller"
           ],
           "xaxis": "x",
           "y": [
            3
           ],
           "yaxis": "y"
          }
         ],
         "name": "1990"
        },
        {
         "data": [
          {
           "alignmentgroup": "True",
           "hovertemplate": "Genre=%{x}<br>Year=1991<br>count=%{y}<extra></extra>",
           "ids": [
            "Action"
           ],
           "legendgroup": "Action",
           "marker": {
            "color": "#636efa",
            "pattern": {
             "shape": ""
            }
           },
           "name": "Action",
           "offsetgroup": "Action",
           "orientation": "v",
           "showlegend": true,
           "textposition": "auto",
           "type": "bar",
           "x": [
            "Action"
           ],
           "xaxis": "x",
           "y": [
            6
           ],
           "yaxis": "y"
          },
          {
           "alignmentgroup": "True",
           "hovertemplate": "Genre=%{x}<br>Year=1991<br>count=%{y}<extra></extra>",
           "ids": [
            "Adventure"
           ],
           "legendgroup": "Adventure",
           "marker": {
            "color": "#EF553B",
            "pattern": {
             "shape": ""
            }
           },
           "name": "Adventure",
           "offsetgroup": "Adventure",
           "orientation": "v",
           "showlegend": true,
           "textposition": "auto",
           "type": "bar",
           "x": [
            "Adventure"
           ],
           "xaxis": "x",
           "y": [
            2
           ],
           "yaxis": "y"
          },
          {
           "alignmentgroup": "True",
           "hovertemplate": "Genre=%{x}<br>Year=1991<br>count=%{y}<extra></extra>",
           "ids": [
            "Animation"
           ],
           "legendgroup": "Animation",
           "marker": {
            "color": "#00cc96",
            "pattern": {
             "shape": ""
            }
           },
           "name": "Animation",
           "offsetgroup": "Animation",
           "orientation": "v",
           "showlegend": true,
           "textposition": "auto",
           "type": "bar",
           "x": [
            "Animation"
           ],
           "xaxis": "x",
           "y": [
            2
           ],
           "yaxis": "y"
          },
          {
           "alignmentgroup": "True",
           "hovertemplate": "Genre=%{x}<br>Year=1991<br>count=%{y}<extra></extra>",
           "ids": [
            "Comedy"
           ],
           "legendgroup": "Comedy",
           "marker": {
            "color": "#FFA15A",
            "pattern": {
             "shape": ""
            }
           },
           "name": "Comedy",
           "offsetgroup": "Comedy",
           "orientation": "v",
           "showlegend": true,
           "textposition": "auto",
           "type": "bar",
           "x": [
            "Comedy"
           ],
           "xaxis": "x",
           "y": [
            22
           ],
           "yaxis": "y"
          },
          {
           "alignmentgroup": "True",
           "hovertemplate": "Genre=%{x}<br>Year=1991<br>count=%{y}<extra></extra>",
           "ids": [
            "Crime"
           ],
           "legendgroup": "Crime",
           "marker": {
            "color": "#19d3f3",
            "pattern": {
             "shape": ""
            }
           },
           "name": "Crime",
           "offsetgroup": "Crime",
           "orientation": "v",
           "showlegend": true,
           "textposition": "auto",
           "type": "bar",
           "x": [
            "Crime"
           ],
           "xaxis": "x",
           "y": [
            1
           ],
           "yaxis": "y"
          },
          {
           "alignmentgroup": "True",
           "hovertemplate": "Genre=%{x}<br>Year=1991<br>count=%{y}<extra></extra>",
           "ids": [
            "Documentary"
           ],
           "legendgroup": "Documentary",
           "marker": {
            "color": "#FF6692",
            "pattern": {
             "shape": ""
            }
           },
           "name": "Documentary",
           "offsetgroup": "Documentary",
           "orientation": "v",
           "showlegend": true,
           "textposition": "auto",
           "type": "bar",
           "x": [
            "Documentary"
           ],
           "xaxis": "x",
           "y": [
            1
           ],
           "yaxis": "y"
          },
          {
           "alignmentgroup": "True",
           "hovertemplate": "Genre=%{x}<br>Year=1991<br>count=%{y}<extra></extra>",
           "ids": [
            "Drama"
           ],
           "legendgroup": "Drama",
           "marker": {
            "color": "#B6E880",
            "pattern": {
             "shape": ""
            }
           },
           "name": "Drama",
           "offsetgroup": "Drama",
           "orientation": "v",
           "showlegend": true,
           "textposition": "auto",
           "type": "bar",
           "x": [
            "Drama"
           ],
           "xaxis": "x",
           "y": [
            19
           ],
           "yaxis": "y"
          },
          {
           "alignmentgroup": "True",
           "hovertemplate": "Genre=%{x}<br>Year=1991<br>count=%{y}<extra></extra>",
           "ids": [
            "Horror"
           ],
           "legendgroup": "Horror",
           "marker": {
            "color": "#FF97FF",
            "pattern": {
             "shape": ""
            }
           },
           "name": "Horror",
           "offsetgroup": "Horror",
           "orientation": "v",
           "showlegend": true,
           "textposition": "auto",
           "type": "bar",
           "x": [
            "Horror"
           ],
           "xaxis": "x",
           "y": [
            3
           ],
           "yaxis": "y"
          },
          {
           "alignmentgroup": "True",
           "hovertemplate": "Genre=%{x}<br>Year=1991<br>count=%{y}<extra></extra>",
           "ids": [
            "Mystery"
           ],
           "legendgroup": "Mystery",
           "marker": {
            "color": "#EF553B",
            "pattern": {
             "shape": ""
            }
           },
           "name": "Mystery",
           "offsetgroup": "Mystery",
           "orientation": "v",
           "showlegend": true,
           "textposition": "auto",
           "type": "bar",
           "x": [
            "Mystery"
           ],
           "xaxis": "x",
           "y": [
            2
           ],
           "yaxis": "y"
          },
          {
           "alignmentgroup": "True",
           "hovertemplate": "Genre=%{x}<br>Year=1991<br>count=%{y}<extra></extra>",
           "ids": [
            "Thriller"
           ],
           "legendgroup": "Thriller",
           "marker": {
            "color": "#FFA15A",
            "pattern": {
             "shape": ""
            }
           },
           "name": "Thriller",
           "offsetgroup": "Thriller",
           "orientation": "v",
           "showlegend": true,
           "textposition": "auto",
           "type": "bar",
           "x": [
            "Thriller"
           ],
           "xaxis": "x",
           "y": [
            2
           ],
           "yaxis": "y"
          }
         ],
         "name": "1991"
        },
        {
         "data": [
          {
           "alignmentgroup": "True",
           "hovertemplate": "Genre=%{x}<br>Year=1992<br>count=%{y}<extra></extra>",
           "ids": [
            "Action"
           ],
           "legendgroup": "Action",
           "marker": {
            "color": "#636efa",
            "pattern": {
             "shape": ""
            }
           },
           "name": "Action",
           "offsetgroup": "Action",
           "orientation": "v",
           "showlegend": true,
           "textposition": "auto",
           "type": "bar",
           "x": [
            "Action"
           ],
           "xaxis": "x",
           "y": [
            21
           ],
           "yaxis": "y"
          },
          {
           "alignmentgroup": "True",
           "hovertemplate": "Genre=%{x}<br>Year=1992<br>count=%{y}<extra></extra>",
           "ids": [
            "Adventure"
           ],
           "legendgroup": "Adventure",
           "marker": {
            "color": "#EF553B",
            "pattern": {
             "shape": ""
            }
           },
           "name": "Adventure",
           "offsetgroup": "Adventure",
           "orientation": "v",
           "showlegend": true,
           "textposition": "auto",
           "type": "bar",
           "x": [
            "Adventure"
           ],
           "xaxis": "x",
           "y": [
            2
           ],
           "yaxis": "y"
          },
          {
           "alignmentgroup": "True",
           "hovertemplate": "Genre=%{x}<br>Year=1992<br>count=%{y}<extra></extra>",
           "ids": [
            "Animation"
           ],
           "legendgroup": "Animation",
           "marker": {
            "color": "#00cc96",
            "pattern": {
             "shape": ""
            }
           },
           "name": "Animation",
           "offsetgroup": "Animation",
           "orientation": "v",
           "showlegend": true,
           "textposition": "auto",
           "type": "bar",
           "x": [
            "Animation"
           ],
           "xaxis": "x",
           "y": [
            3
           ],
           "yaxis": "y"
          },
          {
           "alignmentgroup": "True",
           "hovertemplate": "Genre=%{x}<br>Year=1992<br>count=%{y}<extra></extra>",
           "ids": [
            "Children's"
           ],
           "legendgroup": "Children's",
           "marker": {
            "color": "#ab63fa",
            "pattern": {
             "shape": ""
            }
           },
           "name": "Children's",
           "offsetgroup": "Children's",
           "orientation": "v",
           "showlegend": true,
           "textposition": "auto",
           "type": "bar",
           "x": [
            "Children's"
           ],
           "xaxis": "x",
           "y": [
            5
           ],
           "yaxis": "y"
          },
          {
           "alignmentgroup": "True",
           "hovertemplate": "Genre=%{x}<br>Year=1992<br>count=%{y}<extra></extra>",
           "ids": [
            "Comedy"
           ],
           "legendgroup": "Comedy",
           "marker": {
            "color": "#FFA15A",
            "pattern": {
             "shape": ""
            }
           },
           "name": "Comedy",
           "offsetgroup": "Comedy",
           "orientation": "v",
           "showlegend": true,
           "textposition": "auto",
           "type": "bar",
           "x": [
            "Comedy"
           ],
           "xaxis": "x",
           "y": [
            26
           ],
           "yaxis": "y"
          },
          {
           "alignmentgroup": "True",
           "hovertemplate": "Genre=%{x}<br>Year=1992<br>count=%{y}<extra></extra>",
           "ids": [
            "Crime"
           ],
           "legendgroup": "Crime",
           "marker": {
            "color": "#19d3f3",
            "pattern": {
             "shape": ""
            }
           },
           "name": "Crime",
           "offsetgroup": "Crime",
           "orientation": "v",
           "showlegend": true,
           "textposition": "auto",
           "type": "bar",
           "x": [
            "Crime"
           ],
           "xaxis": "x",
           "y": [
            4
           ],
           "yaxis": "y"
          },
          {
           "alignmentgroup": "True",
           "hovertemplate": "Genre=%{x}<br>Year=1992<br>count=%{y}<extra></extra>",
           "ids": [
            "Documentary"
           ],
           "legendgroup": "Documentary",
           "marker": {
            "color": "#FF6692",
            "pattern": {
             "shape": ""
            }
           },
           "name": "Documentary",
           "offsetgroup": "Documentary",
           "orientation": "v",
           "showlegend": true,
           "textposition": "auto",
           "type": "bar",
           "x": [
            "Documentary"
           ],
           "xaxis": "x",
           "y": [
            1
           ],
           "yaxis": "y"
          },
          {
           "alignmentgroup": "True",
           "hovertemplate": "Genre=%{x}<br>Year=1992<br>count=%{y}<extra></extra>",
           "ids": [
            "Drama"
           ],
           "legendgroup": "Drama",
           "marker": {
            "color": "#B6E880",
            "pattern": {
             "shape": ""
            }
           },
           "name": "Drama",
           "offsetgroup": "Drama",
           "orientation": "v",
           "showlegend": true,
           "textposition": "auto",
           "type": "bar",
           "x": [
            "Drama"
           ],
           "xaxis": "x",
           "y": [
            24
           ],
           "yaxis": "y"
          },
          {
           "alignmentgroup": "True",
           "hovertemplate": "Genre=%{x}<br>Year=1992<br>count=%{y}<extra></extra>",
           "ids": [
            "Horror"
           ],
           "legendgroup": "Horror",
           "marker": {
            "color": "#FF97FF",
            "pattern": {
             "shape": ""
            }
           },
           "name": "Horror",
           "offsetgroup": "Horror",
           "orientation": "v",
           "showlegend": true,
           "textposition": "auto",
           "type": "bar",
           "x": [
            "Horror"
           ],
           "xaxis": "x",
           "y": [
            9
           ],
           "yaxis": "y"
          },
          {
           "alignmentgroup": "True",
           "hovertemplate": "Genre=%{x}<br>Year=1992<br>count=%{y}<extra></extra>",
           "ids": [
            "Mystery"
           ],
           "legendgroup": "Mystery",
           "marker": {
            "color": "#EF553B",
            "pattern": {
             "shape": ""
            }
           },
           "name": "Mystery",
           "offsetgroup": "Mystery",
           "orientation": "v",
           "showlegend": true,
           "textposition": "auto",
           "type": "bar",
           "x": [
            "Mystery"
           ],
           "xaxis": "x",
           "y": [
            1
           ],
           "yaxis": "y"
          },
          {
           "alignmentgroup": "True",
           "hovertemplate": "Genre=%{x}<br>Year=1992<br>count=%{y}<extra></extra>",
           "ids": [
            "Sci-Fi"
           ],
           "legendgroup": "Sci-Fi",
           "marker": {
            "color": "#ab63fa",
            "pattern": {
             "shape": ""
            }
           },
           "name": "Sci-Fi",
           "offsetgroup": "Sci-Fi",
           "orientation": "v",
           "showlegend": true,
           "textposition": "auto",
           "type": "bar",
           "x": [
            "Sci-Fi"
           ],
           "xaxis": "x",
           "y": [
            1
           ],
           "yaxis": "y"
          },
          {
           "alignmentgroup": "True",
           "hovertemplate": "Genre=%{x}<br>Year=1992<br>count=%{y}<extra></extra>",
           "ids": [
            "Thriller"
           ],
           "legendgroup": "Thriller",
           "marker": {
            "color": "#FFA15A",
            "pattern": {
             "shape": ""
            }
           },
           "name": "Thriller",
           "offsetgroup": "Thriller",
           "orientation": "v",
           "showlegend": true,
           "textposition": "auto",
           "type": "bar",
           "x": [
            "Thriller"
           ],
           "xaxis": "x",
           "y": [
            4
           ],
           "yaxis": "y"
          },
          {
           "alignmentgroup": "True",
           "hovertemplate": "Genre=%{x}<br>Year=1992<br>count=%{y}<extra></extra>",
           "ids": [
            "Western"
           ],
           "legendgroup": "Western",
           "marker": {
            "color": "#19d3f3",
            "pattern": {
             "shape": ""
            }
           },
           "name": "Western",
           "offsetgroup": "Western",
           "orientation": "v",
           "showlegend": true,
           "textposition": "auto",
           "type": "bar",
           "x": [
            "Western"
           ],
           "xaxis": "x",
           "y": [
            1
           ],
           "yaxis": "y"
          }
         ],
         "name": "1992"
        },
        {
         "data": [
          {
           "alignmentgroup": "True",
           "hovertemplate": "Genre=%{x}<br>Year=1993<br>count=%{y}<extra></extra>",
           "ids": [
            "Action"
           ],
           "legendgroup": "Action",
           "marker": {
            "color": "#636efa",
            "pattern": {
             "shape": ""
            }
           },
           "name": "Action",
           "offsetgroup": "Action",
           "orientation": "v",
           "showlegend": true,
           "textposition": "auto",
           "type": "bar",
           "x": [
            "Action"
           ],
           "xaxis": "x",
           "y": [
            25
           ],
           "yaxis": "y"
          },
          {
           "alignmentgroup": "True",
           "hovertemplate": "Genre=%{x}<br>Year=1993<br>count=%{y}<extra></extra>",
           "ids": [
            "Adventure"
           ],
           "legendgroup": "Adventure",
           "marker": {
            "color": "#EF553B",
            "pattern": {
             "shape": ""
            }
           },
           "name": "Adventure",
           "offsetgroup": "Adventure",
           "orientation": "v",
           "showlegend": true,
           "textposition": "auto",
           "type": "bar",
           "x": [
            "Adventure"
           ],
           "xaxis": "x",
           "y": [
            4
           ],
           "yaxis": "y"
          },
          {
           "alignmentgroup": "True",
           "hovertemplate": "Genre=%{x}<br>Year=1993<br>count=%{y}<extra></extra>",
           "ids": [
            "Animation"
           ],
           "legendgroup": "Animation",
           "marker": {
            "color": "#00cc96",
            "pattern": {
             "shape": ""
            }
           },
           "name": "Animation",
           "offsetgroup": "Animation",
           "orientation": "v",
           "showlegend": true,
           "textposition": "auto",
           "type": "bar",
           "x": [
            "Animation"
           ],
           "xaxis": "x",
           "y": [
            4
           ],
           "yaxis": "y"
          },
          {
           "alignmentgroup": "True",
           "hovertemplate": "Genre=%{x}<br>Year=1993<br>count=%{y}<extra></extra>",
           "ids": [
            "Children's"
           ],
           "legendgroup": "Children's",
           "marker": {
            "color": "#ab63fa",
            "pattern": {
             "shape": ""
            }
           },
           "name": "Children's",
           "offsetgroup": "Children's",
           "orientation": "v",
           "showlegend": true,
           "textposition": "auto",
           "type": "bar",
           "x": [
            "Children's"
           ],
           "xaxis": "x",
           "y": [
            3
           ],
           "yaxis": "y"
          },
          {
           "alignmentgroup": "True",
           "hovertemplate": "Genre=%{x}<br>Year=1993<br>count=%{y}<extra></extra>",
           "ids": [
            "Comedy"
           ],
           "legendgroup": "Comedy",
           "marker": {
            "color": "#FFA15A",
            "pattern": {
             "shape": ""
            }
           },
           "name": "Comedy",
           "offsetgroup": "Comedy",
           "orientation": "v",
           "showlegend": true,
           "textposition": "auto",
           "type": "bar",
           "x": [
            "Comedy"
           ],
           "xaxis": "x",
           "y": [
            39
           ],
           "yaxis": "y"
          },
          {
           "alignmentgroup": "True",
           "hovertemplate": "Genre=%{x}<br>Year=1993<br>count=%{y}<extra></extra>",
           "ids": [
            "Crime"
           ],
           "legendgroup": "Crime",
           "marker": {
            "color": "#19d3f3",
            "pattern": {
             "shape": ""
            }
           },
           "name": "Crime",
           "offsetgroup": "Crime",
           "orientation": "v",
           "showlegend": true,
           "textposition": "auto",
           "type": "bar",
           "x": [
            "Crime"
           ],
           "xaxis": "x",
           "y": [
            4
           ],
           "yaxis": "y"
          },
          {
           "alignmentgroup": "True",
           "hovertemplate": "Genre=%{x}<br>Year=1993<br>count=%{y}<extra></extra>",
           "ids": [
            "Documentary"
           ],
           "legendgroup": "Documentary",
           "marker": {
            "color": "#FF6692",
            "pattern": {
             "shape": ""
            }
           },
           "name": "Documentary",
           "offsetgroup": "Documentary",
           "orientation": "v",
           "showlegend": true,
           "textposition": "auto",
           "type": "bar",
           "x": [
            "Documentary"
           ],
           "xaxis": "x",
           "y": [
            5
           ],
           "yaxis": "y"
          },
          {
           "alignmentgroup": "True",
           "hovertemplate": "Genre=%{x}<br>Year=1993<br>count=%{y}<extra></extra>",
           "ids": [
            "Drama"
           ],
           "legendgroup": "Drama",
           "marker": {
            "color": "#B6E880",
            "pattern": {
             "shape": ""
            }
           },
           "name": "Drama",
           "offsetgroup": "Drama",
           "orientation": "v",
           "showlegend": true,
           "textposition": "auto",
           "type": "bar",
           "x": [
            "Drama"
           ],
           "xaxis": "x",
           "y": [
            64
           ],
           "yaxis": "y"
          },
          {
           "alignmentgroup": "True",
           "hovertemplate": "Genre=%{x}<br>Year=1993<br>count=%{y}<extra></extra>",
           "ids": [
            "Horror"
           ],
           "legendgroup": "Horror",
           "marker": {
            "color": "#FF97FF",
            "pattern": {
             "shape": ""
            }
           },
           "name": "Horror",
           "offsetgroup": "Horror",
           "orientation": "v",
           "showlegend": true,
           "textposition": "auto",
           "type": "bar",
           "x": [
            "Horror"
           ],
           "xaxis": "x",
           "y": [
            6
           ],
           "yaxis": "y"
          },
          {
           "alignmentgroup": "True",
           "hovertemplate": "Genre=%{x}<br>Year=1993<br>count=%{y}<extra></extra>",
           "ids": [
            "Film-Noir"
           ],
           "legendgroup": "Film-Noir",
           "marker": {
            "color": "#FECB52",
            "pattern": {
             "shape": ""
            }
           },
           "name": "Film-Noir",
           "offsetgroup": "Film-Noir",
           "orientation": "v",
           "showlegend": true,
           "textposition": "auto",
           "type": "bar",
           "x": [
            "Film-Noir"
           ],
           "xaxis": "x",
           "y": [
            1
           ],
           "yaxis": "y"
          },
          {
           "alignmentgroup": "True",
           "hovertemplate": "Genre=%{x}<br>Year=1993<br>count=%{y}<extra></extra>",
           "ids": [
            "Mystery"
           ],
           "legendgroup": "Mystery",
           "marker": {
            "color": "#EF553B",
            "pattern": {
             "shape": ""
            }
           },
           "name": "Mystery",
           "offsetgroup": "Mystery",
           "orientation": "v",
           "showlegend": true,
           "textposition": "auto",
           "type": "bar",
           "x": [
            "Mystery"
           ],
           "xaxis": "x",
           "y": [
            1
           ],
           "yaxis": "y"
          },
          {
           "alignmentgroup": "True",
           "hovertemplate": "Genre=%{x}<br>Year=1993<br>count=%{y}<extra></extra>",
           "ids": [
            "Sci-Fi"
           ],
           "legendgroup": "Sci-Fi",
           "marker": {
            "color": "#ab63fa",
            "pattern": {
             "shape": ""
            }
           },
           "name": "Sci-Fi",
           "offsetgroup": "Sci-Fi",
           "orientation": "v",
           "showlegend": true,
           "textposition": "auto",
           "type": "bar",
           "x": [
            "Sci-Fi"
           ],
           "xaxis": "x",
           "y": [
            2
           ],
           "yaxis": "y"
          },
          {
           "alignmentgroup": "True",
           "hovertemplate": "Genre=%{x}<br>Year=1993<br>count=%{y}<extra></extra>",
           "ids": [
            "Thriller"
           ],
           "legendgroup": "Thriller",
           "marker": {
            "color": "#FFA15A",
            "pattern": {
             "shape": ""
            }
           },
           "name": "Thriller",
           "offsetgroup": "Thriller",
           "orientation": "v",
           "showlegend": true,
           "textposition": "auto",
           "type": "bar",
           "x": [
            "Thriller"
           ],
           "xaxis": "x",
           "y": [
            5
           ],
           "yaxis": "y"
          },
          {
           "alignmentgroup": "True",
           "hovertemplate": "Genre=%{x}<br>Year=1993<br>count=%{y}<extra></extra>",
           "ids": [
            "Western"
           ],
           "legendgroup": "Western",
           "marker": {
            "color": "#19d3f3",
            "pattern": {
             "shape": ""
            }
           },
           "name": "Western",
           "offsetgroup": "Western",
           "orientation": "v",
           "showlegend": true,
           "textposition": "auto",
           "type": "bar",
           "x": [
            "Western"
           ],
           "xaxis": "x",
           "y": [
            1
           ],
           "yaxis": "y"
          },
          {
           "alignmentgroup": "True",
           "hovertemplate": "Genre=%{x}<br>Year=1993<br>count=%{y}<extra></extra>",
           "ids": [
            "War"
           ],
           "legendgroup": "War",
           "marker": {
            "color": "#B6E880",
            "pattern": {
             "shape": ""
            }
           },
           "name": "War",
           "offsetgroup": "War",
           "orientation": "v",
           "showlegend": true,
           "textposition": "auto",
           "type": "bar",
           "x": [
            "War"
           ],
           "xaxis": "x",
           "y": [
            1
           ],
           "yaxis": "y"
          }
         ],
         "name": "1993"
        },
        {
         "data": [
          {
           "alignmentgroup": "True",
           "hovertemplate": "Genre=%{x}<br>Year=1994<br>count=%{y}<extra></extra>",
           "ids": [
            "Action"
           ],
           "legendgroup": "Action",
           "marker": {
            "color": "#636efa",
            "pattern": {
             "shape": ""
            }
           },
           "name": "Action",
           "offsetgroup": "Action",
           "orientation": "v",
           "showlegend": true,
           "textposition": "auto",
           "type": "bar",
           "x": [
            "Action"
           ],
           "xaxis": "x",
           "y": [
            32
           ],
           "yaxis": "y"
          },
          {
           "alignmentgroup": "True",
           "hovertemplate": "Genre=%{x}<br>Year=1994<br>count=%{y}<extra></extra>",
           "ids": [
            "Adventure"
           ],
           "legendgroup": "Adventure",
           "marker": {
            "color": "#EF553B",
            "pattern": {
             "shape": ""
            }
           },
           "name": "Adventure",
           "offsetgroup": "Adventure",
           "orientation": "v",
           "showlegend": true,
           "textposition": "auto",
           "type": "bar",
           "x": [
            "Adventure"
           ],
           "xaxis": "x",
           "y": [
            8
           ],
           "yaxis": "y"
          },
          {
           "alignmentgroup": "True",
           "hovertemplate": "Genre=%{x}<br>Year=1994<br>count=%{y}<extra></extra>",
           "ids": [
            "Animation"
           ],
           "legendgroup": "Animation",
           "marker": {
            "color": "#00cc96",
            "pattern": {
             "shape": ""
            }
           },
           "name": "Animation",
           "offsetgroup": "Animation",
           "orientation": "v",
           "showlegend": true,
           "textposition": "auto",
           "type": "bar",
           "x": [
            "Animation"
           ],
           "xaxis": "x",
           "y": [
            4
           ],
           "yaxis": "y"
          },
          {
           "alignmentgroup": "True",
           "hovertemplate": "Genre=%{x}<br>Year=1994<br>count=%{y}<extra></extra>",
           "ids": [
            "Children's"
           ],
           "legendgroup": "Children's",
           "marker": {
            "color": "#ab63fa",
            "pattern": {
             "shape": ""
            }
           },
           "name": "Children's",
           "offsetgroup": "Children's",
           "orientation": "v",
           "showlegend": true,
           "textposition": "auto",
           "type": "bar",
           "x": [
            "Children's"
           ],
           "xaxis": "x",
           "y": [
            9
           ],
           "yaxis": "y"
          },
          {
           "alignmentgroup": "True",
           "hovertemplate": "Genre=%{x}<br>Year=1994<br>count=%{y}<extra></extra>",
           "ids": [
            "Comedy"
           ],
           "legendgroup": "Comedy",
           "marker": {
            "color": "#FFA15A",
            "pattern": {
             "shape": ""
            }
           },
           "name": "Comedy",
           "offsetgroup": "Comedy",
           "orientation": "v",
           "showlegend": true,
           "textposition": "auto",
           "type": "bar",
           "x": [
            "Comedy"
           ],
           "xaxis": "x",
           "y": [
            80
           ],
           "yaxis": "y"
          },
          {
           "alignmentgroup": "True",
           "hovertemplate": "Genre=%{x}<br>Year=1994<br>count=%{y}<extra></extra>",
           "ids": [
            "Crime"
           ],
           "legendgroup": "Crime",
           "marker": {
            "color": "#19d3f3",
            "pattern": {
             "shape": ""
            }
           },
           "name": "Crime",
           "offsetgroup": "Crime",
           "orientation": "v",
           "showlegend": true,
           "textposition": "auto",
           "type": "bar",
           "x": [
            "Crime"
           ],
           "xaxis": "x",
           "y": [
            7
           ],
           "yaxis": "y"
          },
          {
           "alignmentgroup": "True",
           "hovertemplate": "Genre=%{x}<br>Year=1994<br>count=%{y}<extra></extra>",
           "ids": [
            "Documentary"
           ],
           "legendgroup": "Documentary",
           "marker": {
            "color": "#FF6692",
            "pattern": {
             "shape": ""
            }
           },
           "name": "Documentary",
           "offsetgroup": "Documentary",
           "orientation": "v",
           "showlegend": true,
           "textposition": "auto",
           "type": "bar",
           "x": [
            "Documentary"
           ],
           "xaxis": "x",
           "y": [
            11
           ],
           "yaxis": "y"
          },
          {
           "alignmentgroup": "True",
           "hovertemplate": "Genre=%{x}<br>Year=1994<br>count=%{y}<extra></extra>",
           "ids": [
            "Drama"
           ],
           "legendgroup": "Drama",
           "marker": {
            "color": "#B6E880",
            "pattern": {
             "shape": ""
            }
           },
           "name": "Drama",
           "offsetgroup": "Drama",
           "orientation": "v",
           "showlegend": true,
           "textposition": "auto",
           "type": "bar",
           "x": [
            "Drama"
           ],
           "xaxis": "x",
           "y": [
            87
           ],
           "yaxis": "y"
          },
          {
           "alignmentgroup": "True",
           "hovertemplate": "Genre=%{x}<br>Year=1994<br>count=%{y}<extra></extra>",
           "ids": [
            "Horror"
           ],
           "legendgroup": "Horror",
           "marker": {
            "color": "#FF97FF",
            "pattern": {
             "shape": ""
            }
           },
           "name": "Horror",
           "offsetgroup": "Horror",
           "orientation": "v",
           "showlegend": true,
           "textposition": "auto",
           "type": "bar",
           "x": [
            "Horror"
           ],
           "xaxis": "x",
           "y": [
            7
           ],
           "yaxis": "y"
          },
          {
           "alignmentgroup": "True",
           "hovertemplate": "Genre=%{x}<br>Year=1994<br>count=%{y}<extra></extra>",
           "ids": [
            "Romance"
           ],
           "legendgroup": "Romance",
           "marker": {
            "color": "#00cc96",
            "pattern": {
             "shape": ""
            }
           },
           "name": "Romance",
           "offsetgroup": "Romance",
           "orientation": "v",
           "showlegend": true,
           "textposition": "auto",
           "type": "bar",
           "x": [
            "Romance"
           ],
           "xaxis": "x",
           "y": [
            3
           ],
           "yaxis": "y"
          },
          {
           "alignmentgroup": "True",
           "hovertemplate": "Genre=%{x}<br>Year=1994<br>count=%{y}<extra></extra>",
           "ids": [
            "Thriller"
           ],
           "legendgroup": "Thriller",
           "marker": {
            "color": "#FFA15A",
            "pattern": {
             "shape": ""
            }
           },
           "name": "Thriller",
           "offsetgroup": "Thriller",
           "orientation": "v",
           "showlegend": true,
           "textposition": "auto",
           "type": "bar",
           "x": [
            "Thriller"
           ],
           "xaxis": "x",
           "y": [
            7
           ],
           "yaxis": "y"
          },
          {
           "alignmentgroup": "True",
           "hovertemplate": "Genre=%{x}<br>Year=1994<br>count=%{y}<extra></extra>",
           "ids": [
            "Western"
           ],
           "legendgroup": "Western",
           "marker": {
            "color": "#19d3f3",
            "pattern": {
             "shape": ""
            }
           },
           "name": "Western",
           "offsetgroup": "Western",
           "orientation": "v",
           "showlegend": true,
           "textposition": "auto",
           "type": "bar",
           "x": [
            "Western"
           ],
           "xaxis": "x",
           "y": [
            2
           ],
           "yaxis": "y"
          }
         ],
         "name": "1994"
        },
        {
         "data": [
          {
           "alignmentgroup": "True",
           "hovertemplate": "Genre=%{x}<br>Year=1995<br>count=%{y}<extra></extra>",
           "ids": [
            "Action"
           ],
           "legendgroup": "Action",
           "marker": {
            "color": "#636efa",
            "pattern": {
             "shape": ""
            }
           },
           "name": "Action",
           "offsetgroup": "Action",
           "orientation": "v",
           "showlegend": true,
           "textposition": "auto",
           "type": "bar",
           "x": [
            "Action"
           ],
           "xaxis": "x",
           "y": [
            45
           ],
           "yaxis": "y"
          },
          {
           "alignmentgroup": "True",
           "hovertemplate": "Genre=%{x}<br>Year=1995<br>count=%{y}<extra></extra>",
           "ids": [
            "Adventure"
           ],
           "legendgroup": "Adventure",
           "marker": {
            "color": "#EF553B",
            "pattern": {
             "shape": ""
            }
           },
           "name": "Adventure",
           "offsetgroup": "Adventure",
           "orientation": "v",
           "showlegend": true,
           "textposition": "auto",
           "type": "bar",
           "x": [
            "Adventure"
           ],
           "xaxis": "x",
           "y": [
            13
           ],
           "yaxis": "y"
          },
          {
           "alignmentgroup": "True",
           "hovertemplate": "Genre=%{x}<br>Year=1995<br>count=%{y}<extra></extra>",
           "ids": [
            "Animation"
           ],
           "legendgroup": "Animation",
           "marker": {
            "color": "#00cc96",
            "pattern": {
             "shape": ""
            }
           },
           "name": "Animation",
           "offsetgroup": "Animation",
           "orientation": "v",
           "showlegend": true,
           "textposition": "auto",
           "type": "bar",
           "x": [
            "Animation"
           ],
           "xaxis": "x",
           "y": [
            8
           ],
           "yaxis": "y"
          },
          {
           "alignmentgroup": "True",
           "hovertemplate": "Genre=%{x}<br>Year=1995<br>count=%{y}<extra></extra>",
           "ids": [
            "Children's"
           ],
           "legendgroup": "Children's",
           "marker": {
            "color": "#ab63fa",
            "pattern": {
             "shape": ""
            }
           },
           "name": "Children's",
           "offsetgroup": "Children's",
           "orientation": "v",
           "showlegend": true,
           "textposition": "auto",
           "type": "bar",
           "x": [
            "Children's"
           ],
           "xaxis": "x",
           "y": [
            5
           ],
           "yaxis": "y"
          },
          {
           "alignmentgroup": "True",
           "hovertemplate": "Genre=%{x}<br>Year=1995<br>count=%{y}<extra></extra>",
           "ids": [
            "Comedy"
           ],
           "legendgroup": "Comedy",
           "marker": {
            "color": "#FFA15A",
            "pattern": {
             "shape": ""
            }
           },
           "name": "Comedy",
           "offsetgroup": "Comedy",
           "orientation": "v",
           "showlegend": true,
           "textposition": "auto",
           "type": "bar",
           "x": [
            "Comedy"
           ],
           "xaxis": "x",
           "y": [
            79
           ],
           "yaxis": "y"
          },
          {
           "alignmentgroup": "True",
           "hovertemplate": "Genre=%{x}<br>Year=1995<br>count=%{y}<extra></extra>",
           "ids": [
            "Crime"
           ],
           "legendgroup": "Crime",
           "marker": {
            "color": "#19d3f3",
            "pattern": {
             "shape": ""
            }
           },
           "name": "Crime",
           "offsetgroup": "Crime",
           "orientation": "v",
           "showlegend": true,
           "textposition": "auto",
           "type": "bar",
           "x": [
            "Crime"
           ],
           "xaxis": "x",
           "y": [
            11
           ],
           "yaxis": "y"
          },
          {
           "alignmentgroup": "True",
           "hovertemplate": "Genre=%{x}<br>Year=1995<br>count=%{y}<extra></extra>",
           "ids": [
            "Documentary"
           ],
           "legendgroup": "Documentary",
           "marker": {
            "color": "#FF6692",
            "pattern": {
             "shape": ""
            }
           },
           "name": "Documentary",
           "offsetgroup": "Documentary",
           "orientation": "v",
           "showlegend": true,
           "textposition": "auto",
           "type": "bar",
           "x": [
            "Documentary"
           ],
           "xaxis": "x",
           "y": [
            22
           ],
           "yaxis": "y"
          },
          {
           "alignmentgroup": "True",
           "hovertemplate": "Genre=%{x}<br>Year=1995<br>count=%{y}<extra></extra>",
           "ids": [
            "Drama"
           ],
           "legendgroup": "Drama",
           "marker": {
            "color": "#B6E880",
            "pattern": {
             "shape": ""
            }
           },
           "name": "Drama",
           "offsetgroup": "Drama",
           "orientation": "v",
           "showlegend": true,
           "textposition": "auto",
           "type": "bar",
           "x": [
            "Drama"
           ],
           "xaxis": "x",
           "y": [
            118
           ],
           "yaxis": "y"
          },
          {
           "alignmentgroup": "True",
           "hovertemplate": "Genre=%{x}<br>Year=1995<br>count=%{y}<extra></extra>",
           "ids": [
            "Horror"
           ],
           "legendgroup": "Horror",
           "marker": {
            "color": "#FF97FF",
            "pattern": {
             "shape": ""
            }
           },
           "name": "Horror",
           "offsetgroup": "Horror",
           "orientation": "v",
           "showlegend": true,
           "textposition": "auto",
           "type": "bar",
           "x": [
            "Horror"
           ],
           "xaxis": "x",
           "y": [
            13
           ],
           "yaxis": "y"
          },
          {
           "alignmentgroup": "True",
           "hovertemplate": "Genre=%{x}<br>Year=1995<br>count=%{y}<extra></extra>",
           "ids": [
            "Mystery"
           ],
           "legendgroup": "Mystery",
           "marker": {
            "color": "#EF553B",
            "pattern": {
             "shape": ""
            }
           },
           "name": "Mystery",
           "offsetgroup": "Mystery",
           "orientation": "v",
           "showlegend": true,
           "textposition": "auto",
           "type": "bar",
           "x": [
            "Mystery"
           ],
           "xaxis": "x",
           "y": [
            4
           ],
           "yaxis": "y"
          },
          {
           "alignmentgroup": "True",
           "hovertemplate": "Genre=%{x}<br>Year=1995<br>count=%{y}<extra></extra>",
           "ids": [
            "Romance"
           ],
           "legendgroup": "Romance",
           "marker": {
            "color": "#00cc96",
            "pattern": {
             "shape": ""
            }
           },
           "name": "Romance",
           "offsetgroup": "Romance",
           "orientation": "v",
           "showlegend": true,
           "textposition": "auto",
           "type": "bar",
           "x": [
            "Romance"
           ],
           "xaxis": "x",
           "y": [
            5
           ],
           "yaxis": "y"
          },
          {
           "alignmentgroup": "True",
           "hovertemplate": "Genre=%{x}<br>Year=1995<br>count=%{y}<extra></extra>",
           "ids": [
            "Sci-Fi"
           ],
           "legendgroup": "Sci-Fi",
           "marker": {
            "color": "#ab63fa",
            "pattern": {
             "shape": ""
            }
           },
           "name": "Sci-Fi",
           "offsetgroup": "Sci-Fi",
           "orientation": "v",
           "showlegend": true,
           "textposition": "auto",
           "type": "bar",
           "x": [
            "Sci-Fi"
           ],
           "xaxis": "x",
           "y": [
            3
           ],
           "yaxis": "y"
          },
          {
           "alignmentgroup": "True",
           "hovertemplate": "Genre=%{x}<br>Year=1995<br>count=%{y}<extra></extra>",
           "ids": [
            "Thriller"
           ],
           "legendgroup": "Thriller",
           "marker": {
            "color": "#FFA15A",
            "pattern": {
             "shape": ""
            }
           },
           "name": "Thriller",
           "offsetgroup": "Thriller",
           "orientation": "v",
           "showlegend": true,
           "textposition": "auto",
           "type": "bar",
           "x": [
            "Thriller"
           ],
           "xaxis": "x",
           "y": [
            10
           ],
           "yaxis": "y"
          },
          {
           "alignmentgroup": "True",
           "hovertemplate": "Genre=%{x}<br>Year=1995<br>count=%{y}<extra></extra>",
           "ids": [
            "Western"
           ],
           "legendgroup": "Western",
           "marker": {
            "color": "#19d3f3",
            "pattern": {
             "shape": ""
            }
           },
           "name": "Western",
           "offsetgroup": "Western",
           "orientation": "v",
           "showlegend": true,
           "textposition": "auto",
           "type": "bar",
           "x": [
            "Western"
           ],
           "xaxis": "x",
           "y": [
            2
           ],
           "yaxis": "y"
          },
          {
           "alignmentgroup": "True",
           "hovertemplate": "Genre=%{x}<br>Year=1995<br>count=%{y}<extra></extra>",
           "ids": [
            "Musical"
           ],
           "legendgroup": "Musical",
           "marker": {
            "color": "#FF6692",
            "pattern": {
             "shape": ""
            }
           },
           "name": "Musical",
           "offsetgroup": "Musical",
           "orientation": "v",
           "showlegend": true,
           "textposition": "auto",
           "type": "bar",
           "x": [
            "Musical"
           ],
           "xaxis": "x",
           "y": [
            1
           ],
           "yaxis": "y"
          },
          {
           "alignmentgroup": "True",
           "hovertemplate": "Genre=%{x}<br>Year=1995<br>count=%{y}<extra></extra>",
           "ids": [
            "War"
           ],
           "legendgroup": "War",
           "marker": {
            "color": "#B6E880",
            "pattern": {
             "shape": ""
            }
           },
           "name": "War",
           "offsetgroup": "War",
           "orientation": "v",
           "showlegend": true,
           "textposition": "auto",
           "type": "bar",
           "x": [
            "War"
           ],
           "xaxis": "x",
           "y": [
            3
           ],
           "yaxis": "y"
          }
         ],
         "name": "1995"
        },
        {
         "data": [
          {
           "alignmentgroup": "True",
           "hovertemplate": "Genre=%{x}<br>Year=1996<br>count=%{y}<extra></extra>",
           "ids": [
            "Action"
           ],
           "legendgroup": "Action",
           "marker": {
            "color": "#636efa",
            "pattern": {
             "shape": ""
            }
           },
           "name": "Action",
           "offsetgroup": "Action",
           "orientation": "v",
           "showlegend": true,
           "textposition": "auto",
           "type": "bar",
           "x": [
            "Action"
           ],
           "xaxis": "x",
           "y": [
            37
           ],
           "yaxis": "y"
          },
          {
           "alignmentgroup": "True",
           "hovertemplate": "Genre=%{x}<br>Year=1996<br>count=%{y}<extra></extra>",
           "ids": [
            "Adventure"
           ],
           "legendgroup": "Adventure",
           "marker": {
            "color": "#EF553B",
            "pattern": {
             "shape": ""
            }
           },
           "name": "Adventure",
           "offsetgroup": "Adventure",
           "orientation": "v",
           "showlegend": true,
           "textposition": "auto",
           "type": "bar",
           "x": [
            "Adventure"
           ],
           "xaxis": "x",
           "y": [
            10
           ],
           "yaxis": "y"
          },
          {
           "alignmentgroup": "True",
           "hovertemplate": "Genre=%{x}<br>Year=1996<br>count=%{y}<extra></extra>",
           "ids": [
            "Animation"
           ],
           "legendgroup": "Animation",
           "marker": {
            "color": "#00cc96",
            "pattern": {
             "shape": ""
            }
           },
           "name": "Animation",
           "offsetgroup": "Animation",
           "orientation": "v",
           "showlegend": true,
           "textposition": "auto",
           "type": "bar",
           "x": [
            "Animation"
           ],
           "xaxis": "x",
           "y": [
            6
           ],
           "yaxis": "y"
          },
          {
           "alignmentgroup": "True",
           "hovertemplate": "Genre=%{x}<br>Year=1996<br>count=%{y}<extra></extra>",
           "ids": [
            "Children's"
           ],
           "legendgroup": "Children's",
           "marker": {
            "color": "#ab63fa",
            "pattern": {
             "shape": ""
            }
           },
           "name": "Children's",
           "offsetgroup": "Children's",
           "orientation": "v",
           "showlegend": true,
           "textposition": "auto",
           "type": "bar",
           "x": [
            "Children's"
           ],
           "xaxis": "x",
           "y": [
            8
           ],
           "yaxis": "y"
          },
          {
           "alignmentgroup": "True",
           "hovertemplate": "Genre=%{x}<br>Year=1996<br>count=%{y}<extra></extra>",
           "ids": [
            "Comedy"
           ],
           "legendgroup": "Comedy",
           "marker": {
            "color": "#FFA15A",
            "pattern": {
             "shape": ""
            }
           },
           "name": "Comedy",
           "offsetgroup": "Comedy",
           "orientation": "v",
           "showlegend": true,
           "textposition": "auto",
           "type": "bar",
           "x": [
            "Comedy"
           ],
           "xaxis": "x",
           "y": [
            101
           ],
           "yaxis": "y"
          },
          {
           "alignmentgroup": "True",
           "hovertemplate": "Genre=%{x}<br>Year=1996<br>count=%{y}<extra></extra>",
           "ids": [
            "Crime"
           ],
           "legendgroup": "Crime",
           "marker": {
            "color": "#19d3f3",
            "pattern": {
             "shape": ""
            }
           },
           "name": "Crime",
           "offsetgroup": "Crime",
           "orientation": "v",
           "showlegend": true,
           "textposition": "auto",
           "type": "bar",
           "x": [
            "Crime"
           ],
           "xaxis": "x",
           "y": [
            18
           ],
           "yaxis": "y"
          },
          {
           "alignmentgroup": "True",
           "hovertemplate": "Genre=%{x}<br>Year=1996<br>count=%{y}<extra></extra>",
           "ids": [
            "Documentary"
           ],
           "legendgroup": "Documentary",
           "marker": {
            "color": "#FF6692",
            "pattern": {
             "shape": ""
            }
           },
           "name": "Documentary",
           "offsetgroup": "Documentary",
           "orientation": "v",
           "showlegend": true,
           "textposition": "auto",
           "type": "bar",
           "x": [
            "Documentary"
           ],
           "xaxis": "x",
           "y": [
            19
           ],
           "yaxis": "y"
          },
          {
           "alignmentgroup": "True",
           "hovertemplate": "Genre=%{x}<br>Year=1996<br>count=%{y}<extra></extra>",
           "ids": [
            "Drama"
           ],
           "legendgroup": "Drama",
           "marker": {
            "color": "#B6E880",
            "pattern": {
             "shape": ""
            }
           },
           "name": "Drama",
           "offsetgroup": "Drama",
           "orientation": "v",
           "showlegend": true,
           "textposition": "auto",
           "type": "bar",
           "x": [
            "Drama"
           ],
           "xaxis": "x",
           "y": [
            118
           ],
           "yaxis": "y"
          },
          {
           "alignmentgroup": "True",
           "hovertemplate": "Genre=%{x}<br>Year=1996<br>count=%{y}<extra></extra>",
           "ids": [
            "Horror"
           ],
           "legendgroup": "Horror",
           "marker": {
            "color": "#FF97FF",
            "pattern": {
             "shape": ""
            }
           },
           "name": "Horror",
           "offsetgroup": "Horror",
           "orientation": "v",
           "showlegend": true,
           "textposition": "auto",
           "type": "bar",
           "x": [
            "Horror"
           ],
           "xaxis": "x",
           "y": [
            7
           ],
           "yaxis": "y"
          },
          {
           "alignmentgroup": "True",
           "hovertemplate": "Genre=%{x}<br>Year=1996<br>count=%{y}<extra></extra>",
           "ids": [
            "Mystery"
           ],
           "legendgroup": "Mystery",
           "marker": {
            "color": "#EF553B",
            "pattern": {
             "shape": ""
            }
           },
           "name": "Mystery",
           "offsetgroup": "Mystery",
           "orientation": "v",
           "showlegend": true,
           "textposition": "auto",
           "type": "bar",
           "x": [
            "Mystery"
           ],
           "xaxis": "x",
           "y": [
            2
           ],
           "yaxis": "y"
          },
          {
           "alignmentgroup": "True",
           "hovertemplate": "Genre=%{x}<br>Year=1996<br>count=%{y}<extra></extra>",
           "ids": [
            "Romance"
           ],
           "legendgroup": "Romance",
           "marker": {
            "color": "#00cc96",
            "pattern": {
             "shape": ""
            }
           },
           "name": "Romance",
           "offsetgroup": "Romance",
           "orientation": "v",
           "showlegend": true,
           "textposition": "auto",
           "type": "bar",
           "x": [
            "Romance"
           ],
           "xaxis": "x",
           "y": [
            12
           ],
           "yaxis": "y"
          },
          {
           "alignmentgroup": "True",
           "hovertemplate": "Genre=%{x}<br>Year=1996<br>count=%{y}<extra></extra>",
           "ids": [
            "Sci-Fi"
           ],
           "legendgroup": "Sci-Fi",
           "marker": {
            "color": "#ab63fa",
            "pattern": {
             "shape": ""
            }
           },
           "name": "Sci-Fi",
           "offsetgroup": "Sci-Fi",
           "orientation": "v",
           "showlegend": true,
           "textposition": "auto",
           "type": "bar",
           "x": [
            "Sci-Fi"
           ],
           "xaxis": "x",
           "y": [
            2
           ],
           "yaxis": "y"
          },
          {
           "alignmentgroup": "True",
           "hovertemplate": "Genre=%{x}<br>Year=1996<br>count=%{y}<extra></extra>",
           "ids": [
            "Thriller"
           ],
           "legendgroup": "Thriller",
           "marker": {
            "color": "#FFA15A",
            "pattern": {
             "shape": ""
            }
           },
           "name": "Thriller",
           "offsetgroup": "Thriller",
           "orientation": "v",
           "showlegend": true,
           "textposition": "auto",
           "type": "bar",
           "x": [
            "Thriller"
           ],
           "xaxis": "x",
           "y": [
            4
           ],
           "yaxis": "y"
          },
          {
           "alignmentgroup": "True",
           "hovertemplate": "Genre=%{x}<br>Year=1996<br>count=%{y}<extra></extra>",
           "ids": [
            "War"
           ],
           "legendgroup": "War",
           "marker": {
            "color": "#B6E880",
            "pattern": {
             "shape": ""
            }
           },
           "name": "War",
           "offsetgroup": "War",
           "orientation": "v",
           "showlegend": true,
           "textposition": "auto",
           "type": "bar",
           "x": [
            "War"
           ],
           "xaxis": "x",
           "y": [
            1
           ],
           "yaxis": "y"
          }
         ],
         "name": "1996"
        },
        {
         "data": [
          {
           "alignmentgroup": "True",
           "hovertemplate": "Genre=%{x}<br>Year=1997<br>count=%{y}<extra></extra>",
           "ids": [
            "Action"
           ],
           "legendgroup": "Action",
           "marker": {
            "color": "#636efa",
            "pattern": {
             "shape": ""
            }
           },
           "name": "Action",
           "offsetgroup": "Action",
           "orientation": "v",
           "showlegend": true,
           "textposition": "auto",
           "type": "bar",
           "x": [
            "Action"
           ],
           "xaxis": "x",
           "y": [
            43
           ],
           "yaxis": "y"
          },
          {
           "alignmentgroup": "True",
           "hovertemplate": "Genre=%{x}<br>Year=1997<br>count=%{y}<extra></extra>",
           "ids": [
            "Adventure"
           ],
           "legendgroup": "Adventure",
           "marker": {
            "color": "#EF553B",
            "pattern": {
             "shape": ""
            }
           },
           "name": "Adventure",
           "offsetgroup": "Adventure",
           "orientation": "v",
           "showlegend": true,
           "textposition": "auto",
           "type": "bar",
           "x": [
            "Adventure"
           ],
           "xaxis": "x",
           "y": [
            10
           ],
           "yaxis": "y"
          },
          {
           "alignmentgroup": "True",
           "hovertemplate": "Genre=%{x}<br>Year=1997<br>count=%{y}<extra></extra>",
           "ids": [
            "Animation"
           ],
           "legendgroup": "Animation",
           "marker": {
            "color": "#00cc96",
            "pattern": {
             "shape": ""
            }
           },
           "name": "Animation",
           "offsetgroup": "Animation",
           "orientation": "v",
           "showlegend": true,
           "textposition": "auto",
           "type": "bar",
           "x": [
            "Animation"
           ],
           "xaxis": "x",
           "y": [
            4
           ],
           "yaxis": "y"
          },
          {
           "alignmentgroup": "True",
           "hovertemplate": "Genre=%{x}<br>Year=1997<br>count=%{y}<extra></extra>",
           "ids": [
            "Children's"
           ],
           "legendgroup": "Children's",
           "marker": {
            "color": "#ab63fa",
            "pattern": {
             "shape": ""
            }
           },
           "name": "Children's",
           "offsetgroup": "Children's",
           "orientation": "v",
           "showlegend": true,
           "textposition": "auto",
           "type": "bar",
           "x": [
            "Children's"
           ],
           "xaxis": "x",
           "y": [
            11
           ],
           "yaxis": "y"
          },
          {
           "alignmentgroup": "True",
           "hovertemplate": "Genre=%{x}<br>Year=1997<br>count=%{y}<extra></extra>",
           "ids": [
            "Comedy"
           ],
           "legendgroup": "Comedy",
           "marker": {
            "color": "#FFA15A",
            "pattern": {
             "shape": ""
            }
           },
           "name": "Comedy",
           "offsetgroup": "Comedy",
           "orientation": "v",
           "showlegend": true,
           "textposition": "auto",
           "type": "bar",
           "x": [
            "Comedy"
           ],
           "xaxis": "x",
           "y": [
            83
           ],
           "yaxis": "y"
          },
          {
           "alignmentgroup": "True",
           "hovertemplate": "Genre=%{x}<br>Year=1997<br>count=%{y}<extra></extra>",
           "ids": [
            "Crime"
           ],
           "legendgroup": "Crime",
           "marker": {
            "color": "#19d3f3",
            "pattern": {
             "shape": ""
            }
           },
           "name": "Crime",
           "offsetgroup": "Crime",
           "orientation": "v",
           "showlegend": true,
           "textposition": "auto",
           "type": "bar",
           "x": [
            "Crime"
           ],
           "xaxis": "x",
           "y": [
            17
           ],
           "yaxis": "y"
          },
          {
           "alignmentgroup": "True",
           "hovertemplate": "Genre=%{x}<br>Year=1997<br>count=%{y}<extra></extra>",
           "ids": [
            "Documentary"
           ],
           "legendgroup": "Documentary",
           "marker": {
            "color": "#FF6692",
            "pattern": {
             "shape": ""
            }
           },
           "name": "Documentary",
           "offsetgroup": "Documentary",
           "orientation": "v",
           "showlegend": true,
           "textposition": "auto",
           "type": "bar",
           "x": [
            "Documentary"
           ],
           "xaxis": "x",
           "y": [
            10
           ],
           "yaxis": "y"
          },
          {
           "alignmentgroup": "True",
           "hovertemplate": "Genre=%{x}<br>Year=1997<br>count=%{y}<extra></extra>",
           "ids": [
            "Drama"
           ],
           "legendgroup": "Drama",
           "marker": {
            "color": "#B6E880",
            "pattern": {
             "shape": ""
            }
           },
           "name": "Drama",
           "offsetgroup": "Drama",
           "orientation": "v",
           "showlegend": true,
           "textposition": "auto",
           "type": "bar",
           "x": [
            "Drama"
           ],
           "xaxis": "x",
           "y": [
            100
           ],
           "yaxis": "y"
          },
          {
           "alignmentgroup": "True",
           "hovertemplate": "Genre=%{x}<br>Year=1997<br>count=%{y}<extra></extra>",
           "ids": [
            "Horror"
           ],
           "legendgroup": "Horror",
           "marker": {
            "color": "#FF97FF",
            "pattern": {
             "shape": ""
            }
           },
           "name": "Horror",
           "offsetgroup": "Horror",
           "orientation": "v",
           "showlegend": true,
           "textposition": "auto",
           "type": "bar",
           "x": [
            "Horror"
           ],
           "xaxis": "x",
           "y": [
            7
           ],
           "yaxis": "y"
          },
          {
           "alignmentgroup": "True",
           "hovertemplate": "Genre=%{x}<br>Year=1997<br>count=%{y}<extra></extra>",
           "ids": [
            "Mystery"
           ],
           "legendgroup": "Mystery",
           "marker": {
            "color": "#EF553B",
            "pattern": {
             "shape": ""
            }
           },
           "name": "Mystery",
           "offsetgroup": "Mystery",
           "orientation": "v",
           "showlegend": true,
           "textposition": "auto",
           "type": "bar",
           "x": [
            "Mystery"
           ],
           "xaxis": "x",
           "y": [
            4
           ],
           "yaxis": "y"
          },
          {
           "alignmentgroup": "True",
           "hovertemplate": "Genre=%{x}<br>Year=1997<br>count=%{y}<extra></extra>",
           "ids": [
            "Romance"
           ],
           "legendgroup": "Romance",
           "marker": {
            "color": "#00cc96",
            "pattern": {
             "shape": ""
            }
           },
           "name": "Romance",
           "offsetgroup": "Romance",
           "orientation": "v",
           "showlegend": true,
           "textposition": "auto",
           "type": "bar",
           "x": [
            "Romance"
           ],
           "xaxis": "x",
           "y": [
            11
           ],
           "yaxis": "y"
          },
          {
           "alignmentgroup": "True",
           "hovertemplate": "Genre=%{x}<br>Year=1997<br>count=%{y}<extra></extra>",
           "ids": [
            "Sci-Fi"
           ],
           "legendgroup": "Sci-Fi",
           "marker": {
            "color": "#ab63fa",
            "pattern": {
             "shape": ""
            }
           },
           "name": "Sci-Fi",
           "offsetgroup": "Sci-Fi",
           "orientation": "v",
           "showlegend": true,
           "textposition": "auto",
           "type": "bar",
           "x": [
            "Sci-Fi"
           ],
           "xaxis": "x",
           "y": [
            5
           ],
           "yaxis": "y"
          },
          {
           "alignmentgroup": "True",
           "hovertemplate": "Genre=%{x}<br>Year=1997<br>count=%{y}<extra></extra>",
           "ids": [
            "Thriller"
           ],
           "legendgroup": "Thriller",
           "marker": {
            "color": "#FFA15A",
            "pattern": {
             "shape": ""
            }
           },
           "name": "Thriller",
           "offsetgroup": "Thriller",
           "orientation": "v",
           "showlegend": true,
           "textposition": "auto",
           "type": "bar",
           "x": [
            "Thriller"
           ],
           "xaxis": "x",
           "y": [
            10
           ],
           "yaxis": "y"
          }
         ],
         "name": "1997"
        },
        {
         "data": [
          {
           "alignmentgroup": "True",
           "hovertemplate": "Genre=%{x}<br>Year=1998<br>count=%{y}<extra></extra>",
           "ids": [
            "Action"
           ],
           "legendgroup": "Action",
           "marker": {
            "color": "#636efa",
            "pattern": {
             "shape": ""
            }
           },
           "name": "Action",
           "offsetgroup": "Action",
           "orientation": "v",
           "showlegend": true,
           "textposition": "auto",
           "type": "bar",
           "x": [
            "Action"
           ],
           "xaxis": "x",
           "y": [
            44
           ],
           "yaxis": "y"
          },
          {
           "alignmentgroup": "True",
           "hovertemplate": "Genre=%{x}<br>Year=1998<br>count=%{y}<extra></extra>",
           "ids": [
            "Adventure"
           ],
           "legendgroup": "Adventure",
           "marker": {
            "color": "#EF553B",
            "pattern": {
             "shape": ""
            }
           },
           "name": "Adventure",
           "offsetgroup": "Adventure",
           "orientation": "v",
           "showlegend": true,
           "textposition": "auto",
           "type": "bar",
           "x": [
            "Adventure"
           ],
           "xaxis": "x",
           "y": [
            8
           ],
           "yaxis": "y"
          },
          {
           "alignmentgroup": "True",
           "hovertemplate": "Genre=%{x}<br>Year=1998<br>count=%{y}<extra></extra>",
           "ids": [
            "Animation"
           ],
           "legendgroup": "Animation",
           "marker": {
            "color": "#00cc96",
            "pattern": {
             "shape": ""
            }
           },
           "name": "Animation",
           "offsetgroup": "Animation",
           "orientation": "v",
           "showlegend": true,
           "textposition": "auto",
           "type": "bar",
           "x": [
            "Animation"
           ],
           "xaxis": "x",
           "y": [
            7
           ],
           "yaxis": "y"
          },
          {
           "alignmentgroup": "True",
           "hovertemplate": "Genre=%{x}<br>Year=1998<br>count=%{y}<extra></extra>",
           "ids": [
            "Children's"
           ],
           "legendgroup": "Children's",
           "marker": {
            "color": "#ab63fa",
            "pattern": {
             "shape": ""
            }
           },
           "name": "Children's",
           "offsetgroup": "Children's",
           "orientation": "v",
           "showlegend": true,
           "textposition": "auto",
           "type": "bar",
           "x": [
            "Children's"
           ],
           "xaxis": "x",
           "y": [
            7
           ],
           "yaxis": "y"
          },
          {
           "alignmentgroup": "True",
           "hovertemplate": "Genre=%{x}<br>Year=1998<br>count=%{y}<extra></extra>",
           "ids": [
            "Comedy"
           ],
           "legendgroup": "Comedy",
           "marker": {
            "color": "#FFA15A",
            "pattern": {
             "shape": ""
            }
           },
           "name": "Comedy",
           "offsetgroup": "Comedy",
           "orientation": "v",
           "showlegend": true,
           "textposition": "auto",
           "type": "bar",
           "x": [
            "Comedy"
           ],
           "xaxis": "x",
           "y": [
            94
           ],
           "yaxis": "y"
          },
          {
           "alignmentgroup": "True",
           "hovertemplate": "Genre=%{x}<br>Year=1998<br>count=%{y}<extra></extra>",
           "ids": [
            "Crime"
           ],
           "legendgroup": "Crime",
           "marker": {
            "color": "#19d3f3",
            "pattern": {
             "shape": ""
            }
           },
           "name": "Crime",
           "offsetgroup": "Crime",
           "orientation": "v",
           "showlegend": true,
           "textposition": "auto",
           "type": "bar",
           "x": [
            "Crime"
           ],
           "xaxis": "x",
           "y": [
            15
           ],
           "yaxis": "y"
          },
          {
           "alignmentgroup": "True",
           "hovertemplate": "Genre=%{x}<br>Year=1998<br>count=%{y}<extra></extra>",
           "ids": [
            "Documentary"
           ],
           "legendgroup": "Documentary",
           "marker": {
            "color": "#FF6692",
            "pattern": {
             "shape": ""
            }
           },
           "name": "Documentary",
           "offsetgroup": "Documentary",
           "orientation": "v",
           "showlegend": true,
           "textposition": "auto",
           "type": "bar",
           "x": [
            "Documentary"
           ],
           "xaxis": "x",
           "y": [
            18
           ],
           "yaxis": "y"
          },
          {
           "alignmentgroup": "True",
           "hovertemplate": "Genre=%{x}<br>Year=1998<br>count=%{y}<extra></extra>",
           "ids": [
            "Drama"
           ],
           "legendgroup": "Drama",
           "marker": {
            "color": "#B6E880",
            "pattern": {
             "shape": ""
            }
           },
           "name": "Drama",
           "offsetgroup": "Drama",
           "orientation": "v",
           "showlegend": true,
           "textposition": "auto",
           "type": "bar",
           "x": [
            "Drama"
           ],
           "xaxis": "x",
           "y": [
            116
           ],
           "yaxis": "y"
          },
          {
           "alignmentgroup": "True",
           "hovertemplate": "Genre=%{x}<br>Year=1998<br>count=%{y}<extra></extra>",
           "ids": [
            "Horror"
           ],
           "legendgroup": "Horror",
           "marker": {
            "color": "#FF97FF",
            "pattern": {
             "shape": ""
            }
           },
           "name": "Horror",
           "offsetgroup": "Horror",
           "orientation": "v",
           "showlegend": true,
           "textposition": "auto",
           "type": "bar",
           "x": [
            "Horror"
           ],
           "xaxis": "x",
           "y": [
            12
           ],
           "yaxis": "y"
          },
          {
           "alignmentgroup": "True",
           "hovertemplate": "Genre=%{x}<br>Year=1998<br>count=%{y}<extra></extra>",
           "ids": [
            "Film-Noir"
           ],
           "legendgroup": "Film-Noir",
           "marker": {
            "color": "#FECB52",
            "pattern": {
             "shape": ""
            }
           },
           "name": "Film-Noir",
           "offsetgroup": "Film-Noir",
           "orientation": "v",
           "showlegend": true,
           "textposition": "auto",
           "type": "bar",
           "x": [
            "Film-Noir"
           ],
           "xaxis": "x",
           "y": [
            2
           ],
           "yaxis": "y"
          },
          {
           "alignmentgroup": "True",
           "hovertemplate": "Genre=%{x}<br>Year=1998<br>count=%{y}<extra></extra>",
           "ids": [
            "Mystery"
           ],
           "legendgroup": "Mystery",
           "marker": {
            "color": "#EF553B",
            "pattern": {
             "shape": ""
            }
           },
           "name": "Mystery",
           "offsetgroup": "Mystery",
           "orientation": "v",
           "showlegend": true,
           "textposition": "auto",
           "type": "bar",
           "x": [
            "Mystery"
           ],
           "xaxis": "x",
           "y": [
            2
           ],
           "yaxis": "y"
          },
          {
           "alignmentgroup": "True",
           "hovertemplate": "Genre=%{x}<br>Year=1998<br>count=%{y}<extra></extra>",
           "ids": [
            "Romance"
           ],
           "legendgroup": "Romance",
           "marker": {
            "color": "#00cc96",
            "pattern": {
             "shape": ""
            }
           },
           "name": "Romance",
           "offsetgroup": "Romance",
           "orientation": "v",
           "showlegend": true,
           "textposition": "auto",
           "type": "bar",
           "x": [
            "Romance"
           ],
           "xaxis": "x",
           "y": [
            6
           ],
           "yaxis": "y"
          },
          {
           "alignmentgroup": "True",
           "hovertemplate": "Genre=%{x}<br>Year=1998<br>count=%{y}<extra></extra>",
           "ids": [
            "Sci-Fi"
           ],
           "legendgroup": "Sci-Fi",
           "marker": {
            "color": "#ab63fa",
            "pattern": {
             "shape": ""
            }
           },
           "name": "Sci-Fi",
           "offsetgroup": "Sci-Fi",
           "orientation": "v",
           "showlegend": true,
           "textposition": "auto",
           "type": "bar",
           "x": [
            "Sci-Fi"
           ],
           "xaxis": "x",
           "y": [
            1
           ],
           "yaxis": "y"
          },
          {
           "alignmentgroup": "True",
           "hovertemplate": "Genre=%{x}<br>Year=1998<br>count=%{y}<extra></extra>",
           "ids": [
            "Thriller"
           ],
           "legendgroup": "Thriller",
           "marker": {
            "color": "#FFA15A",
            "pattern": {
             "shape": ""
            }
           },
           "name": "Thriller",
           "offsetgroup": "Thriller",
           "orientation": "v",
           "showlegend": true,
           "textposition": "auto",
           "type": "bar",
           "x": [
            "Thriller"
           ],
           "xaxis": "x",
           "y": [
            5
           ],
           "yaxis": "y"
          }
         ],
         "name": "1998"
        },
        {
         "data": [
          {
           "alignmentgroup": "True",
           "hovertemplate": "Genre=%{x}<br>Year=1999<br>count=%{y}<extra></extra>",
           "ids": [
            "Action"
           ],
           "legendgroup": "Action",
           "marker": {
            "color": "#636efa",
            "pattern": {
             "shape": ""
            }
           },
           "name": "Action",
           "offsetgroup": "Action",
           "orientation": "v",
           "showlegend": true,
           "textposition": "auto",
           "type": "bar",
           "x": [
            "Action"
           ],
           "xaxis": "x",
           "y": [
            27
           ],
           "yaxis": "y"
          },
          {
           "alignmentgroup": "True",
           "hovertemplate": "Genre=%{x}<br>Year=1999<br>count=%{y}<extra></extra>",
           "ids": [
            "Adventure"
           ],
           "legendgroup": "Adventure",
           "marker": {
            "color": "#EF553B",
            "pattern": {
             "shape": ""
            }
           },
           "name": "Adventure",
           "offsetgroup": "Adventure",
           "orientation": "v",
           "showlegend": true,
           "textposition": "auto",
           "type": "bar",
           "x": [
            "Adventure"
           ],
           "xaxis": "x",
           "y": [
            1
           ],
           "yaxis": "y"
          },
          {
           "alignmentgroup": "True",
           "hovertemplate": "Genre=%{x}<br>Year=1999<br>count=%{y}<extra></extra>",
           "ids": [
            "Animation"
           ],
           "legendgroup": "Animation",
           "marker": {
            "color": "#00cc96",
            "pattern": {
             "shape": ""
            }
           },
           "name": "Animation",
           "offsetgroup": "Animation",
           "orientation": "v",
           "showlegend": true,
           "textposition": "auto",
           "type": "bar",
           "x": [
            "Animation"
           ],
           "xaxis": "x",
           "y": [
            7
           ],
           "yaxis": "y"
          },
          {
           "alignmentgroup": "True",
           "hovertemplate": "Genre=%{x}<br>Year=1999<br>count=%{y}<extra></extra>",
           "ids": [
            "Children's"
           ],
           "legendgroup": "Children's",
           "marker": {
            "color": "#ab63fa",
            "pattern": {
             "shape": ""
            }
           },
           "name": "Children's",
           "offsetgroup": "Children's",
           "orientation": "v",
           "showlegend": true,
           "textposition": "auto",
           "type": "bar",
           "x": [
            "Children's"
           ],
           "xaxis": "x",
           "y": [
            4
           ],
           "yaxis": "y"
          },
          {
           "alignmentgroup": "True",
           "hovertemplate": "Genre=%{x}<br>Year=1999<br>count=%{y}<extra></extra>",
           "ids": [
            "Comedy"
           ],
           "legendgroup": "Comedy",
           "marker": {
            "color": "#FFA15A",
            "pattern": {
             "shape": ""
            }
           },
           "name": "Comedy",
           "offsetgroup": "Comedy",
           "orientation": "v",
           "showlegend": true,
           "textposition": "auto",
           "type": "bar",
           "x": [
            "Comedy"
           ],
           "xaxis": "x",
           "y": [
            93
           ],
           "yaxis": "y"
          },
          {
           "alignmentgroup": "True",
           "hovertemplate": "Genre=%{x}<br>Year=1999<br>count=%{y}<extra></extra>",
           "ids": [
            "Crime"
           ],
           "legendgroup": "Crime",
           "marker": {
            "color": "#19d3f3",
            "pattern": {
             "shape": ""
            }
           },
           "name": "Crime",
           "offsetgroup": "Crime",
           "orientation": "v",
           "showlegend": true,
           "textposition": "auto",
           "type": "bar",
           "x": [
            "Crime"
           ],
           "xaxis": "x",
           "y": [
            8
           ],
           "yaxis": "y"
          },
          {
           "alignmentgroup": "True",
           "hovertemplate": "Genre=%{x}<br>Year=1999<br>count=%{y}<extra></extra>",
           "ids": [
            "Documentary"
           ],
           "legendgroup": "Documentary",
           "marker": {
            "color": "#FF6692",
            "pattern": {
             "shape": ""
            }
           },
           "name": "Documentary",
           "offsetgroup": "Documentary",
           "orientation": "v",
           "showlegend": true,
           "textposition": "auto",
           "type": "bar",
           "x": [
            "Documentary"
           ],
           "xaxis": "x",
           "y": [
            15
           ],
           "yaxis": "y"
          },
          {
           "alignmentgroup": "True",
           "hovertemplate": "Genre=%{x}<br>Year=1999<br>count=%{y}<extra></extra>",
           "ids": [
            "Drama"
           ],
           "legendgroup": "Drama",
           "marker": {
            "color": "#B6E880",
            "pattern": {
             "shape": ""
            }
           },
           "name": "Drama",
           "offsetgroup": "Drama",
           "orientation": "v",
           "showlegend": true,
           "textposition": "auto",
           "type": "bar",
           "x": [
            "Drama"
           ],
           "xaxis": "x",
           "y": [
            103
           ],
           "yaxis": "y"
          },
          {
           "alignmentgroup": "True",
           "hovertemplate": "Genre=%{x}<br>Year=1999<br>count=%{y}<extra></extra>",
           "ids": [
            "Horror"
           ],
           "legendgroup": "Horror",
           "marker": {
            "color": "#FF97FF",
            "pattern": {
             "shape": ""
            }
           },
           "name": "Horror",
           "offsetgroup": "Horror",
           "orientation": "v",
           "showlegend": true,
           "textposition": "auto",
           "type": "bar",
           "x": [
            "Horror"
           ],
           "xaxis": "x",
           "y": [
            9
           ],
           "yaxis": "y"
          },
          {
           "alignmentgroup": "True",
           "hovertemplate": "Genre=%{x}<br>Year=1999<br>count=%{y}<extra></extra>",
           "ids": [
            "Mystery"
           ],
           "legendgroup": "Mystery",
           "marker": {
            "color": "#EF553B",
            "pattern": {
             "shape": ""
            }
           },
           "name": "Mystery",
           "offsetgroup": "Mystery",
           "orientation": "v",
           "showlegend": true,
           "textposition": "auto",
           "type": "bar",
           "x": [
            "Mystery"
           ],
           "xaxis": "x",
           "y": [
            2
           ],
           "yaxis": "y"
          },
          {
           "alignmentgroup": "True",
           "hovertemplate": "Genre=%{x}<br>Year=1999<br>count=%{y}<extra></extra>",
           "ids": [
            "Romance"
           ],
           "legendgroup": "Romance",
           "marker": {
            "color": "#00cc96",
            "pattern": {
             "shape": ""
            }
           },
           "name": "Romance",
           "offsetgroup": "Romance",
           "orientation": "v",
           "showlegend": true,
           "textposition": "auto",
           "type": "bar",
           "x": [
            "Romance"
           ],
           "xaxis": "x",
           "y": [
            3
           ],
           "yaxis": "y"
          },
          {
           "alignmentgroup": "True",
           "hovertemplate": "Genre=%{x}<br>Year=1999<br>count=%{y}<extra></extra>",
           "ids": [
            "Sci-Fi"
           ],
           "legendgroup": "Sci-Fi",
           "marker": {
            "color": "#ab63fa",
            "pattern": {
             "shape": ""
            }
           },
           "name": "Sci-Fi",
           "offsetgroup": "Sci-Fi",
           "orientation": "v",
           "showlegend": true,
           "textposition": "auto",
           "type": "bar",
           "x": [
            "Sci-Fi"
           ],
           "xaxis": "x",
           "y": [
            1
           ],
           "yaxis": "y"
          },
          {
           "alignmentgroup": "True",
           "hovertemplate": "Genre=%{x}<br>Year=1999<br>count=%{y}<extra></extra>",
           "ids": [
            "Thriller"
           ],
           "legendgroup": "Thriller",
           "marker": {
            "color": "#FFA15A",
            "pattern": {
             "shape": ""
            }
           },
           "name": "Thriller",
           "offsetgroup": "Thriller",
           "orientation": "v",
           "showlegend": true,
           "textposition": "auto",
           "type": "bar",
           "x": [
            "Thriller"
           ],
           "xaxis": "x",
           "y": [
            10
           ],
           "yaxis": "y"
          }
         ],
         "name": "1999"
        },
        {
         "data": [
          {
           "alignmentgroup": "True",
           "hovertemplate": "Genre=%{x}<br>Year=2000<br>count=%{y}<extra></extra>",
           "ids": [
            "Action"
           ],
           "legendgroup": "Action",
           "marker": {
            "color": "#636efa",
            "pattern": {
             "shape": ""
            }
           },
           "name": "Action",
           "offsetgroup": "Action",
           "orientation": "v",
           "showlegend": true,
           "textposition": "auto",
           "type": "bar",
           "x": [
            "Action"
           ],
           "xaxis": "x",
           "y": [
            19
           ],
           "yaxis": "y"
          },
          {
           "alignmentgroup": "True",
           "hovertemplate": "Genre=%{x}<br>Year=2000<br>count=%{y}<extra></extra>",
           "ids": [
            "Adventure"
           ],
           "legendgroup": "Adventure",
           "marker": {
            "color": "#EF553B",
            "pattern": {
             "shape": ""
            }
           },
           "name": "Adventure",
           "offsetgroup": "Adventure",
           "orientation": "v",
           "showlegend": true,
           "textposition": "auto",
           "type": "bar",
           "x": [
            "Adventure"
           ],
           "xaxis": "x",
           "y": [
            4
           ],
           "yaxis": "y"
          },
          {
           "alignmentgroup": "True",
           "hovertemplate": "Genre=%{x}<br>Year=2000<br>count=%{y}<extra></extra>",
           "ids": [
            "Animation"
           ],
           "legendgroup": "Animation",
           "marker": {
            "color": "#00cc96",
            "pattern": {
             "shape": ""
            }
           },
           "name": "Animation",
           "offsetgroup": "Animation",
           "orientation": "v",
           "showlegend": true,
           "textposition": "auto",
           "type": "bar",
           "x": [
            "Animation"
           ],
           "xaxis": "x",
           "y": [
            6
           ],
           "yaxis": "y"
          },
          {
           "alignmentgroup": "True",
           "hovertemplate": "Genre=%{x}<br>Year=2000<br>count=%{y}<extra></extra>",
           "ids": [
            "Children's"
           ],
           "legendgroup": "Children's",
           "marker": {
            "color": "#ab63fa",
            "pattern": {
             "shape": ""
            }
           },
           "name": "Children's",
           "offsetgroup": "Children's",
           "orientation": "v",
           "showlegend": true,
           "textposition": "auto",
           "type": "bar",
           "x": [
            "Children's"
           ],
           "xaxis": "x",
           "y": [
            2
           ],
           "yaxis": "y"
          },
          {
           "alignmentgroup": "True",
           "hovertemplate": "Genre=%{x}<br>Year=2000<br>count=%{y}<extra></extra>",
           "ids": [
            "Comedy"
           ],
           "legendgroup": "Comedy",
           "marker": {
            "color": "#FFA15A",
            "pattern": {
             "shape": ""
            }
           },
           "name": "Comedy",
           "offsetgroup": "Comedy",
           "orientation": "v",
           "showlegend": true,
           "textposition": "auto",
           "type": "bar",
           "x": [
            "Comedy"
           ],
           "xaxis": "x",
           "y": [
            65
           ],
           "yaxis": "y"
          },
          {
           "alignmentgroup": "True",
           "hovertemplate": "Genre=%{x}<br>Year=2000<br>count=%{y}<extra></extra>",
           "ids": [
            "Crime"
           ],
           "legendgroup": "Crime",
           "marker": {
            "color": "#19d3f3",
            "pattern": {
             "shape": ""
            }
           },
           "name": "Crime",
           "offsetgroup": "Crime",
           "orientation": "v",
           "showlegend": true,
           "textposition": "auto",
           "type": "bar",
           "x": [
            "Crime"
           ],
           "xaxis": "x",
           "y": [
            4
           ],
           "yaxis": "y"
          },
          {
           "alignmentgroup": "True",
           "hovertemplate": "Genre=%{x}<br>Year=2000<br>count=%{y}<extra></extra>",
           "ids": [
            "Documentary"
           ],
           "legendgroup": "Documentary",
           "marker": {
            "color": "#FF6692",
            "pattern": {
             "shape": ""
            }
           },
           "name": "Documentary",
           "offsetgroup": "Documentary",
           "orientation": "v",
           "showlegend": true,
           "textposition": "auto",
           "type": "bar",
           "x": [
            "Documentary"
           ],
           "xaxis": "x",
           "y": [
            7
           ],
           "yaxis": "y"
          },
          {
           "alignmentgroup": "True",
           "hovertemplate": "Genre=%{x}<br>Year=2000<br>count=%{y}<extra></extra>",
           "ids": [
            "Drama"
           ],
           "legendgroup": "Drama",
           "marker": {
            "color": "#B6E880",
            "pattern": {
             "shape": ""
            }
           },
           "name": "Drama",
           "offsetgroup": "Drama",
           "orientation": "v",
           "showlegend": true,
           "textposition": "auto",
           "type": "bar",
           "x": [
            "Drama"
           ],
           "xaxis": "x",
           "y": [
            36
           ],
           "yaxis": "y"
          },
          {
           "alignmentgroup": "True",
           "hovertemplate": "Genre=%{x}<br>Year=2000<br>count=%{y}<extra></extra>",
           "ids": [
            "Horror"
           ],
           "legendgroup": "Horror",
           "marker": {
            "color": "#FF97FF",
            "pattern": {
             "shape": ""
            }
           },
           "name": "Horror",
           "offsetgroup": "Horror",
           "orientation": "v",
           "showlegend": true,
           "textposition": "auto",
           "type": "bar",
           "x": [
            "Horror"
           ],
           "xaxis": "x",
           "y": [
            4
           ],
           "yaxis": "y"
          },
          {
           "alignmentgroup": "True",
           "hovertemplate": "Genre=%{x}<br>Year=2000<br>count=%{y}<extra></extra>",
           "ids": [
            "Romance"
           ],
           "legendgroup": "Romance",
           "marker": {
            "color": "#00cc96",
            "pattern": {
             "shape": ""
            }
           },
           "name": "Romance",
           "offsetgroup": "Romance",
           "orientation": "v",
           "showlegend": true,
           "textposition": "auto",
           "type": "bar",
           "x": [
            "Romance"
           ],
           "xaxis": "x",
           "y": [
            1
           ],
           "yaxis": "y"
          },
          {
           "alignmentgroup": "True",
           "hovertemplate": "Genre=%{x}<br>Year=2000<br>count=%{y}<extra></extra>",
           "ids": [
            "Sci-Fi"
           ],
           "legendgroup": "Sci-Fi",
           "marker": {
            "color": "#ab63fa",
            "pattern": {
             "shape": ""
            }
           },
           "name": "Sci-Fi",
           "offsetgroup": "Sci-Fi",
           "orientation": "v",
           "showlegend": true,
           "textposition": "auto",
           "type": "bar",
           "x": [
            "Sci-Fi"
           ],
           "xaxis": "x",
           "y": [
            2
           ],
           "yaxis": "y"
          },
          {
           "alignmentgroup": "True",
           "hovertemplate": "Genre=%{x}<br>Year=2000<br>count=%{y}<extra></extra>",
           "ids": [
            "Thriller"
           ],
           "legendgroup": "Thriller",
           "marker": {
            "color": "#FFA15A",
            "pattern": {
             "shape": ""
            }
           },
           "name": "Thriller",
           "offsetgroup": "Thriller",
           "orientation": "v",
           "showlegend": true,
           "textposition": "auto",
           "type": "bar",
           "x": [
            "Thriller"
           ],
           "xaxis": "x",
           "y": [
            6
           ],
           "yaxis": "y"
          }
         ],
         "name": "2000"
        }
       ],
       "layout": {
        "barmode": "relative",
        "legend": {
         "title": {
          "text": "Genre"
         },
         "tracegroupgap": 0
        },
        "margin": {
         "t": 60
        },
        "sliders": [
         {
          "active": 0,
          "currentvalue": {
           "prefix": "Year="
          },
          "len": 0.9,
          "pad": {
           "b": 10,
           "t": 60
          },
          "steps": [
           {
            "args": [
             [
              "1981"
             ],
             {
              "frame": {
               "duration": 0,
               "redraw": true
              },
              "fromcurrent": true,
              "mode": "immediate",
              "transition": {
               "duration": 0,
               "easing": "linear"
              }
             }
            ],
            "label": "1981",
            "method": "animate"
           },
           {
            "args": [
             [
              "1982"
             ],
             {
              "frame": {
               "duration": 0,
               "redraw": true
              },
              "fromcurrent": true,
              "mode": "immediate",
              "transition": {
               "duration": 0,
               "easing": "linear"
              }
             }
            ],
            "label": "1982",
            "method": "animate"
           },
           {
            "args": [
             [
              "1983"
             ],
             {
              "frame": {
               "duration": 0,
               "redraw": true
              },
              "fromcurrent": true,
              "mode": "immediate",
              "transition": {
               "duration": 0,
               "easing": "linear"
              }
             }
            ],
            "label": "1983",
            "method": "animate"
           },
           {
            "args": [
             [
              "1984"
             ],
             {
              "frame": {
               "duration": 0,
               "redraw": true
              },
              "fromcurrent": true,
              "mode": "immediate",
              "transition": {
               "duration": 0,
               "easing": "linear"
              }
             }
            ],
            "label": "1984",
            "method": "animate"
           },
           {
            "args": [
             [
              "1985"
             ],
             {
              "frame": {
               "duration": 0,
               "redraw": true
              },
              "fromcurrent": true,
              "mode": "immediate",
              "transition": {
               "duration": 0,
               "easing": "linear"
              }
             }
            ],
            "label": "1985",
            "method": "animate"
           },
           {
            "args": [
             [
              "1986"
             ],
             {
              "frame": {
               "duration": 0,
               "redraw": true
              },
              "fromcurrent": true,
              "mode": "immediate",
              "transition": {
               "duration": 0,
               "easing": "linear"
              }
             }
            ],
            "label": "1986",
            "method": "animate"
           },
           {
            "args": [
             [
              "1987"
             ],
             {
              "frame": {
               "duration": 0,
               "redraw": true
              },
              "fromcurrent": true,
              "mode": "immediate",
              "transition": {
               "duration": 0,
               "easing": "linear"
              }
             }
            ],
            "label": "1987",
            "method": "animate"
           },
           {
            "args": [
             [
              "1988"
             ],
             {
              "frame": {
               "duration": 0,
               "redraw": true
              },
              "fromcurrent": true,
              "mode": "immediate",
              "transition": {
               "duration": 0,
               "easing": "linear"
              }
             }
            ],
            "label": "1988",
            "method": "animate"
           },
           {
            "args": [
             [
              "1989"
             ],
             {
              "frame": {
               "duration": 0,
               "redraw": true
              },
              "fromcurrent": true,
              "mode": "immediate",
              "transition": {
               "duration": 0,
               "easing": "linear"
              }
             }
            ],
            "label": "1989",
            "method": "animate"
           },
           {
            "args": [
             [
              "1990"
             ],
             {
              "frame": {
               "duration": 0,
               "redraw": true
              },
              "fromcurrent": true,
              "mode": "immediate",
              "transition": {
               "duration": 0,
               "easing": "linear"
              }
             }
            ],
            "label": "1990",
            "method": "animate"
           },
           {
            "args": [
             [
              "1991"
             ],
             {
              "frame": {
               "duration": 0,
               "redraw": true
              },
              "fromcurrent": true,
              "mode": "immediate",
              "transition": {
               "duration": 0,
               "easing": "linear"
              }
             }
            ],
            "label": "1991",
            "method": "animate"
           },
           {
            "args": [
             [
              "1992"
             ],
             {
              "frame": {
               "duration": 0,
               "redraw": true
              },
              "fromcurrent": true,
              "mode": "immediate",
              "transition": {
               "duration": 0,
               "easing": "linear"
              }
             }
            ],
            "label": "1992",
            "method": "animate"
           },
           {
            "args": [
             [
              "1993"
             ],
             {
              "frame": {
               "duration": 0,
               "redraw": true
              },
              "fromcurrent": true,
              "mode": "immediate",
              "transition": {
               "duration": 0,
               "easing": "linear"
              }
             }
            ],
            "label": "1993",
            "method": "animate"
           },
           {
            "args": [
             [
              "1994"
             ],
             {
              "frame": {
               "duration": 0,
               "redraw": true
              },
              "fromcurrent": true,
              "mode": "immediate",
              "transition": {
               "duration": 0,
               "easing": "linear"
              }
             }
            ],
            "label": "1994",
            "method": "animate"
           },
           {
            "args": [
             [
              "1995"
             ],
             {
              "frame": {
               "duration": 0,
               "redraw": true
              },
              "fromcurrent": true,
              "mode": "immediate",
              "transition": {
               "duration": 0,
               "easing": "linear"
              }
             }
            ],
            "label": "1995",
            "method": "animate"
           },
           {
            "args": [
             [
              "1996"
             ],
             {
              "frame": {
               "duration": 0,
               "redraw": true
              },
              "fromcurrent": true,
              "mode": "immediate",
              "transition": {
               "duration": 0,
               "easing": "linear"
              }
             }
            ],
            "label": "1996",
            "method": "animate"
           },
           {
            "args": [
             [
              "1997"
             ],
             {
              "frame": {
               "duration": 0,
               "redraw": true
              },
              "fromcurrent": true,
              "mode": "immediate",
              "transition": {
               "duration": 0,
               "easing": "linear"
              }
             }
            ],
            "label": "1997",
            "method": "animate"
           },
           {
            "args": [
             [
              "1998"
             ],
             {
              "frame": {
               "duration": 0,
               "redraw": true
              },
              "fromcurrent": true,
              "mode": "immediate",
              "transition": {
               "duration": 0,
               "easing": "linear"
              }
             }
            ],
            "label": "1998",
            "method": "animate"
           },
           {
            "args": [
             [
              "1999"
             ],
             {
              "frame": {
               "duration": 0,
               "redraw": true
              },
              "fromcurrent": true,
              "mode": "immediate",
              "transition": {
               "duration": 0,
               "easing": "linear"
              }
             }
            ],
            "label": "1999",
            "method": "animate"
           },
           {
            "args": [
             [
              "2000"
             ],
             {
              "frame": {
               "duration": 0,
               "redraw": true
              },
              "fromcurrent": true,
              "mode": "immediate",
              "transition": {
               "duration": 0,
               "easing": "linear"
              }
             }
            ],
            "label": "2000",
            "method": "animate"
           }
          ],
          "x": 0.1,
          "xanchor": "left",
          "y": 0,
          "yanchor": "top"
         }
        ],
        "template": {
         "data": {
          "bar": [
           {
            "error_x": {
             "color": "#2a3f5f"
            },
            "error_y": {
             "color": "#2a3f5f"
            },
            "marker": {
             "line": {
              "color": "#E5ECF6",
              "width": 0.5
             },
             "pattern": {
              "fillmode": "overlay",
              "size": 10,
              "solidity": 0.2
             }
            },
            "type": "bar"
           }
          ],
          "barpolar": [
           {
            "marker": {
             "line": {
              "color": "#E5ECF6",
              "width": 0.5
             },
             "pattern": {
              "fillmode": "overlay",
              "size": 10,
              "solidity": 0.2
             }
            },
            "type": "barpolar"
           }
          ],
          "carpet": [
           {
            "aaxis": {
             "endlinecolor": "#2a3f5f",
             "gridcolor": "white",
             "linecolor": "white",
             "minorgridcolor": "white",
             "startlinecolor": "#2a3f5f"
            },
            "baxis": {
             "endlinecolor": "#2a3f5f",
             "gridcolor": "white",
             "linecolor": "white",
             "minorgridcolor": "white",
             "startlinecolor": "#2a3f5f"
            },
            "type": "carpet"
           }
          ],
          "choropleth": [
           {
            "colorbar": {
             "outlinewidth": 0,
             "ticks": ""
            },
            "type": "choropleth"
           }
          ],
          "contour": [
           {
            "colorbar": {
             "outlinewidth": 0,
             "ticks": ""
            },
            "colorscale": [
             [
              0,
              "#0d0887"
             ],
             [
              0.1111111111111111,
              "#46039f"
             ],
             [
              0.2222222222222222,
              "#7201a8"
             ],
             [
              0.3333333333333333,
              "#9c179e"
             ],
             [
              0.4444444444444444,
              "#bd3786"
             ],
             [
              0.5555555555555556,
              "#d8576b"
             ],
             [
              0.6666666666666666,
              "#ed7953"
             ],
             [
              0.7777777777777778,
              "#fb9f3a"
             ],
             [
              0.8888888888888888,
              "#fdca26"
             ],
             [
              1,
              "#f0f921"
             ]
            ],
            "type": "contour"
           }
          ],
          "contourcarpet": [
           {
            "colorbar": {
             "outlinewidth": 0,
             "ticks": ""
            },
            "type": "contourcarpet"
           }
          ],
          "heatmap": [
           {
            "colorbar": {
             "outlinewidth": 0,
             "ticks": ""
            },
            "colorscale": [
             [
              0,
              "#0d0887"
             ],
             [
              0.1111111111111111,
              "#46039f"
             ],
             [
              0.2222222222222222,
              "#7201a8"
             ],
             [
              0.3333333333333333,
              "#9c179e"
             ],
             [
              0.4444444444444444,
              "#bd3786"
             ],
             [
              0.5555555555555556,
              "#d8576b"
             ],
             [
              0.6666666666666666,
              "#ed7953"
             ],
             [
              0.7777777777777778,
              "#fb9f3a"
             ],
             [
              0.8888888888888888,
              "#fdca26"
             ],
             [
              1,
              "#f0f921"
             ]
            ],
            "type": "heatmap"
           }
          ],
          "heatmapgl": [
           {
            "colorbar": {
             "outlinewidth": 0,
             "ticks": ""
            },
            "colorscale": [
             [
              0,
              "#0d0887"
             ],
             [
              0.1111111111111111,
              "#46039f"
             ],
             [
              0.2222222222222222,
              "#7201a8"
             ],
             [
              0.3333333333333333,
              "#9c179e"
             ],
             [
              0.4444444444444444,
              "#bd3786"
             ],
             [
              0.5555555555555556,
              "#d8576b"
             ],
             [
              0.6666666666666666,
              "#ed7953"
             ],
             [
              0.7777777777777778,
              "#fb9f3a"
             ],
             [
              0.8888888888888888,
              "#fdca26"
             ],
             [
              1,
              "#f0f921"
             ]
            ],
            "type": "heatmapgl"
           }
          ],
          "histogram": [
           {
            "marker": {
             "pattern": {
              "fillmode": "overlay",
              "size": 10,
              "solidity": 0.2
             }
            },
            "type": "histogram"
           }
          ],
          "histogram2d": [
           {
            "colorbar": {
             "outlinewidth": 0,
             "ticks": ""
            },
            "colorscale": [
             [
              0,
              "#0d0887"
             ],
             [
              0.1111111111111111,
              "#46039f"
             ],
             [
              0.2222222222222222,
              "#7201a8"
             ],
             [
              0.3333333333333333,
              "#9c179e"
             ],
             [
              0.4444444444444444,
              "#bd3786"
             ],
             [
              0.5555555555555556,
              "#d8576b"
             ],
             [
              0.6666666666666666,
              "#ed7953"
             ],
             [
              0.7777777777777778,
              "#fb9f3a"
             ],
             [
              0.8888888888888888,
              "#fdca26"
             ],
             [
              1,
              "#f0f921"
             ]
            ],
            "type": "histogram2d"
           }
          ],
          "histogram2dcontour": [
           {
            "colorbar": {
             "outlinewidth": 0,
             "ticks": ""
            },
            "colorscale": [
             [
              0,
              "#0d0887"
             ],
             [
              0.1111111111111111,
              "#46039f"
             ],
             [
              0.2222222222222222,
              "#7201a8"
             ],
             [
              0.3333333333333333,
              "#9c179e"
             ],
             [
              0.4444444444444444,
              "#bd3786"
             ],
             [
              0.5555555555555556,
              "#d8576b"
             ],
             [
              0.6666666666666666,
              "#ed7953"
             ],
             [
              0.7777777777777778,
              "#fb9f3a"
             ],
             [
              0.8888888888888888,
              "#fdca26"
             ],
             [
              1,
              "#f0f921"
             ]
            ],
            "type": "histogram2dcontour"
           }
          ],
          "mesh3d": [
           {
            "colorbar": {
             "outlinewidth": 0,
             "ticks": ""
            },
            "type": "mesh3d"
           }
          ],
          "parcoords": [
           {
            "line": {
             "colorbar": {
              "outlinewidth": 0,
              "ticks": ""
             }
            },
            "type": "parcoords"
           }
          ],
          "pie": [
           {
            "automargin": true,
            "type": "pie"
           }
          ],
          "scatter": [
           {
            "fillpattern": {
             "fillmode": "overlay",
             "size": 10,
             "solidity": 0.2
            },
            "type": "scatter"
           }
          ],
          "scatter3d": [
           {
            "line": {
             "colorbar": {
              "outlinewidth": 0,
              "ticks": ""
             }
            },
            "marker": {
             "colorbar": {
              "outlinewidth": 0,
              "ticks": ""
             }
            },
            "type": "scatter3d"
           }
          ],
          "scattercarpet": [
           {
            "marker": {
             "colorbar": {
              "outlinewidth": 0,
              "ticks": ""
             }
            },
            "type": "scattercarpet"
           }
          ],
          "scattergeo": [
           {
            "marker": {
             "colorbar": {
              "outlinewidth": 0,
              "ticks": ""
             }
            },
            "type": "scattergeo"
           }
          ],
          "scattergl": [
           {
            "marker": {
             "colorbar": {
              "outlinewidth": 0,
              "ticks": ""
             }
            },
            "type": "scattergl"
           }
          ],
          "scattermapbox": [
           {
            "marker": {
             "colorbar": {
              "outlinewidth": 0,
              "ticks": ""
             }
            },
            "type": "scattermapbox"
           }
          ],
          "scatterpolar": [
           {
            "marker": {
             "colorbar": {
              "outlinewidth": 0,
              "ticks": ""
             }
            },
            "type": "scatterpolar"
           }
          ],
          "scatterpolargl": [
           {
            "marker": {
             "colorbar": {
              "outlinewidth": 0,
              "ticks": ""
             }
            },
            "type": "scatterpolargl"
           }
          ],
          "scatterternary": [
           {
            "marker": {
             "colorbar": {
              "outlinewidth": 0,
              "ticks": ""
             }
            },
            "type": "scatterternary"
           }
          ],
          "surface": [
           {
            "colorbar": {
             "outlinewidth": 0,
             "ticks": ""
            },
            "colorscale": [
             [
              0,
              "#0d0887"
             ],
             [
              0.1111111111111111,
              "#46039f"
             ],
             [
              0.2222222222222222,
              "#7201a8"
             ],
             [
              0.3333333333333333,
              "#9c179e"
             ],
             [
              0.4444444444444444,
              "#bd3786"
             ],
             [
              0.5555555555555556,
              "#d8576b"
             ],
             [
              0.6666666666666666,
              "#ed7953"
             ],
             [
              0.7777777777777778,
              "#fb9f3a"
             ],
             [
              0.8888888888888888,
              "#fdca26"
             ],
             [
              1,
              "#f0f921"
             ]
            ],
            "type": "surface"
           }
          ],
          "table": [
           {
            "cells": {
             "fill": {
              "color": "#EBF0F8"
             },
             "line": {
              "color": "white"
             }
            },
            "header": {
             "fill": {
              "color": "#C8D4E3"
             },
             "line": {
              "color": "white"
             }
            },
            "type": "table"
           }
          ]
         },
         "layout": {
          "annotationdefaults": {
           "arrowcolor": "#2a3f5f",
           "arrowhead": 0,
           "arrowwidth": 1
          },
          "autotypenumbers": "strict",
          "coloraxis": {
           "colorbar": {
            "outlinewidth": 0,
            "ticks": ""
           }
          },
          "colorscale": {
           "diverging": [
            [
             0,
             "#8e0152"
            ],
            [
             0.1,
             "#c51b7d"
            ],
            [
             0.2,
             "#de77ae"
            ],
            [
             0.3,
             "#f1b6da"
            ],
            [
             0.4,
             "#fde0ef"
            ],
            [
             0.5,
             "#f7f7f7"
            ],
            [
             0.6,
             "#e6f5d0"
            ],
            [
             0.7,
             "#b8e186"
            ],
            [
             0.8,
             "#7fbc41"
            ],
            [
             0.9,
             "#4d9221"
            ],
            [
             1,
             "#276419"
            ]
           ],
           "sequential": [
            [
             0,
             "#0d0887"
            ],
            [
             0.1111111111111111,
             "#46039f"
            ],
            [
             0.2222222222222222,
             "#7201a8"
            ],
            [
             0.3333333333333333,
             "#9c179e"
            ],
            [
             0.4444444444444444,
             "#bd3786"
            ],
            [
             0.5555555555555556,
             "#d8576b"
            ],
            [
             0.6666666666666666,
             "#ed7953"
            ],
            [
             0.7777777777777778,
             "#fb9f3a"
            ],
            [
             0.8888888888888888,
             "#fdca26"
            ],
            [
             1,
             "#f0f921"
            ]
           ],
           "sequentialminus": [
            [
             0,
             "#0d0887"
            ],
            [
             0.1111111111111111,
             "#46039f"
            ],
            [
             0.2222222222222222,
             "#7201a8"
            ],
            [
             0.3333333333333333,
             "#9c179e"
            ],
            [
             0.4444444444444444,
             "#bd3786"
            ],
            [
             0.5555555555555556,
             "#d8576b"
            ],
            [
             0.6666666666666666,
             "#ed7953"
            ],
            [
             0.7777777777777778,
             "#fb9f3a"
            ],
            [
             0.8888888888888888,
             "#fdca26"
            ],
            [
             1,
             "#f0f921"
            ]
           ]
          },
          "colorway": [
           "#636efa",
           "#EF553B",
           "#00cc96",
           "#ab63fa",
           "#FFA15A",
           "#19d3f3",
           "#FF6692",
           "#B6E880",
           "#FF97FF",
           "#FECB52"
          ],
          "font": {
           "color": "#2a3f5f"
          },
          "geo": {
           "bgcolor": "white",
           "lakecolor": "white",
           "landcolor": "#E5ECF6",
           "showlakes": true,
           "showland": true,
           "subunitcolor": "white"
          },
          "hoverlabel": {
           "align": "left"
          },
          "hovermode": "closest",
          "mapbox": {
           "style": "light"
          },
          "paper_bgcolor": "white",
          "plot_bgcolor": "#E5ECF6",
          "polar": {
           "angularaxis": {
            "gridcolor": "white",
            "linecolor": "white",
            "ticks": ""
           },
           "bgcolor": "#E5ECF6",
           "radialaxis": {
            "gridcolor": "white",
            "linecolor": "white",
            "ticks": ""
           }
          },
          "scene": {
           "xaxis": {
            "backgroundcolor": "#E5ECF6",
            "gridcolor": "white",
            "gridwidth": 2,
            "linecolor": "white",
            "showbackground": true,
            "ticks": "",
            "zerolinecolor": "white"
           },
           "yaxis": {
            "backgroundcolor": "#E5ECF6",
            "gridcolor": "white",
            "gridwidth": 2,
            "linecolor": "white",
            "showbackground": true,
            "ticks": "",
            "zerolinecolor": "white"
           },
           "zaxis": {
            "backgroundcolor": "#E5ECF6",
            "gridcolor": "white",
            "gridwidth": 2,
            "linecolor": "white",
            "showbackground": true,
            "ticks": "",
            "zerolinecolor": "white"
           }
          },
          "shapedefaults": {
           "line": {
            "color": "#2a3f5f"
           }
          },
          "ternary": {
           "aaxis": {
            "gridcolor": "white",
            "linecolor": "white",
            "ticks": ""
           },
           "baxis": {
            "gridcolor": "white",
            "linecolor": "white",
            "ticks": ""
           },
           "bgcolor": "#E5ECF6",
           "caxis": {
            "gridcolor": "white",
            "linecolor": "white",
            "ticks": ""
           }
          },
          "title": {
           "x": 0.05
          },
          "xaxis": {
           "automargin": true,
           "gridcolor": "white",
           "linecolor": "white",
           "ticks": "",
           "title": {
            "standoff": 15
           },
           "zerolinecolor": "white",
           "zerolinewidth": 2
          },
          "yaxis": {
           "automargin": true,
           "gridcolor": "white",
           "linecolor": "white",
           "ticks": "",
           "title": {
            "standoff": 15
           },
           "zerolinecolor": "white",
           "zerolinewidth": 2
          }
         }
        },
        "updatemenus": [
         {
          "buttons": [
           {
            "args": [
             null,
             {
              "frame": {
               "duration": 500,
               "redraw": true
              },
              "fromcurrent": true,
              "mode": "immediate",
              "transition": {
               "duration": 500,
               "easing": "linear"
              }
             }
            ],
            "label": "&#9654;",
            "method": "animate"
           },
           {
            "args": [
             [
              null
             ],
             {
              "frame": {
               "duration": 0,
               "redraw": true
              },
              "fromcurrent": true,
              "mode": "immediate",
              "transition": {
               "duration": 0,
               "easing": "linear"
              }
             }
            ],
            "label": "&#9724;",
            "method": "animate"
           }
          ],
          "direction": "left",
          "pad": {
           "r": 10,
           "t": 70
          },
          "showactive": false,
          "type": "buttons",
          "x": 0.1,
          "xanchor": "right",
          "y": 0,
          "yanchor": "top"
         }
        ],
        "xaxis": {
         "anchor": "y",
         "categoryarray": [
          "Action",
          "Adventure",
          "Animation",
          "Children's",
          "Comedy",
          "Crime",
          "Documentary",
          "Drama",
          "Horror",
          "Film-Noir",
          "Fantasy",
          "Mystery",
          "Romance",
          "Sci-Fi",
          "Thriller",
          "Western",
          "Musical",
          "War"
         ],
         "categoryorder": "array",
         "domain": [
          0,
          1
         ],
         "title": {
          "text": "Genre"
         }
        },
        "yaxis": {
         "anchor": "x",
         "domain": [
          0,
          1
         ],
         "range": [
          0,
          150
         ],
         "title": {
          "text": "count"
         }
        }
       }
      },
      "text/html": [
       "<div>                            <div id=\"e062ce97-2249-4b6d-a914-4933ccc213db\" class=\"plotly-graph-div\" style=\"height:525px; width:100%;\"></div>            <script type=\"text/javascript\">                require([\"plotly\"], function(Plotly) {                    window.PLOTLYENV=window.PLOTLYENV || {};                                    if (document.getElementById(\"e062ce97-2249-4b6d-a914-4933ccc213db\")) {                    Plotly.newPlot(                        \"e062ce97-2249-4b6d-a914-4933ccc213db\",                        [{\"alignmentgroup\":\"True\",\"hovertemplate\":\"Genre=%{x}<br>Year=1981<br>count=%{y}<extra></extra>\",\"ids\":[\"Action\"],\"legendgroup\":\"Action\",\"marker\":{\"color\":\"#636efa\",\"pattern\":{\"shape\":\"\"}},\"name\":\"Action\",\"offsetgroup\":\"Action\",\"orientation\":\"v\",\"showlegend\":true,\"textposition\":\"auto\",\"x\":[\"Action\"],\"xaxis\":\"x\",\"y\":[12],\"yaxis\":\"y\",\"type\":\"bar\"},{\"alignmentgroup\":\"True\",\"hovertemplate\":\"Genre=%{x}<br>Year=1981<br>count=%{y}<extra></extra>\",\"ids\":[\"Adventure\"],\"legendgroup\":\"Adventure\",\"marker\":{\"color\":\"#EF553B\",\"pattern\":{\"shape\":\"\"}},\"name\":\"Adventure\",\"offsetgroup\":\"Adventure\",\"orientation\":\"v\",\"showlegend\":true,\"textposition\":\"auto\",\"x\":[\"Adventure\"],\"xaxis\":\"x\",\"y\":[2],\"yaxis\":\"y\",\"type\":\"bar\"},{\"alignmentgroup\":\"True\",\"hovertemplate\":\"Genre=%{x}<br>Year=1981<br>count=%{y}<extra></extra>\",\"ids\":[\"Animation\"],\"legendgroup\":\"Animation\",\"marker\":{\"color\":\"#00cc96\",\"pattern\":{\"shape\":\"\"}},\"name\":\"Animation\",\"offsetgroup\":\"Animation\",\"orientation\":\"v\",\"showlegend\":true,\"textposition\":\"auto\",\"x\":[\"Animation\"],\"xaxis\":\"x\",\"y\":[2],\"yaxis\":\"y\",\"type\":\"bar\"},{\"alignmentgroup\":\"True\",\"hovertemplate\":\"Genre=%{x}<br>Year=1981<br>count=%{y}<extra></extra>\",\"ids\":[\"Children's\"],\"legendgroup\":\"Children's\",\"marker\":{\"color\":\"#ab63fa\",\"pattern\":{\"shape\":\"\"}},\"name\":\"Children's\",\"offsetgroup\":\"Children's\",\"orientation\":\"v\",\"showlegend\":true,\"textposition\":\"auto\",\"x\":[\"Children's\"],\"xaxis\":\"x\",\"y\":[1],\"yaxis\":\"y\",\"type\":\"bar\"},{\"alignmentgroup\":\"True\",\"hovertemplate\":\"Genre=%{x}<br>Year=1981<br>count=%{y}<extra></extra>\",\"ids\":[\"Comedy\"],\"legendgroup\":\"Comedy\",\"marker\":{\"color\":\"#FFA15A\",\"pattern\":{\"shape\":\"\"}},\"name\":\"Comedy\",\"offsetgroup\":\"Comedy\",\"orientation\":\"v\",\"showlegend\":true,\"textposition\":\"auto\",\"x\":[\"Comedy\"],\"xaxis\":\"x\",\"y\":[7],\"yaxis\":\"y\",\"type\":\"bar\"},{\"alignmentgroup\":\"True\",\"hovertemplate\":\"Genre=%{x}<br>Year=1981<br>count=%{y}<extra></extra>\",\"ids\":[\"Crime\"],\"legendgroup\":\"Crime\",\"marker\":{\"color\":\"#19d3f3\",\"pattern\":{\"shape\":\"\"}},\"name\":\"Crime\",\"offsetgroup\":\"Crime\",\"orientation\":\"v\",\"showlegend\":true,\"textposition\":\"auto\",\"x\":[\"Crime\"],\"xaxis\":\"x\",\"y\":[3],\"yaxis\":\"y\",\"type\":\"bar\"},{\"alignmentgroup\":\"True\",\"hovertemplate\":\"Genre=%{x}<br>Year=1981<br>count=%{y}<extra></extra>\",\"ids\":[\"Documentary\"],\"legendgroup\":\"Documentary\",\"marker\":{\"color\":\"#FF6692\",\"pattern\":{\"shape\":\"\"}},\"name\":\"Documentary\",\"offsetgroup\":\"Documentary\",\"orientation\":\"v\",\"showlegend\":true,\"textposition\":\"auto\",\"x\":[\"Documentary\"],\"xaxis\":\"x\",\"y\":[1],\"yaxis\":\"y\",\"type\":\"bar\"},{\"alignmentgroup\":\"True\",\"hovertemplate\":\"Genre=%{x}<br>Year=1981<br>count=%{y}<extra></extra>\",\"ids\":[\"Drama\"],\"legendgroup\":\"Drama\",\"marker\":{\"color\":\"#B6E880\",\"pattern\":{\"shape\":\"\"}},\"name\":\"Drama\",\"offsetgroup\":\"Drama\",\"orientation\":\"v\",\"showlegend\":true,\"textposition\":\"auto\",\"x\":[\"Drama\"],\"xaxis\":\"x\",\"y\":[9],\"yaxis\":\"y\",\"type\":\"bar\"},{\"alignmentgroup\":\"True\",\"hovertemplate\":\"Genre=%{x}<br>Year=1981<br>count=%{y}<extra></extra>\",\"ids\":[\"Horror\"],\"legendgroup\":\"Horror\",\"marker\":{\"color\":\"#FF97FF\",\"pattern\":{\"shape\":\"\"}},\"name\":\"Horror\",\"offsetgroup\":\"Horror\",\"orientation\":\"v\",\"showlegend\":true,\"textposition\":\"auto\",\"x\":[\"Horror\"],\"xaxis\":\"x\",\"y\":[6],\"yaxis\":\"y\",\"type\":\"bar\"}],                        {\"template\":{\"data\":{\"histogram2dcontour\":[{\"type\":\"histogram2dcontour\",\"colorbar\":{\"outlinewidth\":0,\"ticks\":\"\"},\"colorscale\":[[0.0,\"#0d0887\"],[0.1111111111111111,\"#46039f\"],[0.2222222222222222,\"#7201a8\"],[0.3333333333333333,\"#9c179e\"],[0.4444444444444444,\"#bd3786\"],[0.5555555555555556,\"#d8576b\"],[0.6666666666666666,\"#ed7953\"],[0.7777777777777778,\"#fb9f3a\"],[0.8888888888888888,\"#fdca26\"],[1.0,\"#f0f921\"]]}],\"choropleth\":[{\"type\":\"choropleth\",\"colorbar\":{\"outlinewidth\":0,\"ticks\":\"\"}}],\"histogram2d\":[{\"type\":\"histogram2d\",\"colorbar\":{\"outlinewidth\":0,\"ticks\":\"\"},\"colorscale\":[[0.0,\"#0d0887\"],[0.1111111111111111,\"#46039f\"],[0.2222222222222222,\"#7201a8\"],[0.3333333333333333,\"#9c179e\"],[0.4444444444444444,\"#bd3786\"],[0.5555555555555556,\"#d8576b\"],[0.6666666666666666,\"#ed7953\"],[0.7777777777777778,\"#fb9f3a\"],[0.8888888888888888,\"#fdca26\"],[1.0,\"#f0f921\"]]}],\"heatmap\":[{\"type\":\"heatmap\",\"colorbar\":{\"outlinewidth\":0,\"ticks\":\"\"},\"colorscale\":[[0.0,\"#0d0887\"],[0.1111111111111111,\"#46039f\"],[0.2222222222222222,\"#7201a8\"],[0.3333333333333333,\"#9c179e\"],[0.4444444444444444,\"#bd3786\"],[0.5555555555555556,\"#d8576b\"],[0.6666666666666666,\"#ed7953\"],[0.7777777777777778,\"#fb9f3a\"],[0.8888888888888888,\"#fdca26\"],[1.0,\"#f0f921\"]]}],\"heatmapgl\":[{\"type\":\"heatmapgl\",\"colorbar\":{\"outlinewidth\":0,\"ticks\":\"\"},\"colorscale\":[[0.0,\"#0d0887\"],[0.1111111111111111,\"#46039f\"],[0.2222222222222222,\"#7201a8\"],[0.3333333333333333,\"#9c179e\"],[0.4444444444444444,\"#bd3786\"],[0.5555555555555556,\"#d8576b\"],[0.6666666666666666,\"#ed7953\"],[0.7777777777777778,\"#fb9f3a\"],[0.8888888888888888,\"#fdca26\"],[1.0,\"#f0f921\"]]}],\"contourcarpet\":[{\"type\":\"contourcarpet\",\"colorbar\":{\"outlinewidth\":0,\"ticks\":\"\"}}],\"contour\":[{\"type\":\"contour\",\"colorbar\":{\"outlinewidth\":0,\"ticks\":\"\"},\"colorscale\":[[0.0,\"#0d0887\"],[0.1111111111111111,\"#46039f\"],[0.2222222222222222,\"#7201a8\"],[0.3333333333333333,\"#9c179e\"],[0.4444444444444444,\"#bd3786\"],[0.5555555555555556,\"#d8576b\"],[0.6666666666666666,\"#ed7953\"],[0.7777777777777778,\"#fb9f3a\"],[0.8888888888888888,\"#fdca26\"],[1.0,\"#f0f921\"]]}],\"surface\":[{\"type\":\"surface\",\"colorbar\":{\"outlinewidth\":0,\"ticks\":\"\"},\"colorscale\":[[0.0,\"#0d0887\"],[0.1111111111111111,\"#46039f\"],[0.2222222222222222,\"#7201a8\"],[0.3333333333333333,\"#9c179e\"],[0.4444444444444444,\"#bd3786\"],[0.5555555555555556,\"#d8576b\"],[0.6666666666666666,\"#ed7953\"],[0.7777777777777778,\"#fb9f3a\"],[0.8888888888888888,\"#fdca26\"],[1.0,\"#f0f921\"]]}],\"mesh3d\":[{\"type\":\"mesh3d\",\"colorbar\":{\"outlinewidth\":0,\"ticks\":\"\"}}],\"scatter\":[{\"fillpattern\":{\"fillmode\":\"overlay\",\"size\":10,\"solidity\":0.2},\"type\":\"scatter\"}],\"parcoords\":[{\"type\":\"parcoords\",\"line\":{\"colorbar\":{\"outlinewidth\":0,\"ticks\":\"\"}}}],\"scatterpolargl\":[{\"type\":\"scatterpolargl\",\"marker\":{\"colorbar\":{\"outlinewidth\":0,\"ticks\":\"\"}}}],\"bar\":[{\"error_x\":{\"color\":\"#2a3f5f\"},\"error_y\":{\"color\":\"#2a3f5f\"},\"marker\":{\"line\":{\"color\":\"#E5ECF6\",\"width\":0.5},\"pattern\":{\"fillmode\":\"overlay\",\"size\":10,\"solidity\":0.2}},\"type\":\"bar\"}],\"scattergeo\":[{\"type\":\"scattergeo\",\"marker\":{\"colorbar\":{\"outlinewidth\":0,\"ticks\":\"\"}}}],\"scatterpolar\":[{\"type\":\"scatterpolar\",\"marker\":{\"colorbar\":{\"outlinewidth\":0,\"ticks\":\"\"}}}],\"histogram\":[{\"marker\":{\"pattern\":{\"fillmode\":\"overlay\",\"size\":10,\"solidity\":0.2}},\"type\":\"histogram\"}],\"scattergl\":[{\"type\":\"scattergl\",\"marker\":{\"colorbar\":{\"outlinewidth\":0,\"ticks\":\"\"}}}],\"scatter3d\":[{\"type\":\"scatter3d\",\"line\":{\"colorbar\":{\"outlinewidth\":0,\"ticks\":\"\"}},\"marker\":{\"colorbar\":{\"outlinewidth\":0,\"ticks\":\"\"}}}],\"scattermapbox\":[{\"type\":\"scattermapbox\",\"marker\":{\"colorbar\":{\"outlinewidth\":0,\"ticks\":\"\"}}}],\"scatterternary\":[{\"type\":\"scatterternary\",\"marker\":{\"colorbar\":{\"outlinewidth\":0,\"ticks\":\"\"}}}],\"scattercarpet\":[{\"type\":\"scattercarpet\",\"marker\":{\"colorbar\":{\"outlinewidth\":0,\"ticks\":\"\"}}}],\"carpet\":[{\"aaxis\":{\"endlinecolor\":\"#2a3f5f\",\"gridcolor\":\"white\",\"linecolor\":\"white\",\"minorgridcolor\":\"white\",\"startlinecolor\":\"#2a3f5f\"},\"baxis\":{\"endlinecolor\":\"#2a3f5f\",\"gridcolor\":\"white\",\"linecolor\":\"white\",\"minorgridcolor\":\"white\",\"startlinecolor\":\"#2a3f5f\"},\"type\":\"carpet\"}],\"table\":[{\"cells\":{\"fill\":{\"color\":\"#EBF0F8\"},\"line\":{\"color\":\"white\"}},\"header\":{\"fill\":{\"color\":\"#C8D4E3\"},\"line\":{\"color\":\"white\"}},\"type\":\"table\"}],\"barpolar\":[{\"marker\":{\"line\":{\"color\":\"#E5ECF6\",\"width\":0.5},\"pattern\":{\"fillmode\":\"overlay\",\"size\":10,\"solidity\":0.2}},\"type\":\"barpolar\"}],\"pie\":[{\"automargin\":true,\"type\":\"pie\"}]},\"layout\":{\"autotypenumbers\":\"strict\",\"colorway\":[\"#636efa\",\"#EF553B\",\"#00cc96\",\"#ab63fa\",\"#FFA15A\",\"#19d3f3\",\"#FF6692\",\"#B6E880\",\"#FF97FF\",\"#FECB52\"],\"font\":{\"color\":\"#2a3f5f\"},\"hovermode\":\"closest\",\"hoverlabel\":{\"align\":\"left\"},\"paper_bgcolor\":\"white\",\"plot_bgcolor\":\"#E5ECF6\",\"polar\":{\"bgcolor\":\"#E5ECF6\",\"angularaxis\":{\"gridcolor\":\"white\",\"linecolor\":\"white\",\"ticks\":\"\"},\"radialaxis\":{\"gridcolor\":\"white\",\"linecolor\":\"white\",\"ticks\":\"\"}},\"ternary\":{\"bgcolor\":\"#E5ECF6\",\"aaxis\":{\"gridcolor\":\"white\",\"linecolor\":\"white\",\"ticks\":\"\"},\"baxis\":{\"gridcolor\":\"white\",\"linecolor\":\"white\",\"ticks\":\"\"},\"caxis\":{\"gridcolor\":\"white\",\"linecolor\":\"white\",\"ticks\":\"\"}},\"coloraxis\":{\"colorbar\":{\"outlinewidth\":0,\"ticks\":\"\"}},\"colorscale\":{\"sequential\":[[0.0,\"#0d0887\"],[0.1111111111111111,\"#46039f\"],[0.2222222222222222,\"#7201a8\"],[0.3333333333333333,\"#9c179e\"],[0.4444444444444444,\"#bd3786\"],[0.5555555555555556,\"#d8576b\"],[0.6666666666666666,\"#ed7953\"],[0.7777777777777778,\"#fb9f3a\"],[0.8888888888888888,\"#fdca26\"],[1.0,\"#f0f921\"]],\"sequentialminus\":[[0.0,\"#0d0887\"],[0.1111111111111111,\"#46039f\"],[0.2222222222222222,\"#7201a8\"],[0.3333333333333333,\"#9c179e\"],[0.4444444444444444,\"#bd3786\"],[0.5555555555555556,\"#d8576b\"],[0.6666666666666666,\"#ed7953\"],[0.7777777777777778,\"#fb9f3a\"],[0.8888888888888888,\"#fdca26\"],[1.0,\"#f0f921\"]],\"diverging\":[[0,\"#8e0152\"],[0.1,\"#c51b7d\"],[0.2,\"#de77ae\"],[0.3,\"#f1b6da\"],[0.4,\"#fde0ef\"],[0.5,\"#f7f7f7\"],[0.6,\"#e6f5d0\"],[0.7,\"#b8e186\"],[0.8,\"#7fbc41\"],[0.9,\"#4d9221\"],[1,\"#276419\"]]},\"xaxis\":{\"gridcolor\":\"white\",\"linecolor\":\"white\",\"ticks\":\"\",\"title\":{\"standoff\":15},\"zerolinecolor\":\"white\",\"automargin\":true,\"zerolinewidth\":2},\"yaxis\":{\"gridcolor\":\"white\",\"linecolor\":\"white\",\"ticks\":\"\",\"title\":{\"standoff\":15},\"zerolinecolor\":\"white\",\"automargin\":true,\"zerolinewidth\":2},\"scene\":{\"xaxis\":{\"backgroundcolor\":\"#E5ECF6\",\"gridcolor\":\"white\",\"linecolor\":\"white\",\"showbackground\":true,\"ticks\":\"\",\"zerolinecolor\":\"white\",\"gridwidth\":2},\"yaxis\":{\"backgroundcolor\":\"#E5ECF6\",\"gridcolor\":\"white\",\"linecolor\":\"white\",\"showbackground\":true,\"ticks\":\"\",\"zerolinecolor\":\"white\",\"gridwidth\":2},\"zaxis\":{\"backgroundcolor\":\"#E5ECF6\",\"gridcolor\":\"white\",\"linecolor\":\"white\",\"showbackground\":true,\"ticks\":\"\",\"zerolinecolor\":\"white\",\"gridwidth\":2}},\"shapedefaults\":{\"line\":{\"color\":\"#2a3f5f\"}},\"annotationdefaults\":{\"arrowcolor\":\"#2a3f5f\",\"arrowhead\":0,\"arrowwidth\":1},\"geo\":{\"bgcolor\":\"white\",\"landcolor\":\"#E5ECF6\",\"subunitcolor\":\"white\",\"showland\":true,\"showlakes\":true,\"lakecolor\":\"white\"},\"title\":{\"x\":0.05},\"mapbox\":{\"style\":\"light\"}}},\"xaxis\":{\"anchor\":\"y\",\"domain\":[0.0,1.0],\"title\":{\"text\":\"Genre\"},\"categoryorder\":\"array\",\"categoryarray\":[\"Action\",\"Adventure\",\"Animation\",\"Children's\",\"Comedy\",\"Crime\",\"Documentary\",\"Drama\",\"Horror\",\"Film-Noir\",\"Fantasy\",\"Mystery\",\"Romance\",\"Sci-Fi\",\"Thriller\",\"Western\",\"Musical\",\"War\"]},\"yaxis\":{\"anchor\":\"x\",\"domain\":[0.0,1.0],\"title\":{\"text\":\"count\"},\"range\":[0,150]},\"legend\":{\"title\":{\"text\":\"Genre\"},\"tracegroupgap\":0},\"margin\":{\"t\":60},\"barmode\":\"relative\",\"updatemenus\":[{\"buttons\":[{\"args\":[null,{\"frame\":{\"duration\":500,\"redraw\":true},\"mode\":\"immediate\",\"fromcurrent\":true,\"transition\":{\"duration\":500,\"easing\":\"linear\"}}],\"label\":\"&#9654;\",\"method\":\"animate\"},{\"args\":[[null],{\"frame\":{\"duration\":0,\"redraw\":true},\"mode\":\"immediate\",\"fromcurrent\":true,\"transition\":{\"duration\":0,\"easing\":\"linear\"}}],\"label\":\"&#9724;\",\"method\":\"animate\"}],\"direction\":\"left\",\"pad\":{\"r\":10,\"t\":70},\"showactive\":false,\"type\":\"buttons\",\"x\":0.1,\"xanchor\":\"right\",\"y\":0,\"yanchor\":\"top\"}],\"sliders\":[{\"active\":0,\"currentvalue\":{\"prefix\":\"Year=\"},\"len\":0.9,\"pad\":{\"b\":10,\"t\":60},\"steps\":[{\"args\":[[\"1981\"],{\"frame\":{\"duration\":0,\"redraw\":true},\"mode\":\"immediate\",\"fromcurrent\":true,\"transition\":{\"duration\":0,\"easing\":\"linear\"}}],\"label\":\"1981\",\"method\":\"animate\"},{\"args\":[[\"1982\"],{\"frame\":{\"duration\":0,\"redraw\":true},\"mode\":\"immediate\",\"fromcurrent\":true,\"transition\":{\"duration\":0,\"easing\":\"linear\"}}],\"label\":\"1982\",\"method\":\"animate\"},{\"args\":[[\"1983\"],{\"frame\":{\"duration\":0,\"redraw\":true},\"mode\":\"immediate\",\"fromcurrent\":true,\"transition\":{\"duration\":0,\"easing\":\"linear\"}}],\"label\":\"1983\",\"method\":\"animate\"},{\"args\":[[\"1984\"],{\"frame\":{\"duration\":0,\"redraw\":true},\"mode\":\"immediate\",\"fromcurrent\":true,\"transition\":{\"duration\":0,\"easing\":\"linear\"}}],\"label\":\"1984\",\"method\":\"animate\"},{\"args\":[[\"1985\"],{\"frame\":{\"duration\":0,\"redraw\":true},\"mode\":\"immediate\",\"fromcurrent\":true,\"transition\":{\"duration\":0,\"easing\":\"linear\"}}],\"label\":\"1985\",\"method\":\"animate\"},{\"args\":[[\"1986\"],{\"frame\":{\"duration\":0,\"redraw\":true},\"mode\":\"immediate\",\"fromcurrent\":true,\"transition\":{\"duration\":0,\"easing\":\"linear\"}}],\"label\":\"1986\",\"method\":\"animate\"},{\"args\":[[\"1987\"],{\"frame\":{\"duration\":0,\"redraw\":true},\"mode\":\"immediate\",\"fromcurrent\":true,\"transition\":{\"duration\":0,\"easing\":\"linear\"}}],\"label\":\"1987\",\"method\":\"animate\"},{\"args\":[[\"1988\"],{\"frame\":{\"duration\":0,\"redraw\":true},\"mode\":\"immediate\",\"fromcurrent\":true,\"transition\":{\"duration\":0,\"easing\":\"linear\"}}],\"label\":\"1988\",\"method\":\"animate\"},{\"args\":[[\"1989\"],{\"frame\":{\"duration\":0,\"redraw\":true},\"mode\":\"immediate\",\"fromcurrent\":true,\"transition\":{\"duration\":0,\"easing\":\"linear\"}}],\"label\":\"1989\",\"method\":\"animate\"},{\"args\":[[\"1990\"],{\"frame\":{\"duration\":0,\"redraw\":true},\"mode\":\"immediate\",\"fromcurrent\":true,\"transition\":{\"duration\":0,\"easing\":\"linear\"}}],\"label\":\"1990\",\"method\":\"animate\"},{\"args\":[[\"1991\"],{\"frame\":{\"duration\":0,\"redraw\":true},\"mode\":\"immediate\",\"fromcurrent\":true,\"transition\":{\"duration\":0,\"easing\":\"linear\"}}],\"label\":\"1991\",\"method\":\"animate\"},{\"args\":[[\"1992\"],{\"frame\":{\"duration\":0,\"redraw\":true},\"mode\":\"immediate\",\"fromcurrent\":true,\"transition\":{\"duration\":0,\"easing\":\"linear\"}}],\"label\":\"1992\",\"method\":\"animate\"},{\"args\":[[\"1993\"],{\"frame\":{\"duration\":0,\"redraw\":true},\"mode\":\"immediate\",\"fromcurrent\":true,\"transition\":{\"duration\":0,\"easing\":\"linear\"}}],\"label\":\"1993\",\"method\":\"animate\"},{\"args\":[[\"1994\"],{\"frame\":{\"duration\":0,\"redraw\":true},\"mode\":\"immediate\",\"fromcurrent\":true,\"transition\":{\"duration\":0,\"easing\":\"linear\"}}],\"label\":\"1994\",\"method\":\"animate\"},{\"args\":[[\"1995\"],{\"frame\":{\"duration\":0,\"redraw\":true},\"mode\":\"immediate\",\"fromcurrent\":true,\"transition\":{\"duration\":0,\"easing\":\"linear\"}}],\"label\":\"1995\",\"method\":\"animate\"},{\"args\":[[\"1996\"],{\"frame\":{\"duration\":0,\"redraw\":true},\"mode\":\"immediate\",\"fromcurrent\":true,\"transition\":{\"duration\":0,\"easing\":\"linear\"}}],\"label\":\"1996\",\"method\":\"animate\"},{\"args\":[[\"1997\"],{\"frame\":{\"duration\":0,\"redraw\":true},\"mode\":\"immediate\",\"fromcurrent\":true,\"transition\":{\"duration\":0,\"easing\":\"linear\"}}],\"label\":\"1997\",\"method\":\"animate\"},{\"args\":[[\"1998\"],{\"frame\":{\"duration\":0,\"redraw\":true},\"mode\":\"immediate\",\"fromcurrent\":true,\"transition\":{\"duration\":0,\"easing\":\"linear\"}}],\"label\":\"1998\",\"method\":\"animate\"},{\"args\":[[\"1999\"],{\"frame\":{\"duration\":0,\"redraw\":true},\"mode\":\"immediate\",\"fromcurrent\":true,\"transition\":{\"duration\":0,\"easing\":\"linear\"}}],\"label\":\"1999\",\"method\":\"animate\"},{\"args\":[[\"2000\"],{\"frame\":{\"duration\":0,\"redraw\":true},\"mode\":\"immediate\",\"fromcurrent\":true,\"transition\":{\"duration\":0,\"easing\":\"linear\"}}],\"label\":\"2000\",\"method\":\"animate\"}],\"x\":0.1,\"xanchor\":\"left\",\"y\":0,\"yanchor\":\"top\"}]},                        {\"responsive\": true}                    ).then(function(){\n",
       "                            Plotly.addFrames('e062ce97-2249-4b6d-a914-4933ccc213db', [{\"data\":[{\"alignmentgroup\":\"True\",\"hovertemplate\":\"Genre=%{x}<br>Year=1981<br>count=%{y}<extra></extra>\",\"ids\":[\"Action\"],\"legendgroup\":\"Action\",\"marker\":{\"color\":\"#636efa\",\"pattern\":{\"shape\":\"\"}},\"name\":\"Action\",\"offsetgroup\":\"Action\",\"orientation\":\"v\",\"showlegend\":true,\"textposition\":\"auto\",\"x\":[\"Action\"],\"xaxis\":\"x\",\"y\":[12],\"yaxis\":\"y\",\"type\":\"bar\"},{\"alignmentgroup\":\"True\",\"hovertemplate\":\"Genre=%{x}<br>Year=1981<br>count=%{y}<extra></extra>\",\"ids\":[\"Adventure\"],\"legendgroup\":\"Adventure\",\"marker\":{\"color\":\"#EF553B\",\"pattern\":{\"shape\":\"\"}},\"name\":\"Adventure\",\"offsetgroup\":\"Adventure\",\"orientation\":\"v\",\"showlegend\":true,\"textposition\":\"auto\",\"x\":[\"Adventure\"],\"xaxis\":\"x\",\"y\":[2],\"yaxis\":\"y\",\"type\":\"bar\"},{\"alignmentgroup\":\"True\",\"hovertemplate\":\"Genre=%{x}<br>Year=1981<br>count=%{y}<extra></extra>\",\"ids\":[\"Animation\"],\"legendgroup\":\"Animation\",\"marker\":{\"color\":\"#00cc96\",\"pattern\":{\"shape\":\"\"}},\"name\":\"Animation\",\"offsetgroup\":\"Animation\",\"orientation\":\"v\",\"showlegend\":true,\"textposition\":\"auto\",\"x\":[\"Animation\"],\"xaxis\":\"x\",\"y\":[2],\"yaxis\":\"y\",\"type\":\"bar\"},{\"alignmentgroup\":\"True\",\"hovertemplate\":\"Genre=%{x}<br>Year=1981<br>count=%{y}<extra></extra>\",\"ids\":[\"Children's\"],\"legendgroup\":\"Children's\",\"marker\":{\"color\":\"#ab63fa\",\"pattern\":{\"shape\":\"\"}},\"name\":\"Children's\",\"offsetgroup\":\"Children's\",\"orientation\":\"v\",\"showlegend\":true,\"textposition\":\"auto\",\"x\":[\"Children's\"],\"xaxis\":\"x\",\"y\":[1],\"yaxis\":\"y\",\"type\":\"bar\"},{\"alignmentgroup\":\"True\",\"hovertemplate\":\"Genre=%{x}<br>Year=1981<br>count=%{y}<extra></extra>\",\"ids\":[\"Comedy\"],\"legendgroup\":\"Comedy\",\"marker\":{\"color\":\"#FFA15A\",\"pattern\":{\"shape\":\"\"}},\"name\":\"Comedy\",\"offsetgroup\":\"Comedy\",\"orientation\":\"v\",\"showlegend\":true,\"textposition\":\"auto\",\"x\":[\"Comedy\"],\"xaxis\":\"x\",\"y\":[7],\"yaxis\":\"y\",\"type\":\"bar\"},{\"alignmentgroup\":\"True\",\"hovertemplate\":\"Genre=%{x}<br>Year=1981<br>count=%{y}<extra></extra>\",\"ids\":[\"Crime\"],\"legendgroup\":\"Crime\",\"marker\":{\"color\":\"#19d3f3\",\"pattern\":{\"shape\":\"\"}},\"name\":\"Crime\",\"offsetgroup\":\"Crime\",\"orientation\":\"v\",\"showlegend\":true,\"textposition\":\"auto\",\"x\":[\"Crime\"],\"xaxis\":\"x\",\"y\":[3],\"yaxis\":\"y\",\"type\":\"bar\"},{\"alignmentgroup\":\"True\",\"hovertemplate\":\"Genre=%{x}<br>Year=1981<br>count=%{y}<extra></extra>\",\"ids\":[\"Documentary\"],\"legendgroup\":\"Documentary\",\"marker\":{\"color\":\"#FF6692\",\"pattern\":{\"shape\":\"\"}},\"name\":\"Documentary\",\"offsetgroup\":\"Documentary\",\"orientation\":\"v\",\"showlegend\":true,\"textposition\":\"auto\",\"x\":[\"Documentary\"],\"xaxis\":\"x\",\"y\":[1],\"yaxis\":\"y\",\"type\":\"bar\"},{\"alignmentgroup\":\"True\",\"hovertemplate\":\"Genre=%{x}<br>Year=1981<br>count=%{y}<extra></extra>\",\"ids\":[\"Drama\"],\"legendgroup\":\"Drama\",\"marker\":{\"color\":\"#B6E880\",\"pattern\":{\"shape\":\"\"}},\"name\":\"Drama\",\"offsetgroup\":\"Drama\",\"orientation\":\"v\",\"showlegend\":true,\"textposition\":\"auto\",\"x\":[\"Drama\"],\"xaxis\":\"x\",\"y\":[9],\"yaxis\":\"y\",\"type\":\"bar\"},{\"alignmentgroup\":\"True\",\"hovertemplate\":\"Genre=%{x}<br>Year=1981<br>count=%{y}<extra></extra>\",\"ids\":[\"Horror\"],\"legendgroup\":\"Horror\",\"marker\":{\"color\":\"#FF97FF\",\"pattern\":{\"shape\":\"\"}},\"name\":\"Horror\",\"offsetgroup\":\"Horror\",\"orientation\":\"v\",\"showlegend\":true,\"textposition\":\"auto\",\"x\":[\"Horror\"],\"xaxis\":\"x\",\"y\":[6],\"yaxis\":\"y\",\"type\":\"bar\"}],\"name\":\"1981\"},{\"data\":[{\"alignmentgroup\":\"True\",\"hovertemplate\":\"Genre=%{x}<br>Year=1982<br>count=%{y}<extra></extra>\",\"ids\":[\"Action\"],\"legendgroup\":\"Action\",\"marker\":{\"color\":\"#636efa\",\"pattern\":{\"shape\":\"\"}},\"name\":\"Action\",\"offsetgroup\":\"Action\",\"orientation\":\"v\",\"showlegend\":true,\"textposition\":\"auto\",\"x\":[\"Action\"],\"xaxis\":\"x\",\"y\":[7],\"yaxis\":\"y\",\"type\":\"bar\"},{\"alignmentgroup\":\"True\",\"hovertemplate\":\"Genre=%{x}<br>Year=1982<br>count=%{y}<extra></extra>\",\"ids\":[\"Adventure\"],\"legendgroup\":\"Adventure\",\"marker\":{\"color\":\"#EF553B\",\"pattern\":{\"shape\":\"\"}},\"name\":\"Adventure\",\"offsetgroup\":\"Adventure\",\"orientation\":\"v\",\"showlegend\":true,\"textposition\":\"auto\",\"x\":[\"Adventure\"],\"xaxis\":\"x\",\"y\":[1],\"yaxis\":\"y\",\"type\":\"bar\"},{\"alignmentgroup\":\"True\",\"hovertemplate\":\"Genre=%{x}<br>Year=1982<br>count=%{y}<extra></extra>\",\"ids\":[\"Animation\"],\"legendgroup\":\"Animation\",\"marker\":{\"color\":\"#00cc96\",\"pattern\":{\"shape\":\"\"}},\"name\":\"Animation\",\"offsetgroup\":\"Animation\",\"orientation\":\"v\",\"showlegend\":true,\"textposition\":\"auto\",\"x\":[\"Animation\"],\"xaxis\":\"x\",\"y\":[2],\"yaxis\":\"y\",\"type\":\"bar\"},{\"alignmentgroup\":\"True\",\"hovertemplate\":\"Genre=%{x}<br>Year=1982<br>count=%{y}<extra></extra>\",\"ids\":[\"Children's\"],\"legendgroup\":\"Children's\",\"marker\":{\"color\":\"#ab63fa\",\"pattern\":{\"shape\":\"\"}},\"name\":\"Children's\",\"offsetgroup\":\"Children's\",\"orientation\":\"v\",\"showlegend\":true,\"textposition\":\"auto\",\"x\":[\"Children's\"],\"xaxis\":\"x\",\"y\":[2],\"yaxis\":\"y\",\"type\":\"bar\"},{\"alignmentgroup\":\"True\",\"hovertemplate\":\"Genre=%{x}<br>Year=1982<br>count=%{y}<extra></extra>\",\"ids\":[\"Comedy\"],\"legendgroup\":\"Comedy\",\"marker\":{\"color\":\"#FFA15A\",\"pattern\":{\"shape\":\"\"}},\"name\":\"Comedy\",\"offsetgroup\":\"Comedy\",\"orientation\":\"v\",\"showlegend\":true,\"textposition\":\"auto\",\"x\":[\"Comedy\"],\"xaxis\":\"x\",\"y\":[12],\"yaxis\":\"y\",\"type\":\"bar\"},{\"alignmentgroup\":\"True\",\"hovertemplate\":\"Genre=%{x}<br>Year=1982<br>count=%{y}<extra></extra>\",\"ids\":[\"Drama\"],\"legendgroup\":\"Drama\",\"marker\":{\"color\":\"#B6E880\",\"pattern\":{\"shape\":\"\"}},\"name\":\"Drama\",\"offsetgroup\":\"Drama\",\"orientation\":\"v\",\"showlegend\":true,\"textposition\":\"auto\",\"x\":[\"Drama\"],\"xaxis\":\"x\",\"y\":[16],\"yaxis\":\"y\",\"type\":\"bar\"},{\"alignmentgroup\":\"True\",\"hovertemplate\":\"Genre=%{x}<br>Year=1982<br>count=%{y}<extra></extra>\",\"ids\":[\"Horror\"],\"legendgroup\":\"Horror\",\"marker\":{\"color\":\"#FF97FF\",\"pattern\":{\"shape\":\"\"}},\"name\":\"Horror\",\"offsetgroup\":\"Horror\",\"orientation\":\"v\",\"showlegend\":true,\"textposition\":\"auto\",\"x\":[\"Horror\"],\"xaxis\":\"x\",\"y\":[9],\"yaxis\":\"y\",\"type\":\"bar\"},{\"alignmentgroup\":\"True\",\"hovertemplate\":\"Genre=%{x}<br>Year=1982<br>count=%{y}<extra></extra>\",\"ids\":[\"Film-Noir\"],\"legendgroup\":\"Film-Noir\",\"marker\":{\"color\":\"#FECB52\",\"pattern\":{\"shape\":\"\"}},\"name\":\"Film-Noir\",\"offsetgroup\":\"Film-Noir\",\"orientation\":\"v\",\"showlegend\":true,\"textposition\":\"auto\",\"x\":[\"Film-Noir\"],\"xaxis\":\"x\",\"y\":[1],\"yaxis\":\"y\",\"type\":\"bar\"}],\"name\":\"1982\"},{\"data\":[{\"alignmentgroup\":\"True\",\"hovertemplate\":\"Genre=%{x}<br>Year=1983<br>count=%{y}<extra></extra>\",\"ids\":[\"Action\"],\"legendgroup\":\"Action\",\"marker\":{\"color\":\"#636efa\",\"pattern\":{\"shape\":\"\"}},\"name\":\"Action\",\"offsetgroup\":\"Action\",\"orientation\":\"v\",\"showlegend\":true,\"textposition\":\"auto\",\"x\":[\"Action\"],\"xaxis\":\"x\",\"y\":[4],\"yaxis\":\"y\",\"type\":\"bar\"},{\"alignmentgroup\":\"True\",\"hovertemplate\":\"Genre=%{x}<br>Year=1983<br>count=%{y}<extra></extra>\",\"ids\":[\"Children's\"],\"legendgroup\":\"Children's\",\"marker\":{\"color\":\"#ab63fa\",\"pattern\":{\"shape\":\"\"}},\"name\":\"Children's\",\"offsetgroup\":\"Children's\",\"orientation\":\"v\",\"showlegend\":true,\"textposition\":\"auto\",\"x\":[\"Children's\"],\"xaxis\":\"x\",\"y\":[1],\"yaxis\":\"y\",\"type\":\"bar\"},{\"alignmentgroup\":\"True\",\"hovertemplate\":\"Genre=%{x}<br>Year=1983<br>count=%{y}<extra></extra>\",\"ids\":[\"Comedy\"],\"legendgroup\":\"Comedy\",\"marker\":{\"color\":\"#FFA15A\",\"pattern\":{\"shape\":\"\"}},\"name\":\"Comedy\",\"offsetgroup\":\"Comedy\",\"orientation\":\"v\",\"showlegend\":true,\"textposition\":\"auto\",\"x\":[\"Comedy\"],\"xaxis\":\"x\",\"y\":[14],\"yaxis\":\"y\",\"type\":\"bar\"},{\"alignmentgroup\":\"True\",\"hovertemplate\":\"Genre=%{x}<br>Year=1983<br>count=%{y}<extra></extra>\",\"ids\":[\"Documentary\"],\"legendgroup\":\"Documentary\",\"marker\":{\"color\":\"#FF6692\",\"pattern\":{\"shape\":\"\"}},\"name\":\"Documentary\",\"offsetgroup\":\"Documentary\",\"orientation\":\"v\",\"showlegend\":true,\"textposition\":\"auto\",\"x\":[\"Documentary\"],\"xaxis\":\"x\",\"y\":[1],\"yaxis\":\"y\",\"type\":\"bar\"},{\"alignmentgroup\":\"True\",\"hovertemplate\":\"Genre=%{x}<br>Year=1983<br>count=%{y}<extra></extra>\",\"ids\":[\"Drama\"],\"legendgroup\":\"Drama\",\"marker\":{\"color\":\"#B6E880\",\"pattern\":{\"shape\":\"\"}},\"name\":\"Drama\",\"offsetgroup\":\"Drama\",\"orientation\":\"v\",\"showlegend\":true,\"textposition\":\"auto\",\"x\":[\"Drama\"],\"xaxis\":\"x\",\"y\":[6],\"yaxis\":\"y\",\"type\":\"bar\"},{\"alignmentgroup\":\"True\",\"hovertemplate\":\"Genre=%{x}<br>Year=1983<br>count=%{y}<extra></extra>\",\"ids\":[\"Horror\"],\"legendgroup\":\"Horror\",\"marker\":{\"color\":\"#FF97FF\",\"pattern\":{\"shape\":\"\"}},\"name\":\"Horror\",\"offsetgroup\":\"Horror\",\"orientation\":\"v\",\"showlegend\":true,\"textposition\":\"auto\",\"x\":[\"Horror\"],\"xaxis\":\"x\",\"y\":[9],\"yaxis\":\"y\",\"type\":\"bar\"}],\"name\":\"1983\"},{\"data\":[{\"alignmentgroup\":\"True\",\"hovertemplate\":\"Genre=%{x}<br>Year=1984<br>count=%{y}<extra></extra>\",\"ids\":[\"Action\"],\"legendgroup\":\"Action\",\"marker\":{\"color\":\"#636efa\",\"pattern\":{\"shape\":\"\"}},\"name\":\"Action\",\"offsetgroup\":\"Action\",\"orientation\":\"v\",\"showlegend\":true,\"textposition\":\"auto\",\"x\":[\"Action\"],\"xaxis\":\"x\",\"y\":[11],\"yaxis\":\"y\",\"type\":\"bar\"},{\"alignmentgroup\":\"True\",\"hovertemplate\":\"Genre=%{x}<br>Year=1984<br>count=%{y}<extra></extra>\",\"ids\":[\"Adventure\"],\"legendgroup\":\"Adventure\",\"marker\":{\"color\":\"#EF553B\",\"pattern\":{\"shape\":\"\"}},\"name\":\"Adventure\",\"offsetgroup\":\"Adventure\",\"orientation\":\"v\",\"showlegend\":true,\"textposition\":\"auto\",\"x\":[\"Adventure\"],\"xaxis\":\"x\",\"y\":[4],\"yaxis\":\"y\",\"type\":\"bar\"},{\"alignmentgroup\":\"True\",\"hovertemplate\":\"Genre=%{x}<br>Year=1984<br>count=%{y}<extra></extra>\",\"ids\":[\"Children's\"],\"legendgroup\":\"Children's\",\"marker\":{\"color\":\"#ab63fa\",\"pattern\":{\"shape\":\"\"}},\"name\":\"Children's\",\"offsetgroup\":\"Children's\",\"orientation\":\"v\",\"showlegend\":true,\"textposition\":\"auto\",\"x\":[\"Children's\"],\"xaxis\":\"x\",\"y\":[1],\"yaxis\":\"y\",\"type\":\"bar\"},{\"alignmentgroup\":\"True\",\"hovertemplate\":\"Genre=%{x}<br>Year=1984<br>count=%{y}<extra></extra>\",\"ids\":[\"Comedy\"],\"legendgroup\":\"Comedy\",\"marker\":{\"color\":\"#FFA15A\",\"pattern\":{\"shape\":\"\"}},\"name\":\"Comedy\",\"offsetgroup\":\"Comedy\",\"orientation\":\"v\",\"showlegend\":true,\"textposition\":\"auto\",\"x\":[\"Comedy\"],\"xaxis\":\"x\",\"y\":[14],\"yaxis\":\"y\",\"type\":\"bar\"},{\"alignmentgroup\":\"True\",\"hovertemplate\":\"Genre=%{x}<br>Year=1984<br>count=%{y}<extra></extra>\",\"ids\":[\"Crime\"],\"legendgroup\":\"Crime\",\"marker\":{\"color\":\"#19d3f3\",\"pattern\":{\"shape\":\"\"}},\"name\":\"Crime\",\"offsetgroup\":\"Crime\",\"orientation\":\"v\",\"showlegend\":true,\"textposition\":\"auto\",\"x\":[\"Crime\"],\"xaxis\":\"x\",\"y\":[1],\"yaxis\":\"y\",\"type\":\"bar\"},{\"alignmentgroup\":\"True\",\"hovertemplate\":\"Genre=%{x}<br>Year=1984<br>count=%{y}<extra></extra>\",\"ids\":[\"Documentary\"],\"legendgroup\":\"Documentary\",\"marker\":{\"color\":\"#FF6692\",\"pattern\":{\"shape\":\"\"}},\"name\":\"Documentary\",\"offsetgroup\":\"Documentary\",\"orientation\":\"v\",\"showlegend\":true,\"textposition\":\"auto\",\"x\":[\"Documentary\"],\"xaxis\":\"x\",\"y\":[1],\"yaxis\":\"y\",\"type\":\"bar\"},{\"alignmentgroup\":\"True\",\"hovertemplate\":\"Genre=%{x}<br>Year=1984<br>count=%{y}<extra></extra>\",\"ids\":[\"Drama\"],\"legendgroup\":\"Drama\",\"marker\":{\"color\":\"#B6E880\",\"pattern\":{\"shape\":\"\"}},\"name\":\"Drama\",\"offsetgroup\":\"Drama\",\"orientation\":\"v\",\"showlegend\":true,\"textposition\":\"auto\",\"x\":[\"Drama\"],\"xaxis\":\"x\",\"y\":[19],\"yaxis\":\"y\",\"type\":\"bar\"},{\"alignmentgroup\":\"True\",\"hovertemplate\":\"Genre=%{x}<br>Year=1984<br>count=%{y}<extra></extra>\",\"ids\":[\"Horror\"],\"legendgroup\":\"Horror\",\"marker\":{\"color\":\"#FF97FF\",\"pattern\":{\"shape\":\"\"}},\"name\":\"Horror\",\"offsetgroup\":\"Horror\",\"orientation\":\"v\",\"showlegend\":true,\"textposition\":\"auto\",\"x\":[\"Horror\"],\"xaxis\":\"x\",\"y\":[4],\"yaxis\":\"y\",\"type\":\"bar\"},{\"alignmentgroup\":\"True\",\"hovertemplate\":\"Genre=%{x}<br>Year=1984<br>count=%{y}<extra></extra>\",\"ids\":[\"Fantasy\"],\"legendgroup\":\"Fantasy\",\"marker\":{\"color\":\"#636efa\",\"pattern\":{\"shape\":\"\"}},\"name\":\"Fantasy\",\"offsetgroup\":\"Fantasy\",\"orientation\":\"v\",\"showlegend\":true,\"textposition\":\"auto\",\"x\":[\"Fantasy\"],\"xaxis\":\"x\",\"y\":[1],\"yaxis\":\"y\",\"type\":\"bar\"},{\"alignmentgroup\":\"True\",\"hovertemplate\":\"Genre=%{x}<br>Year=1984<br>count=%{y}<extra></extra>\",\"ids\":[\"Mystery\"],\"legendgroup\":\"Mystery\",\"marker\":{\"color\":\"#EF553B\",\"pattern\":{\"shape\":\"\"}},\"name\":\"Mystery\",\"offsetgroup\":\"Mystery\",\"orientation\":\"v\",\"showlegend\":true,\"textposition\":\"auto\",\"x\":[\"Mystery\"],\"xaxis\":\"x\",\"y\":[2],\"yaxis\":\"y\",\"type\":\"bar\"},{\"alignmentgroup\":\"True\",\"hovertemplate\":\"Genre=%{x}<br>Year=1984<br>count=%{y}<extra></extra>\",\"ids\":[\"Romance\"],\"legendgroup\":\"Romance\",\"marker\":{\"color\":\"#00cc96\",\"pattern\":{\"shape\":\"\"}},\"name\":\"Romance\",\"offsetgroup\":\"Romance\",\"orientation\":\"v\",\"showlegend\":true,\"textposition\":\"auto\",\"x\":[\"Romance\"],\"xaxis\":\"x\",\"y\":[1],\"yaxis\":\"y\",\"type\":\"bar\"},{\"alignmentgroup\":\"True\",\"hovertemplate\":\"Genre=%{x}<br>Year=1984<br>count=%{y}<extra></extra>\",\"ids\":[\"Sci-Fi\"],\"legendgroup\":\"Sci-Fi\",\"marker\":{\"color\":\"#ab63fa\",\"pattern\":{\"shape\":\"\"}},\"name\":\"Sci-Fi\",\"offsetgroup\":\"Sci-Fi\",\"orientation\":\"v\",\"showlegend\":true,\"textposition\":\"auto\",\"x\":[\"Sci-Fi\"],\"xaxis\":\"x\",\"y\":[1],\"yaxis\":\"y\",\"type\":\"bar\"}],\"name\":\"1984\"},{\"data\":[{\"alignmentgroup\":\"True\",\"hovertemplate\":\"Genre=%{x}<br>Year=1985<br>count=%{y}<extra></extra>\",\"ids\":[\"Action\"],\"legendgroup\":\"Action\",\"marker\":{\"color\":\"#636efa\",\"pattern\":{\"shape\":\"\"}},\"name\":\"Action\",\"offsetgroup\":\"Action\",\"orientation\":\"v\",\"showlegend\":true,\"textposition\":\"auto\",\"x\":[\"Action\"],\"xaxis\":\"x\",\"y\":[11],\"yaxis\":\"y\",\"type\":\"bar\"},{\"alignmentgroup\":\"True\",\"hovertemplate\":\"Genre=%{x}<br>Year=1985<br>count=%{y}<extra></extra>\",\"ids\":[\"Adventure\"],\"legendgroup\":\"Adventure\",\"marker\":{\"color\":\"#EF553B\",\"pattern\":{\"shape\":\"\"}},\"name\":\"Adventure\",\"offsetgroup\":\"Adventure\",\"orientation\":\"v\",\"showlegend\":true,\"textposition\":\"auto\",\"x\":[\"Adventure\"],\"xaxis\":\"x\",\"y\":[8],\"yaxis\":\"y\",\"type\":\"bar\"},{\"alignmentgroup\":\"True\",\"hovertemplate\":\"Genre=%{x}<br>Year=1985<br>count=%{y}<extra></extra>\",\"ids\":[\"Animation\"],\"legendgroup\":\"Animation\",\"marker\":{\"color\":\"#00cc96\",\"pattern\":{\"shape\":\"\"}},\"name\":\"Animation\",\"offsetgroup\":\"Animation\",\"orientation\":\"v\",\"showlegend\":true,\"textposition\":\"auto\",\"x\":[\"Animation\"],\"xaxis\":\"x\",\"y\":[1],\"yaxis\":\"y\",\"type\":\"bar\"},{\"alignmentgroup\":\"True\",\"hovertemplate\":\"Genre=%{x}<br>Year=1985<br>count=%{y}<extra></extra>\",\"ids\":[\"Children's\"],\"legendgroup\":\"Children's\",\"marker\":{\"color\":\"#ab63fa\",\"pattern\":{\"shape\":\"\"}},\"name\":\"Children's\",\"offsetgroup\":\"Children's\",\"orientation\":\"v\",\"showlegend\":true,\"textposition\":\"auto\",\"x\":[\"Children's\"],\"xaxis\":\"x\",\"y\":[1],\"yaxis\":\"y\",\"type\":\"bar\"},{\"alignmentgroup\":\"True\",\"hovertemplate\":\"Genre=%{x}<br>Year=1985<br>count=%{y}<extra></extra>\",\"ids\":[\"Comedy\"],\"legendgroup\":\"Comedy\",\"marker\":{\"color\":\"#FFA15A\",\"pattern\":{\"shape\":\"\"}},\"name\":\"Comedy\",\"offsetgroup\":\"Comedy\",\"orientation\":\"v\",\"showlegend\":true,\"textposition\":\"auto\",\"x\":[\"Comedy\"],\"xaxis\":\"x\",\"y\":[20],\"yaxis\":\"y\",\"type\":\"bar\"},{\"alignmentgroup\":\"True\",\"hovertemplate\":\"Genre=%{x}<br>Year=1985<br>count=%{y}<extra></extra>\",\"ids\":[\"Drama\"],\"legendgroup\":\"Drama\",\"marker\":{\"color\":\"#B6E880\",\"pattern\":{\"shape\":\"\"}},\"name\":\"Drama\",\"offsetgroup\":\"Drama\",\"orientation\":\"v\",\"showlegend\":true,\"textposition\":\"auto\",\"x\":[\"Drama\"],\"xaxis\":\"x\",\"y\":[15],\"yaxis\":\"y\",\"type\":\"bar\"},{\"alignmentgroup\":\"True\",\"hovertemplate\":\"Genre=%{x}<br>Year=1985<br>count=%{y}<extra></extra>\",\"ids\":[\"Horror\"],\"legendgroup\":\"Horror\",\"marker\":{\"color\":\"#FF97FF\",\"pattern\":{\"shape\":\"\"}},\"name\":\"Horror\",\"offsetgroup\":\"Horror\",\"orientation\":\"v\",\"showlegend\":true,\"textposition\":\"auto\",\"x\":[\"Horror\"],\"xaxis\":\"x\",\"y\":[6],\"yaxis\":\"y\",\"type\":\"bar\"},{\"alignmentgroup\":\"True\",\"hovertemplate\":\"Genre=%{x}<br>Year=1985<br>count=%{y}<extra></extra>\",\"ids\":[\"Sci-Fi\"],\"legendgroup\":\"Sci-Fi\",\"marker\":{\"color\":\"#ab63fa\",\"pattern\":{\"shape\":\"\"}},\"name\":\"Sci-Fi\",\"offsetgroup\":\"Sci-Fi\",\"orientation\":\"v\",\"showlegend\":true,\"textposition\":\"auto\",\"x\":[\"Sci-Fi\"],\"xaxis\":\"x\",\"y\":[1],\"yaxis\":\"y\",\"type\":\"bar\"},{\"alignmentgroup\":\"True\",\"hovertemplate\":\"Genre=%{x}<br>Year=1985<br>count=%{y}<extra></extra>\",\"ids\":[\"Thriller\"],\"legendgroup\":\"Thriller\",\"marker\":{\"color\":\"#FFA15A\",\"pattern\":{\"shape\":\"\"}},\"name\":\"Thriller\",\"offsetgroup\":\"Thriller\",\"orientation\":\"v\",\"showlegend\":true,\"textposition\":\"auto\",\"x\":[\"Thriller\"],\"xaxis\":\"x\",\"y\":[1],\"yaxis\":\"y\",\"type\":\"bar\"},{\"alignmentgroup\":\"True\",\"hovertemplate\":\"Genre=%{x}<br>Year=1985<br>count=%{y}<extra></extra>\",\"ids\":[\"Western\"],\"legendgroup\":\"Western\",\"marker\":{\"color\":\"#19d3f3\",\"pattern\":{\"shape\":\"\"}},\"name\":\"Western\",\"offsetgroup\":\"Western\",\"orientation\":\"v\",\"showlegend\":true,\"textposition\":\"auto\",\"x\":[\"Western\"],\"xaxis\":\"x\",\"y\":[1],\"yaxis\":\"y\",\"type\":\"bar\"}],\"name\":\"1985\"},{\"data\":[{\"alignmentgroup\":\"True\",\"hovertemplate\":\"Genre=%{x}<br>Year=1986<br>count=%{y}<extra></extra>\",\"ids\":[\"Action\"],\"legendgroup\":\"Action\",\"marker\":{\"color\":\"#636efa\",\"pattern\":{\"shape\":\"\"}},\"name\":\"Action\",\"offsetgroup\":\"Action\",\"orientation\":\"v\",\"showlegend\":true,\"textposition\":\"auto\",\"x\":[\"Action\"],\"xaxis\":\"x\",\"y\":[21],\"yaxis\":\"y\",\"type\":\"bar\"},{\"alignmentgroup\":\"True\",\"hovertemplate\":\"Genre=%{x}<br>Year=1986<br>count=%{y}<extra></extra>\",\"ids\":[\"Adventure\"],\"legendgroup\":\"Adventure\",\"marker\":{\"color\":\"#EF553B\",\"pattern\":{\"shape\":\"\"}},\"name\":\"Adventure\",\"offsetgroup\":\"Adventure\",\"orientation\":\"v\",\"showlegend\":true,\"textposition\":\"auto\",\"x\":[\"Adventure\"],\"xaxis\":\"x\",\"y\":[7],\"yaxis\":\"y\",\"type\":\"bar\"},{\"alignmentgroup\":\"True\",\"hovertemplate\":\"Genre=%{x}<br>Year=1986<br>count=%{y}<extra></extra>\",\"ids\":[\"Animation\"],\"legendgroup\":\"Animation\",\"marker\":{\"color\":\"#00cc96\",\"pattern\":{\"shape\":\"\"}},\"name\":\"Animation\",\"offsetgroup\":\"Animation\",\"orientation\":\"v\",\"showlegend\":true,\"textposition\":\"auto\",\"x\":[\"Animation\"],\"xaxis\":\"x\",\"y\":[2],\"yaxis\":\"y\",\"type\":\"bar\"},{\"alignmentgroup\":\"True\",\"hovertemplate\":\"Genre=%{x}<br>Year=1986<br>count=%{y}<extra></extra>\",\"ids\":[\"Children's\"],\"legendgroup\":\"Children's\",\"marker\":{\"color\":\"#ab63fa\",\"pattern\":{\"shape\":\"\"}},\"name\":\"Children's\",\"offsetgroup\":\"Children's\",\"orientation\":\"v\",\"showlegend\":true,\"textposition\":\"auto\",\"x\":[\"Children's\"],\"xaxis\":\"x\",\"y\":[1],\"yaxis\":\"y\",\"type\":\"bar\"},{\"alignmentgroup\":\"True\",\"hovertemplate\":\"Genre=%{x}<br>Year=1986<br>count=%{y}<extra></extra>\",\"ids\":[\"Comedy\"],\"legendgroup\":\"Comedy\",\"marker\":{\"color\":\"#FFA15A\",\"pattern\":{\"shape\":\"\"}},\"name\":\"Comedy\",\"offsetgroup\":\"Comedy\",\"orientation\":\"v\",\"showlegend\":true,\"textposition\":\"auto\",\"x\":[\"Comedy\"],\"xaxis\":\"x\",\"y\":[30],\"yaxis\":\"y\",\"type\":\"bar\"},{\"alignmentgroup\":\"True\",\"hovertemplate\":\"Genre=%{x}<br>Year=1986<br>count=%{y}<extra></extra>\",\"ids\":[\"Drama\"],\"legendgroup\":\"Drama\",\"marker\":{\"color\":\"#B6E880\",\"pattern\":{\"shape\":\"\"}},\"name\":\"Drama\",\"offsetgroup\":\"Drama\",\"orientation\":\"v\",\"showlegend\":true,\"textposition\":\"auto\",\"x\":[\"Drama\"],\"xaxis\":\"x\",\"y\":[28],\"yaxis\":\"y\",\"type\":\"bar\"},{\"alignmentgroup\":\"True\",\"hovertemplate\":\"Genre=%{x}<br>Year=1986<br>count=%{y}<extra></extra>\",\"ids\":[\"Horror\"],\"legendgroup\":\"Horror\",\"marker\":{\"color\":\"#FF97FF\",\"pattern\":{\"shape\":\"\"}},\"name\":\"Horror\",\"offsetgroup\":\"Horror\",\"orientation\":\"v\",\"showlegend\":true,\"textposition\":\"auto\",\"x\":[\"Horror\"],\"xaxis\":\"x\",\"y\":[13],\"yaxis\":\"y\",\"type\":\"bar\"},{\"alignmentgroup\":\"True\",\"hovertemplate\":\"Genre=%{x}<br>Year=1986<br>count=%{y}<extra></extra>\",\"ids\":[\"Mystery\"],\"legendgroup\":\"Mystery\",\"marker\":{\"color\":\"#EF553B\",\"pattern\":{\"shape\":\"\"}},\"name\":\"Mystery\",\"offsetgroup\":\"Mystery\",\"orientation\":\"v\",\"showlegend\":true,\"textposition\":\"auto\",\"x\":[\"Mystery\"],\"xaxis\":\"x\",\"y\":[1],\"yaxis\":\"y\",\"type\":\"bar\"},{\"alignmentgroup\":\"True\",\"hovertemplate\":\"Genre=%{x}<br>Year=1986<br>count=%{y}<extra></extra>\",\"ids\":[\"Musical\"],\"legendgroup\":\"Musical\",\"marker\":{\"color\":\"#FF6692\",\"pattern\":{\"shape\":\"\"}},\"name\":\"Musical\",\"offsetgroup\":\"Musical\",\"orientation\":\"v\",\"showlegend\":true,\"textposition\":\"auto\",\"x\":[\"Musical\"],\"xaxis\":\"x\",\"y\":[1],\"yaxis\":\"y\",\"type\":\"bar\"}],\"name\":\"1986\"},{\"data\":[{\"alignmentgroup\":\"True\",\"hovertemplate\":\"Genre=%{x}<br>Year=1987<br>count=%{y}<extra></extra>\",\"ids\":[\"Action\"],\"legendgroup\":\"Action\",\"marker\":{\"color\":\"#636efa\",\"pattern\":{\"shape\":\"\"}},\"name\":\"Action\",\"offsetgroup\":\"Action\",\"orientation\":\"v\",\"showlegend\":true,\"textposition\":\"auto\",\"x\":[\"Action\"],\"xaxis\":\"x\",\"y\":[17],\"yaxis\":\"y\",\"type\":\"bar\"},{\"alignmentgroup\":\"True\",\"hovertemplate\":\"Genre=%{x}<br>Year=1987<br>count=%{y}<extra></extra>\",\"ids\":[\"Adventure\"],\"legendgroup\":\"Adventure\",\"marker\":{\"color\":\"#EF553B\",\"pattern\":{\"shape\":\"\"}},\"name\":\"Adventure\",\"offsetgroup\":\"Adventure\",\"orientation\":\"v\",\"showlegend\":true,\"textposition\":\"auto\",\"x\":[\"Adventure\"],\"xaxis\":\"x\",\"y\":[3],\"yaxis\":\"y\",\"type\":\"bar\"},{\"alignmentgroup\":\"True\",\"hovertemplate\":\"Genre=%{x}<br>Year=1987<br>count=%{y}<extra></extra>\",\"ids\":[\"Comedy\"],\"legendgroup\":\"Comedy\",\"marker\":{\"color\":\"#FFA15A\",\"pattern\":{\"shape\":\"\"}},\"name\":\"Comedy\",\"offsetgroup\":\"Comedy\",\"orientation\":\"v\",\"showlegend\":true,\"textposition\":\"auto\",\"x\":[\"Comedy\"],\"xaxis\":\"x\",\"y\":[25],\"yaxis\":\"y\",\"type\":\"bar\"},{\"alignmentgroup\":\"True\",\"hovertemplate\":\"Genre=%{x}<br>Year=1987<br>count=%{y}<extra></extra>\",\"ids\":[\"Drama\"],\"legendgroup\":\"Drama\",\"marker\":{\"color\":\"#B6E880\",\"pattern\":{\"shape\":\"\"}},\"name\":\"Drama\",\"offsetgroup\":\"Drama\",\"orientation\":\"v\",\"showlegend\":true,\"textposition\":\"auto\",\"x\":[\"Drama\"],\"xaxis\":\"x\",\"y\":[11],\"yaxis\":\"y\",\"type\":\"bar\"},{\"alignmentgroup\":\"True\",\"hovertemplate\":\"Genre=%{x}<br>Year=1987<br>count=%{y}<extra></extra>\",\"ids\":[\"Horror\"],\"legendgroup\":\"Horror\",\"marker\":{\"color\":\"#FF97FF\",\"pattern\":{\"shape\":\"\"}},\"name\":\"Horror\",\"offsetgroup\":\"Horror\",\"orientation\":\"v\",\"showlegend\":true,\"textposition\":\"auto\",\"x\":[\"Horror\"],\"xaxis\":\"x\",\"y\":[9],\"yaxis\":\"y\",\"type\":\"bar\"},{\"alignmentgroup\":\"True\",\"hovertemplate\":\"Genre=%{x}<br>Year=1987<br>count=%{y}<extra></extra>\",\"ids\":[\"Film-Noir\"],\"legendgroup\":\"Film-Noir\",\"marker\":{\"color\":\"#FECB52\",\"pattern\":{\"shape\":\"\"}},\"name\":\"Film-Noir\",\"offsetgroup\":\"Film-Noir\",\"orientation\":\"v\",\"showlegend\":true,\"textposition\":\"auto\",\"x\":[\"Film-Noir\"],\"xaxis\":\"x\",\"y\":[1],\"yaxis\":\"y\",\"type\":\"bar\"},{\"alignmentgroup\":\"True\",\"hovertemplate\":\"Genre=%{x}<br>Year=1987<br>count=%{y}<extra></extra>\",\"ids\":[\"Fantasy\"],\"legendgroup\":\"Fantasy\",\"marker\":{\"color\":\"#636efa\",\"pattern\":{\"shape\":\"\"}},\"name\":\"Fantasy\",\"offsetgroup\":\"Fantasy\",\"orientation\":\"v\",\"showlegend\":true,\"textposition\":\"auto\",\"x\":[\"Fantasy\"],\"xaxis\":\"x\",\"y\":[1],\"yaxis\":\"y\",\"type\":\"bar\"},{\"alignmentgroup\":\"True\",\"hovertemplate\":\"Genre=%{x}<br>Year=1987<br>count=%{y}<extra></extra>\",\"ids\":[\"Thriller\"],\"legendgroup\":\"Thriller\",\"marker\":{\"color\":\"#FFA15A\",\"pattern\":{\"shape\":\"\"}},\"name\":\"Thriller\",\"offsetgroup\":\"Thriller\",\"orientation\":\"v\",\"showlegend\":true,\"textposition\":\"auto\",\"x\":[\"Thriller\"],\"xaxis\":\"x\",\"y\":[3],\"yaxis\":\"y\",\"type\":\"bar\"},{\"alignmentgroup\":\"True\",\"hovertemplate\":\"Genre=%{x}<br>Year=1987<br>count=%{y}<extra></extra>\",\"ids\":[\"Musical\"],\"legendgroup\":\"Musical\",\"marker\":{\"color\":\"#FF6692\",\"pattern\":{\"shape\":\"\"}},\"name\":\"Musical\",\"offsetgroup\":\"Musical\",\"orientation\":\"v\",\"showlegend\":true,\"textposition\":\"auto\",\"x\":[\"Musical\"],\"xaxis\":\"x\",\"y\":[1],\"yaxis\":\"y\",\"type\":\"bar\"}],\"name\":\"1987\"},{\"data\":[{\"alignmentgroup\":\"True\",\"hovertemplate\":\"Genre=%{x}<br>Year=1988<br>count=%{y}<extra></extra>\",\"ids\":[\"Action\"],\"legendgroup\":\"Action\",\"marker\":{\"color\":\"#636efa\",\"pattern\":{\"shape\":\"\"}},\"name\":\"Action\",\"offsetgroup\":\"Action\",\"orientation\":\"v\",\"showlegend\":true,\"textposition\":\"auto\",\"x\":[\"Action\"],\"xaxis\":\"x\",\"y\":[13],\"yaxis\":\"y\",\"type\":\"bar\"},{\"alignmentgroup\":\"True\",\"hovertemplate\":\"Genre=%{x}<br>Year=1988<br>count=%{y}<extra></extra>\",\"ids\":[\"Adventure\"],\"legendgroup\":\"Adventure\",\"marker\":{\"color\":\"#EF553B\",\"pattern\":{\"shape\":\"\"}},\"name\":\"Adventure\",\"offsetgroup\":\"Adventure\",\"orientation\":\"v\",\"showlegend\":true,\"textposition\":\"auto\",\"x\":[\"Adventure\"],\"xaxis\":\"x\",\"y\":[7],\"yaxis\":\"y\",\"type\":\"bar\"},{\"alignmentgroup\":\"True\",\"hovertemplate\":\"Genre=%{x}<br>Year=1988<br>count=%{y}<extra></extra>\",\"ids\":[\"Animation\"],\"legendgroup\":\"Animation\",\"marker\":{\"color\":\"#00cc96\",\"pattern\":{\"shape\":\"\"}},\"name\":\"Animation\",\"offsetgroup\":\"Animation\",\"orientation\":\"v\",\"showlegend\":true,\"textposition\":\"auto\",\"x\":[\"Animation\"],\"xaxis\":\"x\",\"y\":[1],\"yaxis\":\"y\",\"type\":\"bar\"},{\"alignmentgroup\":\"True\",\"hovertemplate\":\"Genre=%{x}<br>Year=1988<br>count=%{y}<extra></extra>\",\"ids\":[\"Comedy\"],\"legendgroup\":\"Comedy\",\"marker\":{\"color\":\"#FFA15A\",\"pattern\":{\"shape\":\"\"}},\"name\":\"Comedy\",\"offsetgroup\":\"Comedy\",\"orientation\":\"v\",\"showlegend\":true,\"textposition\":\"auto\",\"x\":[\"Comedy\"],\"xaxis\":\"x\",\"y\":[17],\"yaxis\":\"y\",\"type\":\"bar\"},{\"alignmentgroup\":\"True\",\"hovertemplate\":\"Genre=%{x}<br>Year=1988<br>count=%{y}<extra></extra>\",\"ids\":[\"Crime\"],\"legendgroup\":\"Crime\",\"marker\":{\"color\":\"#19d3f3\",\"pattern\":{\"shape\":\"\"}},\"name\":\"Crime\",\"offsetgroup\":\"Crime\",\"orientation\":\"v\",\"showlegend\":true,\"textposition\":\"auto\",\"x\":[\"Crime\"],\"xaxis\":\"x\",\"y\":[1],\"yaxis\":\"y\",\"type\":\"bar\"},{\"alignmentgroup\":\"True\",\"hovertemplate\":\"Genre=%{x}<br>Year=1988<br>count=%{y}<extra></extra>\",\"ids\":[\"Documentary\"],\"legendgroup\":\"Documentary\",\"marker\":{\"color\":\"#FF6692\",\"pattern\":{\"shape\":\"\"}},\"name\":\"Documentary\",\"offsetgroup\":\"Documentary\",\"orientation\":\"v\",\"showlegend\":true,\"textposition\":\"auto\",\"x\":[\"Documentary\"],\"xaxis\":\"x\",\"y\":[3],\"yaxis\":\"y\",\"type\":\"bar\"},{\"alignmentgroup\":\"True\",\"hovertemplate\":\"Genre=%{x}<br>Year=1988<br>count=%{y}<extra></extra>\",\"ids\":[\"Drama\"],\"legendgroup\":\"Drama\",\"marker\":{\"color\":\"#B6E880\",\"pattern\":{\"shape\":\"\"}},\"name\":\"Drama\",\"offsetgroup\":\"Drama\",\"orientation\":\"v\",\"showlegend\":true,\"textposition\":\"auto\",\"x\":[\"Drama\"],\"xaxis\":\"x\",\"y\":[14],\"yaxis\":\"y\",\"type\":\"bar\"},{\"alignmentgroup\":\"True\",\"hovertemplate\":\"Genre=%{x}<br>Year=1988<br>count=%{y}<extra></extra>\",\"ids\":[\"Horror\"],\"legendgroup\":\"Horror\",\"marker\":{\"color\":\"#FF97FF\",\"pattern\":{\"shape\":\"\"}},\"name\":\"Horror\",\"offsetgroup\":\"Horror\",\"orientation\":\"v\",\"showlegend\":true,\"textposition\":\"auto\",\"x\":[\"Horror\"],\"xaxis\":\"x\",\"y\":[10],\"yaxis\":\"y\",\"type\":\"bar\"},{\"alignmentgroup\":\"True\",\"hovertemplate\":\"Genre=%{x}<br>Year=1988<br>count=%{y}<extra></extra>\",\"ids\":[\"Sci-Fi\"],\"legendgroup\":\"Sci-Fi\",\"marker\":{\"color\":\"#ab63fa\",\"pattern\":{\"shape\":\"\"}},\"name\":\"Sci-Fi\",\"offsetgroup\":\"Sci-Fi\",\"orientation\":\"v\",\"showlegend\":true,\"textposition\":\"auto\",\"x\":[\"Sci-Fi\"],\"xaxis\":\"x\",\"y\":[1],\"yaxis\":\"y\",\"type\":\"bar\"},{\"alignmentgroup\":\"True\",\"hovertemplate\":\"Genre=%{x}<br>Year=1988<br>count=%{y}<extra></extra>\",\"ids\":[\"Thriller\"],\"legendgroup\":\"Thriller\",\"marker\":{\"color\":\"#FFA15A\",\"pattern\":{\"shape\":\"\"}},\"name\":\"Thriller\",\"offsetgroup\":\"Thriller\",\"orientation\":\"v\",\"showlegend\":true,\"textposition\":\"auto\",\"x\":[\"Thriller\"],\"xaxis\":\"x\",\"y\":[2],\"yaxis\":\"y\",\"type\":\"bar\"}],\"name\":\"1988\"},{\"data\":[{\"alignmentgroup\":\"True\",\"hovertemplate\":\"Genre=%{x}<br>Year=1989<br>count=%{y}<extra></extra>\",\"ids\":[\"Action\"],\"legendgroup\":\"Action\",\"marker\":{\"color\":\"#636efa\",\"pattern\":{\"shape\":\"\"}},\"name\":\"Action\",\"offsetgroup\":\"Action\",\"orientation\":\"v\",\"showlegend\":true,\"textposition\":\"auto\",\"x\":[\"Action\"],\"xaxis\":\"x\",\"y\":[9],\"yaxis\":\"y\",\"type\":\"bar\"},{\"alignmentgroup\":\"True\",\"hovertemplate\":\"Genre=%{x}<br>Year=1989<br>count=%{y}<extra></extra>\",\"ids\":[\"Adventure\"],\"legendgroup\":\"Adventure\",\"marker\":{\"color\":\"#EF553B\",\"pattern\":{\"shape\":\"\"}},\"name\":\"Adventure\",\"offsetgroup\":\"Adventure\",\"orientation\":\"v\",\"showlegend\":true,\"textposition\":\"auto\",\"x\":[\"Adventure\"],\"xaxis\":\"x\",\"y\":[3],\"yaxis\":\"y\",\"type\":\"bar\"},{\"alignmentgroup\":\"True\",\"hovertemplate\":\"Genre=%{x}<br>Year=1989<br>count=%{y}<extra></extra>\",\"ids\":[\"Animation\"],\"legendgroup\":\"Animation\",\"marker\":{\"color\":\"#00cc96\",\"pattern\":{\"shape\":\"\"}},\"name\":\"Animation\",\"offsetgroup\":\"Animation\",\"orientation\":\"v\",\"showlegend\":true,\"textposition\":\"auto\",\"x\":[\"Animation\"],\"xaxis\":\"x\",\"y\":[2],\"yaxis\":\"y\",\"type\":\"bar\"},{\"alignmentgroup\":\"True\",\"hovertemplate\":\"Genre=%{x}<br>Year=1989<br>count=%{y}<extra></extra>\",\"ids\":[\"Children's\"],\"legendgroup\":\"Children's\",\"marker\":{\"color\":\"#ab63fa\",\"pattern\":{\"shape\":\"\"}},\"name\":\"Children's\",\"offsetgroup\":\"Children's\",\"orientation\":\"v\",\"showlegend\":true,\"textposition\":\"auto\",\"x\":[\"Children's\"],\"xaxis\":\"x\",\"y\":[1],\"yaxis\":\"y\",\"type\":\"bar\"},{\"alignmentgroup\":\"True\",\"hovertemplate\":\"Genre=%{x}<br>Year=1989<br>count=%{y}<extra></extra>\",\"ids\":[\"Comedy\"],\"legendgroup\":\"Comedy\",\"marker\":{\"color\":\"#FFA15A\",\"pattern\":{\"shape\":\"\"}},\"name\":\"Comedy\",\"offsetgroup\":\"Comedy\",\"orientation\":\"v\",\"showlegend\":true,\"textposition\":\"auto\",\"x\":[\"Comedy\"],\"xaxis\":\"x\",\"y\":[21],\"yaxis\":\"y\",\"type\":\"bar\"},{\"alignmentgroup\":\"True\",\"hovertemplate\":\"Genre=%{x}<br>Year=1989<br>count=%{y}<extra></extra>\",\"ids\":[\"Crime\"],\"legendgroup\":\"Crime\",\"marker\":{\"color\":\"#19d3f3\",\"pattern\":{\"shape\":\"\"}},\"name\":\"Crime\",\"offsetgroup\":\"Crime\",\"orientation\":\"v\",\"showlegend\":true,\"textposition\":\"auto\",\"x\":[\"Crime\"],\"xaxis\":\"x\",\"y\":[1],\"yaxis\":\"y\",\"type\":\"bar\"},{\"alignmentgroup\":\"True\",\"hovertemplate\":\"Genre=%{x}<br>Year=1989<br>count=%{y}<extra></extra>\",\"ids\":[\"Documentary\"],\"legendgroup\":\"Documentary\",\"marker\":{\"color\":\"#FF6692\",\"pattern\":{\"shape\":\"\"}},\"name\":\"Documentary\",\"offsetgroup\":\"Documentary\",\"orientation\":\"v\",\"showlegend\":true,\"textposition\":\"auto\",\"x\":[\"Documentary\"],\"xaxis\":\"x\",\"y\":[1],\"yaxis\":\"y\",\"type\":\"bar\"},{\"alignmentgroup\":\"True\",\"hovertemplate\":\"Genre=%{x}<br>Year=1989<br>count=%{y}<extra></extra>\",\"ids\":[\"Drama\"],\"legendgroup\":\"Drama\",\"marker\":{\"color\":\"#B6E880\",\"pattern\":{\"shape\":\"\"}},\"name\":\"Drama\",\"offsetgroup\":\"Drama\",\"orientation\":\"v\",\"showlegend\":true,\"textposition\":\"auto\",\"x\":[\"Drama\"],\"xaxis\":\"x\",\"y\":[13],\"yaxis\":\"y\",\"type\":\"bar\"},{\"alignmentgroup\":\"True\",\"hovertemplate\":\"Genre=%{x}<br>Year=1989<br>count=%{y}<extra></extra>\",\"ids\":[\"Horror\"],\"legendgroup\":\"Horror\",\"marker\":{\"color\":\"#FF97FF\",\"pattern\":{\"shape\":\"\"}},\"name\":\"Horror\",\"offsetgroup\":\"Horror\",\"orientation\":\"v\",\"showlegend\":true,\"textposition\":\"auto\",\"x\":[\"Horror\"],\"xaxis\":\"x\",\"y\":[8],\"yaxis\":\"y\",\"type\":\"bar\"},{\"alignmentgroup\":\"True\",\"hovertemplate\":\"Genre=%{x}<br>Year=1989<br>count=%{y}<extra></extra>\",\"ids\":[\"Thriller\"],\"legendgroup\":\"Thriller\",\"marker\":{\"color\":\"#FFA15A\",\"pattern\":{\"shape\":\"\"}},\"name\":\"Thriller\",\"offsetgroup\":\"Thriller\",\"orientation\":\"v\",\"showlegend\":true,\"textposition\":\"auto\",\"x\":[\"Thriller\"],\"xaxis\":\"x\",\"y\":[1],\"yaxis\":\"y\",\"type\":\"bar\"}],\"name\":\"1989\"},{\"data\":[{\"alignmentgroup\":\"True\",\"hovertemplate\":\"Genre=%{x}<br>Year=1990<br>count=%{y}<extra></extra>\",\"ids\":[\"Action\"],\"legendgroup\":\"Action\",\"marker\":{\"color\":\"#636efa\",\"pattern\":{\"shape\":\"\"}},\"name\":\"Action\",\"offsetgroup\":\"Action\",\"orientation\":\"v\",\"showlegend\":true,\"textposition\":\"auto\",\"x\":[\"Action\"],\"xaxis\":\"x\",\"y\":[19],\"yaxis\":\"y\",\"type\":\"bar\"},{\"alignmentgroup\":\"True\",\"hovertemplate\":\"Genre=%{x}<br>Year=1990<br>count=%{y}<extra></extra>\",\"ids\":[\"Adventure\"],\"legendgroup\":\"Adventure\",\"marker\":{\"color\":\"#EF553B\",\"pattern\":{\"shape\":\"\"}},\"name\":\"Adventure\",\"offsetgroup\":\"Adventure\",\"orientation\":\"v\",\"showlegend\":true,\"textposition\":\"auto\",\"x\":[\"Adventure\"],\"xaxis\":\"x\",\"y\":[2],\"yaxis\":\"y\",\"type\":\"bar\"},{\"alignmentgroup\":\"True\",\"hovertemplate\":\"Genre=%{x}<br>Year=1990<br>count=%{y}<extra></extra>\",\"ids\":[\"Animation\"],\"legendgroup\":\"Animation\",\"marker\":{\"color\":\"#00cc96\",\"pattern\":{\"shape\":\"\"}},\"name\":\"Animation\",\"offsetgroup\":\"Animation\",\"orientation\":\"v\",\"showlegend\":true,\"textposition\":\"auto\",\"x\":[\"Animation\"],\"xaxis\":\"x\",\"y\":[2],\"yaxis\":\"y\",\"type\":\"bar\"},{\"alignmentgroup\":\"True\",\"hovertemplate\":\"Genre=%{x}<br>Year=1990<br>count=%{y}<extra></extra>\",\"ids\":[\"Children's\"],\"legendgroup\":\"Children's\",\"marker\":{\"color\":\"#ab63fa\",\"pattern\":{\"shape\":\"\"}},\"name\":\"Children's\",\"offsetgroup\":\"Children's\",\"orientation\":\"v\",\"showlegend\":true,\"textposition\":\"auto\",\"x\":[\"Children's\"],\"xaxis\":\"x\",\"y\":[1],\"yaxis\":\"y\",\"type\":\"bar\"},{\"alignmentgroup\":\"True\",\"hovertemplate\":\"Genre=%{x}<br>Year=1990<br>count=%{y}<extra></extra>\",\"ids\":[\"Comedy\"],\"legendgroup\":\"Comedy\",\"marker\":{\"color\":\"#FFA15A\",\"pattern\":{\"shape\":\"\"}},\"name\":\"Comedy\",\"offsetgroup\":\"Comedy\",\"orientation\":\"v\",\"showlegend\":true,\"textposition\":\"auto\",\"x\":[\"Comedy\"],\"xaxis\":\"x\",\"y\":[15],\"yaxis\":\"y\",\"type\":\"bar\"},{\"alignmentgroup\":\"True\",\"hovertemplate\":\"Genre=%{x}<br>Year=1990<br>count=%{y}<extra></extra>\",\"ids\":[\"Crime\"],\"legendgroup\":\"Crime\",\"marker\":{\"color\":\"#19d3f3\",\"pattern\":{\"shape\":\"\"}},\"name\":\"Crime\",\"offsetgroup\":\"Crime\",\"orientation\":\"v\",\"showlegend\":true,\"textposition\":\"auto\",\"x\":[\"Crime\"],\"xaxis\":\"x\",\"y\":[3],\"yaxis\":\"y\",\"type\":\"bar\"},{\"alignmentgroup\":\"True\",\"hovertemplate\":\"Genre=%{x}<br>Year=1990<br>count=%{y}<extra></extra>\",\"ids\":[\"Documentary\"],\"legendgroup\":\"Documentary\",\"marker\":{\"color\":\"#FF6692\",\"pattern\":{\"shape\":\"\"}},\"name\":\"Documentary\",\"offsetgroup\":\"Documentary\",\"orientation\":\"v\",\"showlegend\":true,\"textposition\":\"auto\",\"x\":[\"Documentary\"],\"xaxis\":\"x\",\"y\":[2],\"yaxis\":\"y\",\"type\":\"bar\"},{\"alignmentgroup\":\"True\",\"hovertemplate\":\"Genre=%{x}<br>Year=1990<br>count=%{y}<extra></extra>\",\"ids\":[\"Drama\"],\"legendgroup\":\"Drama\",\"marker\":{\"color\":\"#B6E880\",\"pattern\":{\"shape\":\"\"}},\"name\":\"Drama\",\"offsetgroup\":\"Drama\",\"orientation\":\"v\",\"showlegend\":true,\"textposition\":\"auto\",\"x\":[\"Drama\"],\"xaxis\":\"x\",\"y\":[17],\"yaxis\":\"y\",\"type\":\"bar\"},{\"alignmentgroup\":\"True\",\"hovertemplate\":\"Genre=%{x}<br>Year=1990<br>count=%{y}<extra></extra>\",\"ids\":[\"Horror\"],\"legendgroup\":\"Horror\",\"marker\":{\"color\":\"#FF97FF\",\"pattern\":{\"shape\":\"\"}},\"name\":\"Horror\",\"offsetgroup\":\"Horror\",\"orientation\":\"v\",\"showlegend\":true,\"textposition\":\"auto\",\"x\":[\"Horror\"],\"xaxis\":\"x\",\"y\":[13],\"yaxis\":\"y\",\"type\":\"bar\"},{\"alignmentgroup\":\"True\",\"hovertemplate\":\"Genre=%{x}<br>Year=1990<br>count=%{y}<extra></extra>\",\"ids\":[\"Thriller\"],\"legendgroup\":\"Thriller\",\"marker\":{\"color\":\"#FFA15A\",\"pattern\":{\"shape\":\"\"}},\"name\":\"Thriller\",\"offsetgroup\":\"Thriller\",\"orientation\":\"v\",\"showlegend\":true,\"textposition\":\"auto\",\"x\":[\"Thriller\"],\"xaxis\":\"x\",\"y\":[3],\"yaxis\":\"y\",\"type\":\"bar\"}],\"name\":\"1990\"},{\"data\":[{\"alignmentgroup\":\"True\",\"hovertemplate\":\"Genre=%{x}<br>Year=1991<br>count=%{y}<extra></extra>\",\"ids\":[\"Action\"],\"legendgroup\":\"Action\",\"marker\":{\"color\":\"#636efa\",\"pattern\":{\"shape\":\"\"}},\"name\":\"Action\",\"offsetgroup\":\"Action\",\"orientation\":\"v\",\"showlegend\":true,\"textposition\":\"auto\",\"x\":[\"Action\"],\"xaxis\":\"x\",\"y\":[6],\"yaxis\":\"y\",\"type\":\"bar\"},{\"alignmentgroup\":\"True\",\"hovertemplate\":\"Genre=%{x}<br>Year=1991<br>count=%{y}<extra></extra>\",\"ids\":[\"Adventure\"],\"legendgroup\":\"Adventure\",\"marker\":{\"color\":\"#EF553B\",\"pattern\":{\"shape\":\"\"}},\"name\":\"Adventure\",\"offsetgroup\":\"Adventure\",\"orientation\":\"v\",\"showlegend\":true,\"textposition\":\"auto\",\"x\":[\"Adventure\"],\"xaxis\":\"x\",\"y\":[2],\"yaxis\":\"y\",\"type\":\"bar\"},{\"alignmentgroup\":\"True\",\"hovertemplate\":\"Genre=%{x}<br>Year=1991<br>count=%{y}<extra></extra>\",\"ids\":[\"Animation\"],\"legendgroup\":\"Animation\",\"marker\":{\"color\":\"#00cc96\",\"pattern\":{\"shape\":\"\"}},\"name\":\"Animation\",\"offsetgroup\":\"Animation\",\"orientation\":\"v\",\"showlegend\":true,\"textposition\":\"auto\",\"x\":[\"Animation\"],\"xaxis\":\"x\",\"y\":[2],\"yaxis\":\"y\",\"type\":\"bar\"},{\"alignmentgroup\":\"True\",\"hovertemplate\":\"Genre=%{x}<br>Year=1991<br>count=%{y}<extra></extra>\",\"ids\":[\"Comedy\"],\"legendgroup\":\"Comedy\",\"marker\":{\"color\":\"#FFA15A\",\"pattern\":{\"shape\":\"\"}},\"name\":\"Comedy\",\"offsetgroup\":\"Comedy\",\"orientation\":\"v\",\"showlegend\":true,\"textposition\":\"auto\",\"x\":[\"Comedy\"],\"xaxis\":\"x\",\"y\":[22],\"yaxis\":\"y\",\"type\":\"bar\"},{\"alignmentgroup\":\"True\",\"hovertemplate\":\"Genre=%{x}<br>Year=1991<br>count=%{y}<extra></extra>\",\"ids\":[\"Crime\"],\"legendgroup\":\"Crime\",\"marker\":{\"color\":\"#19d3f3\",\"pattern\":{\"shape\":\"\"}},\"name\":\"Crime\",\"offsetgroup\":\"Crime\",\"orientation\":\"v\",\"showlegend\":true,\"textposition\":\"auto\",\"x\":[\"Crime\"],\"xaxis\":\"x\",\"y\":[1],\"yaxis\":\"y\",\"type\":\"bar\"},{\"alignmentgroup\":\"True\",\"hovertemplate\":\"Genre=%{x}<br>Year=1991<br>count=%{y}<extra></extra>\",\"ids\":[\"Documentary\"],\"legendgroup\":\"Documentary\",\"marker\":{\"color\":\"#FF6692\",\"pattern\":{\"shape\":\"\"}},\"name\":\"Documentary\",\"offsetgroup\":\"Documentary\",\"orientation\":\"v\",\"showlegend\":true,\"textposition\":\"auto\",\"x\":[\"Documentary\"],\"xaxis\":\"x\",\"y\":[1],\"yaxis\":\"y\",\"type\":\"bar\"},{\"alignmentgroup\":\"True\",\"hovertemplate\":\"Genre=%{x}<br>Year=1991<br>count=%{y}<extra></extra>\",\"ids\":[\"Drama\"],\"legendgroup\":\"Drama\",\"marker\":{\"color\":\"#B6E880\",\"pattern\":{\"shape\":\"\"}},\"name\":\"Drama\",\"offsetgroup\":\"Drama\",\"orientation\":\"v\",\"showlegend\":true,\"textposition\":\"auto\",\"x\":[\"Drama\"],\"xaxis\":\"x\",\"y\":[19],\"yaxis\":\"y\",\"type\":\"bar\"},{\"alignmentgroup\":\"True\",\"hovertemplate\":\"Genre=%{x}<br>Year=1991<br>count=%{y}<extra></extra>\",\"ids\":[\"Horror\"],\"legendgroup\":\"Horror\",\"marker\":{\"color\":\"#FF97FF\",\"pattern\":{\"shape\":\"\"}},\"name\":\"Horror\",\"offsetgroup\":\"Horror\",\"orientation\":\"v\",\"showlegend\":true,\"textposition\":\"auto\",\"x\":[\"Horror\"],\"xaxis\":\"x\",\"y\":[3],\"yaxis\":\"y\",\"type\":\"bar\"},{\"alignmentgroup\":\"True\",\"hovertemplate\":\"Genre=%{x}<br>Year=1991<br>count=%{y}<extra></extra>\",\"ids\":[\"Mystery\"],\"legendgroup\":\"Mystery\",\"marker\":{\"color\":\"#EF553B\",\"pattern\":{\"shape\":\"\"}},\"name\":\"Mystery\",\"offsetgroup\":\"Mystery\",\"orientation\":\"v\",\"showlegend\":true,\"textposition\":\"auto\",\"x\":[\"Mystery\"],\"xaxis\":\"x\",\"y\":[2],\"yaxis\":\"y\",\"type\":\"bar\"},{\"alignmentgroup\":\"True\",\"hovertemplate\":\"Genre=%{x}<br>Year=1991<br>count=%{y}<extra></extra>\",\"ids\":[\"Thriller\"],\"legendgroup\":\"Thriller\",\"marker\":{\"color\":\"#FFA15A\",\"pattern\":{\"shape\":\"\"}},\"name\":\"Thriller\",\"offsetgroup\":\"Thriller\",\"orientation\":\"v\",\"showlegend\":true,\"textposition\":\"auto\",\"x\":[\"Thriller\"],\"xaxis\":\"x\",\"y\":[2],\"yaxis\":\"y\",\"type\":\"bar\"}],\"name\":\"1991\"},{\"data\":[{\"alignmentgroup\":\"True\",\"hovertemplate\":\"Genre=%{x}<br>Year=1992<br>count=%{y}<extra></extra>\",\"ids\":[\"Action\"],\"legendgroup\":\"Action\",\"marker\":{\"color\":\"#636efa\",\"pattern\":{\"shape\":\"\"}},\"name\":\"Action\",\"offsetgroup\":\"Action\",\"orientation\":\"v\",\"showlegend\":true,\"textposition\":\"auto\",\"x\":[\"Action\"],\"xaxis\":\"x\",\"y\":[21],\"yaxis\":\"y\",\"type\":\"bar\"},{\"alignmentgroup\":\"True\",\"hovertemplate\":\"Genre=%{x}<br>Year=1992<br>count=%{y}<extra></extra>\",\"ids\":[\"Adventure\"],\"legendgroup\":\"Adventure\",\"marker\":{\"color\":\"#EF553B\",\"pattern\":{\"shape\":\"\"}},\"name\":\"Adventure\",\"offsetgroup\":\"Adventure\",\"orientation\":\"v\",\"showlegend\":true,\"textposition\":\"auto\",\"x\":[\"Adventure\"],\"xaxis\":\"x\",\"y\":[2],\"yaxis\":\"y\",\"type\":\"bar\"},{\"alignmentgroup\":\"True\",\"hovertemplate\":\"Genre=%{x}<br>Year=1992<br>count=%{y}<extra></extra>\",\"ids\":[\"Animation\"],\"legendgroup\":\"Animation\",\"marker\":{\"color\":\"#00cc96\",\"pattern\":{\"shape\":\"\"}},\"name\":\"Animation\",\"offsetgroup\":\"Animation\",\"orientation\":\"v\",\"showlegend\":true,\"textposition\":\"auto\",\"x\":[\"Animation\"],\"xaxis\":\"x\",\"y\":[3],\"yaxis\":\"y\",\"type\":\"bar\"},{\"alignmentgroup\":\"True\",\"hovertemplate\":\"Genre=%{x}<br>Year=1992<br>count=%{y}<extra></extra>\",\"ids\":[\"Children's\"],\"legendgroup\":\"Children's\",\"marker\":{\"color\":\"#ab63fa\",\"pattern\":{\"shape\":\"\"}},\"name\":\"Children's\",\"offsetgroup\":\"Children's\",\"orientation\":\"v\",\"showlegend\":true,\"textposition\":\"auto\",\"x\":[\"Children's\"],\"xaxis\":\"x\",\"y\":[5],\"yaxis\":\"y\",\"type\":\"bar\"},{\"alignmentgroup\":\"True\",\"hovertemplate\":\"Genre=%{x}<br>Year=1992<br>count=%{y}<extra></extra>\",\"ids\":[\"Comedy\"],\"legendgroup\":\"Comedy\",\"marker\":{\"color\":\"#FFA15A\",\"pattern\":{\"shape\":\"\"}},\"name\":\"Comedy\",\"offsetgroup\":\"Comedy\",\"orientation\":\"v\",\"showlegend\":true,\"textposition\":\"auto\",\"x\":[\"Comedy\"],\"xaxis\":\"x\",\"y\":[26],\"yaxis\":\"y\",\"type\":\"bar\"},{\"alignmentgroup\":\"True\",\"hovertemplate\":\"Genre=%{x}<br>Year=1992<br>count=%{y}<extra></extra>\",\"ids\":[\"Crime\"],\"legendgroup\":\"Crime\",\"marker\":{\"color\":\"#19d3f3\",\"pattern\":{\"shape\":\"\"}},\"name\":\"Crime\",\"offsetgroup\":\"Crime\",\"orientation\":\"v\",\"showlegend\":true,\"textposition\":\"auto\",\"x\":[\"Crime\"],\"xaxis\":\"x\",\"y\":[4],\"yaxis\":\"y\",\"type\":\"bar\"},{\"alignmentgroup\":\"True\",\"hovertemplate\":\"Genre=%{x}<br>Year=1992<br>count=%{y}<extra></extra>\",\"ids\":[\"Documentary\"],\"legendgroup\":\"Documentary\",\"marker\":{\"color\":\"#FF6692\",\"pattern\":{\"shape\":\"\"}},\"name\":\"Documentary\",\"offsetgroup\":\"Documentary\",\"orientation\":\"v\",\"showlegend\":true,\"textposition\":\"auto\",\"x\":[\"Documentary\"],\"xaxis\":\"x\",\"y\":[1],\"yaxis\":\"y\",\"type\":\"bar\"},{\"alignmentgroup\":\"True\",\"hovertemplate\":\"Genre=%{x}<br>Year=1992<br>count=%{y}<extra></extra>\",\"ids\":[\"Drama\"],\"legendgroup\":\"Drama\",\"marker\":{\"color\":\"#B6E880\",\"pattern\":{\"shape\":\"\"}},\"name\":\"Drama\",\"offsetgroup\":\"Drama\",\"orientation\":\"v\",\"showlegend\":true,\"textposition\":\"auto\",\"x\":[\"Drama\"],\"xaxis\":\"x\",\"y\":[24],\"yaxis\":\"y\",\"type\":\"bar\"},{\"alignmentgroup\":\"True\",\"hovertemplate\":\"Genre=%{x}<br>Year=1992<br>count=%{y}<extra></extra>\",\"ids\":[\"Horror\"],\"legendgroup\":\"Horror\",\"marker\":{\"color\":\"#FF97FF\",\"pattern\":{\"shape\":\"\"}},\"name\":\"Horror\",\"offsetgroup\":\"Horror\",\"orientation\":\"v\",\"showlegend\":true,\"textposition\":\"auto\",\"x\":[\"Horror\"],\"xaxis\":\"x\",\"y\":[9],\"yaxis\":\"y\",\"type\":\"bar\"},{\"alignmentgroup\":\"True\",\"hovertemplate\":\"Genre=%{x}<br>Year=1992<br>count=%{y}<extra></extra>\",\"ids\":[\"Mystery\"],\"legendgroup\":\"Mystery\",\"marker\":{\"color\":\"#EF553B\",\"pattern\":{\"shape\":\"\"}},\"name\":\"Mystery\",\"offsetgroup\":\"Mystery\",\"orientation\":\"v\",\"showlegend\":true,\"textposition\":\"auto\",\"x\":[\"Mystery\"],\"xaxis\":\"x\",\"y\":[1],\"yaxis\":\"y\",\"type\":\"bar\"},{\"alignmentgroup\":\"True\",\"hovertemplate\":\"Genre=%{x}<br>Year=1992<br>count=%{y}<extra></extra>\",\"ids\":[\"Sci-Fi\"],\"legendgroup\":\"Sci-Fi\",\"marker\":{\"color\":\"#ab63fa\",\"pattern\":{\"shape\":\"\"}},\"name\":\"Sci-Fi\",\"offsetgroup\":\"Sci-Fi\",\"orientation\":\"v\",\"showlegend\":true,\"textposition\":\"auto\",\"x\":[\"Sci-Fi\"],\"xaxis\":\"x\",\"y\":[1],\"yaxis\":\"y\",\"type\":\"bar\"},{\"alignmentgroup\":\"True\",\"hovertemplate\":\"Genre=%{x}<br>Year=1992<br>count=%{y}<extra></extra>\",\"ids\":[\"Thriller\"],\"legendgroup\":\"Thriller\",\"marker\":{\"color\":\"#FFA15A\",\"pattern\":{\"shape\":\"\"}},\"name\":\"Thriller\",\"offsetgroup\":\"Thriller\",\"orientation\":\"v\",\"showlegend\":true,\"textposition\":\"auto\",\"x\":[\"Thriller\"],\"xaxis\":\"x\",\"y\":[4],\"yaxis\":\"y\",\"type\":\"bar\"},{\"alignmentgroup\":\"True\",\"hovertemplate\":\"Genre=%{x}<br>Year=1992<br>count=%{y}<extra></extra>\",\"ids\":[\"Western\"],\"legendgroup\":\"Western\",\"marker\":{\"color\":\"#19d3f3\",\"pattern\":{\"shape\":\"\"}},\"name\":\"Western\",\"offsetgroup\":\"Western\",\"orientation\":\"v\",\"showlegend\":true,\"textposition\":\"auto\",\"x\":[\"Western\"],\"xaxis\":\"x\",\"y\":[1],\"yaxis\":\"y\",\"type\":\"bar\"}],\"name\":\"1992\"},{\"data\":[{\"alignmentgroup\":\"True\",\"hovertemplate\":\"Genre=%{x}<br>Year=1993<br>count=%{y}<extra></extra>\",\"ids\":[\"Action\"],\"legendgroup\":\"Action\",\"marker\":{\"color\":\"#636efa\",\"pattern\":{\"shape\":\"\"}},\"name\":\"Action\",\"offsetgroup\":\"Action\",\"orientation\":\"v\",\"showlegend\":true,\"textposition\":\"auto\",\"x\":[\"Action\"],\"xaxis\":\"x\",\"y\":[25],\"yaxis\":\"y\",\"type\":\"bar\"},{\"alignmentgroup\":\"True\",\"hovertemplate\":\"Genre=%{x}<br>Year=1993<br>count=%{y}<extra></extra>\",\"ids\":[\"Adventure\"],\"legendgroup\":\"Adventure\",\"marker\":{\"color\":\"#EF553B\",\"pattern\":{\"shape\":\"\"}},\"name\":\"Adventure\",\"offsetgroup\":\"Adventure\",\"orientation\":\"v\",\"showlegend\":true,\"textposition\":\"auto\",\"x\":[\"Adventure\"],\"xaxis\":\"x\",\"y\":[4],\"yaxis\":\"y\",\"type\":\"bar\"},{\"alignmentgroup\":\"True\",\"hovertemplate\":\"Genre=%{x}<br>Year=1993<br>count=%{y}<extra></extra>\",\"ids\":[\"Animation\"],\"legendgroup\":\"Animation\",\"marker\":{\"color\":\"#00cc96\",\"pattern\":{\"shape\":\"\"}},\"name\":\"Animation\",\"offsetgroup\":\"Animation\",\"orientation\":\"v\",\"showlegend\":true,\"textposition\":\"auto\",\"x\":[\"Animation\"],\"xaxis\":\"x\",\"y\":[4],\"yaxis\":\"y\",\"type\":\"bar\"},{\"alignmentgroup\":\"True\",\"hovertemplate\":\"Genre=%{x}<br>Year=1993<br>count=%{y}<extra></extra>\",\"ids\":[\"Children's\"],\"legendgroup\":\"Children's\",\"marker\":{\"color\":\"#ab63fa\",\"pattern\":{\"shape\":\"\"}},\"name\":\"Children's\",\"offsetgroup\":\"Children's\",\"orientation\":\"v\",\"showlegend\":true,\"textposition\":\"auto\",\"x\":[\"Children's\"],\"xaxis\":\"x\",\"y\":[3],\"yaxis\":\"y\",\"type\":\"bar\"},{\"alignmentgroup\":\"True\",\"hovertemplate\":\"Genre=%{x}<br>Year=1993<br>count=%{y}<extra></extra>\",\"ids\":[\"Comedy\"],\"legendgroup\":\"Comedy\",\"marker\":{\"color\":\"#FFA15A\",\"pattern\":{\"shape\":\"\"}},\"name\":\"Comedy\",\"offsetgroup\":\"Comedy\",\"orientation\":\"v\",\"showlegend\":true,\"textposition\":\"auto\",\"x\":[\"Comedy\"],\"xaxis\":\"x\",\"y\":[39],\"yaxis\":\"y\",\"type\":\"bar\"},{\"alignmentgroup\":\"True\",\"hovertemplate\":\"Genre=%{x}<br>Year=1993<br>count=%{y}<extra></extra>\",\"ids\":[\"Crime\"],\"legendgroup\":\"Crime\",\"marker\":{\"color\":\"#19d3f3\",\"pattern\":{\"shape\":\"\"}},\"name\":\"Crime\",\"offsetgroup\":\"Crime\",\"orientation\":\"v\",\"showlegend\":true,\"textposition\":\"auto\",\"x\":[\"Crime\"],\"xaxis\":\"x\",\"y\":[4],\"yaxis\":\"y\",\"type\":\"bar\"},{\"alignmentgroup\":\"True\",\"hovertemplate\":\"Genre=%{x}<br>Year=1993<br>count=%{y}<extra></extra>\",\"ids\":[\"Documentary\"],\"legendgroup\":\"Documentary\",\"marker\":{\"color\":\"#FF6692\",\"pattern\":{\"shape\":\"\"}},\"name\":\"Documentary\",\"offsetgroup\":\"Documentary\",\"orientation\":\"v\",\"showlegend\":true,\"textposition\":\"auto\",\"x\":[\"Documentary\"],\"xaxis\":\"x\",\"y\":[5],\"yaxis\":\"y\",\"type\":\"bar\"},{\"alignmentgroup\":\"True\",\"hovertemplate\":\"Genre=%{x}<br>Year=1993<br>count=%{y}<extra></extra>\",\"ids\":[\"Drama\"],\"legendgroup\":\"Drama\",\"marker\":{\"color\":\"#B6E880\",\"pattern\":{\"shape\":\"\"}},\"name\":\"Drama\",\"offsetgroup\":\"Drama\",\"orientation\":\"v\",\"showlegend\":true,\"textposition\":\"auto\",\"x\":[\"Drama\"],\"xaxis\":\"x\",\"y\":[64],\"yaxis\":\"y\",\"type\":\"bar\"},{\"alignmentgroup\":\"True\",\"hovertemplate\":\"Genre=%{x}<br>Year=1993<br>count=%{y}<extra></extra>\",\"ids\":[\"Horror\"],\"legendgroup\":\"Horror\",\"marker\":{\"color\":\"#FF97FF\",\"pattern\":{\"shape\":\"\"}},\"name\":\"Horror\",\"offsetgroup\":\"Horror\",\"orientation\":\"v\",\"showlegend\":true,\"textposition\":\"auto\",\"x\":[\"Horror\"],\"xaxis\":\"x\",\"y\":[6],\"yaxis\":\"y\",\"type\":\"bar\"},{\"alignmentgroup\":\"True\",\"hovertemplate\":\"Genre=%{x}<br>Year=1993<br>count=%{y}<extra></extra>\",\"ids\":[\"Film-Noir\"],\"legendgroup\":\"Film-Noir\",\"marker\":{\"color\":\"#FECB52\",\"pattern\":{\"shape\":\"\"}},\"name\":\"Film-Noir\",\"offsetgroup\":\"Film-Noir\",\"orientation\":\"v\",\"showlegend\":true,\"textposition\":\"auto\",\"x\":[\"Film-Noir\"],\"xaxis\":\"x\",\"y\":[1],\"yaxis\":\"y\",\"type\":\"bar\"},{\"alignmentgroup\":\"True\",\"hovertemplate\":\"Genre=%{x}<br>Year=1993<br>count=%{y}<extra></extra>\",\"ids\":[\"Mystery\"],\"legendgroup\":\"Mystery\",\"marker\":{\"color\":\"#EF553B\",\"pattern\":{\"shape\":\"\"}},\"name\":\"Mystery\",\"offsetgroup\":\"Mystery\",\"orientation\":\"v\",\"showlegend\":true,\"textposition\":\"auto\",\"x\":[\"Mystery\"],\"xaxis\":\"x\",\"y\":[1],\"yaxis\":\"y\",\"type\":\"bar\"},{\"alignmentgroup\":\"True\",\"hovertemplate\":\"Genre=%{x}<br>Year=1993<br>count=%{y}<extra></extra>\",\"ids\":[\"Sci-Fi\"],\"legendgroup\":\"Sci-Fi\",\"marker\":{\"color\":\"#ab63fa\",\"pattern\":{\"shape\":\"\"}},\"name\":\"Sci-Fi\",\"offsetgroup\":\"Sci-Fi\",\"orientation\":\"v\",\"showlegend\":true,\"textposition\":\"auto\",\"x\":[\"Sci-Fi\"],\"xaxis\":\"x\",\"y\":[2],\"yaxis\":\"y\",\"type\":\"bar\"},{\"alignmentgroup\":\"True\",\"hovertemplate\":\"Genre=%{x}<br>Year=1993<br>count=%{y}<extra></extra>\",\"ids\":[\"Thriller\"],\"legendgroup\":\"Thriller\",\"marker\":{\"color\":\"#FFA15A\",\"pattern\":{\"shape\":\"\"}},\"name\":\"Thriller\",\"offsetgroup\":\"Thriller\",\"orientation\":\"v\",\"showlegend\":true,\"textposition\":\"auto\",\"x\":[\"Thriller\"],\"xaxis\":\"x\",\"y\":[5],\"yaxis\":\"y\",\"type\":\"bar\"},{\"alignmentgroup\":\"True\",\"hovertemplate\":\"Genre=%{x}<br>Year=1993<br>count=%{y}<extra></extra>\",\"ids\":[\"Western\"],\"legendgroup\":\"Western\",\"marker\":{\"color\":\"#19d3f3\",\"pattern\":{\"shape\":\"\"}},\"name\":\"Western\",\"offsetgroup\":\"Western\",\"orientation\":\"v\",\"showlegend\":true,\"textposition\":\"auto\",\"x\":[\"Western\"],\"xaxis\":\"x\",\"y\":[1],\"yaxis\":\"y\",\"type\":\"bar\"},{\"alignmentgroup\":\"True\",\"hovertemplate\":\"Genre=%{x}<br>Year=1993<br>count=%{y}<extra></extra>\",\"ids\":[\"War\"],\"legendgroup\":\"War\",\"marker\":{\"color\":\"#B6E880\",\"pattern\":{\"shape\":\"\"}},\"name\":\"War\",\"offsetgroup\":\"War\",\"orientation\":\"v\",\"showlegend\":true,\"textposition\":\"auto\",\"x\":[\"War\"],\"xaxis\":\"x\",\"y\":[1],\"yaxis\":\"y\",\"type\":\"bar\"}],\"name\":\"1993\"},{\"data\":[{\"alignmentgroup\":\"True\",\"hovertemplate\":\"Genre=%{x}<br>Year=1994<br>count=%{y}<extra></extra>\",\"ids\":[\"Action\"],\"legendgroup\":\"Action\",\"marker\":{\"color\":\"#636efa\",\"pattern\":{\"shape\":\"\"}},\"name\":\"Action\",\"offsetgroup\":\"Action\",\"orientation\":\"v\",\"showlegend\":true,\"textposition\":\"auto\",\"x\":[\"Action\"],\"xaxis\":\"x\",\"y\":[32],\"yaxis\":\"y\",\"type\":\"bar\"},{\"alignmentgroup\":\"True\",\"hovertemplate\":\"Genre=%{x}<br>Year=1994<br>count=%{y}<extra></extra>\",\"ids\":[\"Adventure\"],\"legendgroup\":\"Adventure\",\"marker\":{\"color\":\"#EF553B\",\"pattern\":{\"shape\":\"\"}},\"name\":\"Adventure\",\"offsetgroup\":\"Adventure\",\"orientation\":\"v\",\"showlegend\":true,\"textposition\":\"auto\",\"x\":[\"Adventure\"],\"xaxis\":\"x\",\"y\":[8],\"yaxis\":\"y\",\"type\":\"bar\"},{\"alignmentgroup\":\"True\",\"hovertemplate\":\"Genre=%{x}<br>Year=1994<br>count=%{y}<extra></extra>\",\"ids\":[\"Animation\"],\"legendgroup\":\"Animation\",\"marker\":{\"color\":\"#00cc96\",\"pattern\":{\"shape\":\"\"}},\"name\":\"Animation\",\"offsetgroup\":\"Animation\",\"orientation\":\"v\",\"showlegend\":true,\"textposition\":\"auto\",\"x\":[\"Animation\"],\"xaxis\":\"x\",\"y\":[4],\"yaxis\":\"y\",\"type\":\"bar\"},{\"alignmentgroup\":\"True\",\"hovertemplate\":\"Genre=%{x}<br>Year=1994<br>count=%{y}<extra></extra>\",\"ids\":[\"Children's\"],\"legendgroup\":\"Children's\",\"marker\":{\"color\":\"#ab63fa\",\"pattern\":{\"shape\":\"\"}},\"name\":\"Children's\",\"offsetgroup\":\"Children's\",\"orientation\":\"v\",\"showlegend\":true,\"textposition\":\"auto\",\"x\":[\"Children's\"],\"xaxis\":\"x\",\"y\":[9],\"yaxis\":\"y\",\"type\":\"bar\"},{\"alignmentgroup\":\"True\",\"hovertemplate\":\"Genre=%{x}<br>Year=1994<br>count=%{y}<extra></extra>\",\"ids\":[\"Comedy\"],\"legendgroup\":\"Comedy\",\"marker\":{\"color\":\"#FFA15A\",\"pattern\":{\"shape\":\"\"}},\"name\":\"Comedy\",\"offsetgroup\":\"Comedy\",\"orientation\":\"v\",\"showlegend\":true,\"textposition\":\"auto\",\"x\":[\"Comedy\"],\"xaxis\":\"x\",\"y\":[80],\"yaxis\":\"y\",\"type\":\"bar\"},{\"alignmentgroup\":\"True\",\"hovertemplate\":\"Genre=%{x}<br>Year=1994<br>count=%{y}<extra></extra>\",\"ids\":[\"Crime\"],\"legendgroup\":\"Crime\",\"marker\":{\"color\":\"#19d3f3\",\"pattern\":{\"shape\":\"\"}},\"name\":\"Crime\",\"offsetgroup\":\"Crime\",\"orientation\":\"v\",\"showlegend\":true,\"textposition\":\"auto\",\"x\":[\"Crime\"],\"xaxis\":\"x\",\"y\":[7],\"yaxis\":\"y\",\"type\":\"bar\"},{\"alignmentgroup\":\"True\",\"hovertemplate\":\"Genre=%{x}<br>Year=1994<br>count=%{y}<extra></extra>\",\"ids\":[\"Documentary\"],\"legendgroup\":\"Documentary\",\"marker\":{\"color\":\"#FF6692\",\"pattern\":{\"shape\":\"\"}},\"name\":\"Documentary\",\"offsetgroup\":\"Documentary\",\"orientation\":\"v\",\"showlegend\":true,\"textposition\":\"auto\",\"x\":[\"Documentary\"],\"xaxis\":\"x\",\"y\":[11],\"yaxis\":\"y\",\"type\":\"bar\"},{\"alignmentgroup\":\"True\",\"hovertemplate\":\"Genre=%{x}<br>Year=1994<br>count=%{y}<extra></extra>\",\"ids\":[\"Drama\"],\"legendgroup\":\"Drama\",\"marker\":{\"color\":\"#B6E880\",\"pattern\":{\"shape\":\"\"}},\"name\":\"Drama\",\"offsetgroup\":\"Drama\",\"orientation\":\"v\",\"showlegend\":true,\"textposition\":\"auto\",\"x\":[\"Drama\"],\"xaxis\":\"x\",\"y\":[87],\"yaxis\":\"y\",\"type\":\"bar\"},{\"alignmentgroup\":\"True\",\"hovertemplate\":\"Genre=%{x}<br>Year=1994<br>count=%{y}<extra></extra>\",\"ids\":[\"Horror\"],\"legendgroup\":\"Horror\",\"marker\":{\"color\":\"#FF97FF\",\"pattern\":{\"shape\":\"\"}},\"name\":\"Horror\",\"offsetgroup\":\"Horror\",\"orientation\":\"v\",\"showlegend\":true,\"textposition\":\"auto\",\"x\":[\"Horror\"],\"xaxis\":\"x\",\"y\":[7],\"yaxis\":\"y\",\"type\":\"bar\"},{\"alignmentgroup\":\"True\",\"hovertemplate\":\"Genre=%{x}<br>Year=1994<br>count=%{y}<extra></extra>\",\"ids\":[\"Romance\"],\"legendgroup\":\"Romance\",\"marker\":{\"color\":\"#00cc96\",\"pattern\":{\"shape\":\"\"}},\"name\":\"Romance\",\"offsetgroup\":\"Romance\",\"orientation\":\"v\",\"showlegend\":true,\"textposition\":\"auto\",\"x\":[\"Romance\"],\"xaxis\":\"x\",\"y\":[3],\"yaxis\":\"y\",\"type\":\"bar\"},{\"alignmentgroup\":\"True\",\"hovertemplate\":\"Genre=%{x}<br>Year=1994<br>count=%{y}<extra></extra>\",\"ids\":[\"Thriller\"],\"legendgroup\":\"Thriller\",\"marker\":{\"color\":\"#FFA15A\",\"pattern\":{\"shape\":\"\"}},\"name\":\"Thriller\",\"offsetgroup\":\"Thriller\",\"orientation\":\"v\",\"showlegend\":true,\"textposition\":\"auto\",\"x\":[\"Thriller\"],\"xaxis\":\"x\",\"y\":[7],\"yaxis\":\"y\",\"type\":\"bar\"},{\"alignmentgroup\":\"True\",\"hovertemplate\":\"Genre=%{x}<br>Year=1994<br>count=%{y}<extra></extra>\",\"ids\":[\"Western\"],\"legendgroup\":\"Western\",\"marker\":{\"color\":\"#19d3f3\",\"pattern\":{\"shape\":\"\"}},\"name\":\"Western\",\"offsetgroup\":\"Western\",\"orientation\":\"v\",\"showlegend\":true,\"textposition\":\"auto\",\"x\":[\"Western\"],\"xaxis\":\"x\",\"y\":[2],\"yaxis\":\"y\",\"type\":\"bar\"}],\"name\":\"1994\"},{\"data\":[{\"alignmentgroup\":\"True\",\"hovertemplate\":\"Genre=%{x}<br>Year=1995<br>count=%{y}<extra></extra>\",\"ids\":[\"Action\"],\"legendgroup\":\"Action\",\"marker\":{\"color\":\"#636efa\",\"pattern\":{\"shape\":\"\"}},\"name\":\"Action\",\"offsetgroup\":\"Action\",\"orientation\":\"v\",\"showlegend\":true,\"textposition\":\"auto\",\"x\":[\"Action\"],\"xaxis\":\"x\",\"y\":[45],\"yaxis\":\"y\",\"type\":\"bar\"},{\"alignmentgroup\":\"True\",\"hovertemplate\":\"Genre=%{x}<br>Year=1995<br>count=%{y}<extra></extra>\",\"ids\":[\"Adventure\"],\"legendgroup\":\"Adventure\",\"marker\":{\"color\":\"#EF553B\",\"pattern\":{\"shape\":\"\"}},\"name\":\"Adventure\",\"offsetgroup\":\"Adventure\",\"orientation\":\"v\",\"showlegend\":true,\"textposition\":\"auto\",\"x\":[\"Adventure\"],\"xaxis\":\"x\",\"y\":[13],\"yaxis\":\"y\",\"type\":\"bar\"},{\"alignmentgroup\":\"True\",\"hovertemplate\":\"Genre=%{x}<br>Year=1995<br>count=%{y}<extra></extra>\",\"ids\":[\"Animation\"],\"legendgroup\":\"Animation\",\"marker\":{\"color\":\"#00cc96\",\"pattern\":{\"shape\":\"\"}},\"name\":\"Animation\",\"offsetgroup\":\"Animation\",\"orientation\":\"v\",\"showlegend\":true,\"textposition\":\"auto\",\"x\":[\"Animation\"],\"xaxis\":\"x\",\"y\":[8],\"yaxis\":\"y\",\"type\":\"bar\"},{\"alignmentgroup\":\"True\",\"hovertemplate\":\"Genre=%{x}<br>Year=1995<br>count=%{y}<extra></extra>\",\"ids\":[\"Children's\"],\"legendgroup\":\"Children's\",\"marker\":{\"color\":\"#ab63fa\",\"pattern\":{\"shape\":\"\"}},\"name\":\"Children's\",\"offsetgroup\":\"Children's\",\"orientation\":\"v\",\"showlegend\":true,\"textposition\":\"auto\",\"x\":[\"Children's\"],\"xaxis\":\"x\",\"y\":[5],\"yaxis\":\"y\",\"type\":\"bar\"},{\"alignmentgroup\":\"True\",\"hovertemplate\":\"Genre=%{x}<br>Year=1995<br>count=%{y}<extra></extra>\",\"ids\":[\"Comedy\"],\"legendgroup\":\"Comedy\",\"marker\":{\"color\":\"#FFA15A\",\"pattern\":{\"shape\":\"\"}},\"name\":\"Comedy\",\"offsetgroup\":\"Comedy\",\"orientation\":\"v\",\"showlegend\":true,\"textposition\":\"auto\",\"x\":[\"Comedy\"],\"xaxis\":\"x\",\"y\":[79],\"yaxis\":\"y\",\"type\":\"bar\"},{\"alignmentgroup\":\"True\",\"hovertemplate\":\"Genre=%{x}<br>Year=1995<br>count=%{y}<extra></extra>\",\"ids\":[\"Crime\"],\"legendgroup\":\"Crime\",\"marker\":{\"color\":\"#19d3f3\",\"pattern\":{\"shape\":\"\"}},\"name\":\"Crime\",\"offsetgroup\":\"Crime\",\"orientation\":\"v\",\"showlegend\":true,\"textposition\":\"auto\",\"x\":[\"Crime\"],\"xaxis\":\"x\",\"y\":[11],\"yaxis\":\"y\",\"type\":\"bar\"},{\"alignmentgroup\":\"True\",\"hovertemplate\":\"Genre=%{x}<br>Year=1995<br>count=%{y}<extra></extra>\",\"ids\":[\"Documentary\"],\"legendgroup\":\"Documentary\",\"marker\":{\"color\":\"#FF6692\",\"pattern\":{\"shape\":\"\"}},\"name\":\"Documentary\",\"offsetgroup\":\"Documentary\",\"orientation\":\"v\",\"showlegend\":true,\"textposition\":\"auto\",\"x\":[\"Documentary\"],\"xaxis\":\"x\",\"y\":[22],\"yaxis\":\"y\",\"type\":\"bar\"},{\"alignmentgroup\":\"True\",\"hovertemplate\":\"Genre=%{x}<br>Year=1995<br>count=%{y}<extra></extra>\",\"ids\":[\"Drama\"],\"legendgroup\":\"Drama\",\"marker\":{\"color\":\"#B6E880\",\"pattern\":{\"shape\":\"\"}},\"name\":\"Drama\",\"offsetgroup\":\"Drama\",\"orientation\":\"v\",\"showlegend\":true,\"textposition\":\"auto\",\"x\":[\"Drama\"],\"xaxis\":\"x\",\"y\":[118],\"yaxis\":\"y\",\"type\":\"bar\"},{\"alignmentgroup\":\"True\",\"hovertemplate\":\"Genre=%{x}<br>Year=1995<br>count=%{y}<extra></extra>\",\"ids\":[\"Horror\"],\"legendgroup\":\"Horror\",\"marker\":{\"color\":\"#FF97FF\",\"pattern\":{\"shape\":\"\"}},\"name\":\"Horror\",\"offsetgroup\":\"Horror\",\"orientation\":\"v\",\"showlegend\":true,\"textposition\":\"auto\",\"x\":[\"Horror\"],\"xaxis\":\"x\",\"y\":[13],\"yaxis\":\"y\",\"type\":\"bar\"},{\"alignmentgroup\":\"True\",\"hovertemplate\":\"Genre=%{x}<br>Year=1995<br>count=%{y}<extra></extra>\",\"ids\":[\"Mystery\"],\"legendgroup\":\"Mystery\",\"marker\":{\"color\":\"#EF553B\",\"pattern\":{\"shape\":\"\"}},\"name\":\"Mystery\",\"offsetgroup\":\"Mystery\",\"orientation\":\"v\",\"showlegend\":true,\"textposition\":\"auto\",\"x\":[\"Mystery\"],\"xaxis\":\"x\",\"y\":[4],\"yaxis\":\"y\",\"type\":\"bar\"},{\"alignmentgroup\":\"True\",\"hovertemplate\":\"Genre=%{x}<br>Year=1995<br>count=%{y}<extra></extra>\",\"ids\":[\"Romance\"],\"legendgroup\":\"Romance\",\"marker\":{\"color\":\"#00cc96\",\"pattern\":{\"shape\":\"\"}},\"name\":\"Romance\",\"offsetgroup\":\"Romance\",\"orientation\":\"v\",\"showlegend\":true,\"textposition\":\"auto\",\"x\":[\"Romance\"],\"xaxis\":\"x\",\"y\":[5],\"yaxis\":\"y\",\"type\":\"bar\"},{\"alignmentgroup\":\"True\",\"hovertemplate\":\"Genre=%{x}<br>Year=1995<br>count=%{y}<extra></extra>\",\"ids\":[\"Sci-Fi\"],\"legendgroup\":\"Sci-Fi\",\"marker\":{\"color\":\"#ab63fa\",\"pattern\":{\"shape\":\"\"}},\"name\":\"Sci-Fi\",\"offsetgroup\":\"Sci-Fi\",\"orientation\":\"v\",\"showlegend\":true,\"textposition\":\"auto\",\"x\":[\"Sci-Fi\"],\"xaxis\":\"x\",\"y\":[3],\"yaxis\":\"y\",\"type\":\"bar\"},{\"alignmentgroup\":\"True\",\"hovertemplate\":\"Genre=%{x}<br>Year=1995<br>count=%{y}<extra></extra>\",\"ids\":[\"Thriller\"],\"legendgroup\":\"Thriller\",\"marker\":{\"color\":\"#FFA15A\",\"pattern\":{\"shape\":\"\"}},\"name\":\"Thriller\",\"offsetgroup\":\"Thriller\",\"orientation\":\"v\",\"showlegend\":true,\"textposition\":\"auto\",\"x\":[\"Thriller\"],\"xaxis\":\"x\",\"y\":[10],\"yaxis\":\"y\",\"type\":\"bar\"},{\"alignmentgroup\":\"True\",\"hovertemplate\":\"Genre=%{x}<br>Year=1995<br>count=%{y}<extra></extra>\",\"ids\":[\"Western\"],\"legendgroup\":\"Western\",\"marker\":{\"color\":\"#19d3f3\",\"pattern\":{\"shape\":\"\"}},\"name\":\"Western\",\"offsetgroup\":\"Western\",\"orientation\":\"v\",\"showlegend\":true,\"textposition\":\"auto\",\"x\":[\"Western\"],\"xaxis\":\"x\",\"y\":[2],\"yaxis\":\"y\",\"type\":\"bar\"},{\"alignmentgroup\":\"True\",\"hovertemplate\":\"Genre=%{x}<br>Year=1995<br>count=%{y}<extra></extra>\",\"ids\":[\"Musical\"],\"legendgroup\":\"Musical\",\"marker\":{\"color\":\"#FF6692\",\"pattern\":{\"shape\":\"\"}},\"name\":\"Musical\",\"offsetgroup\":\"Musical\",\"orientation\":\"v\",\"showlegend\":true,\"textposition\":\"auto\",\"x\":[\"Musical\"],\"xaxis\":\"x\",\"y\":[1],\"yaxis\":\"y\",\"type\":\"bar\"},{\"alignmentgroup\":\"True\",\"hovertemplate\":\"Genre=%{x}<br>Year=1995<br>count=%{y}<extra></extra>\",\"ids\":[\"War\"],\"legendgroup\":\"War\",\"marker\":{\"color\":\"#B6E880\",\"pattern\":{\"shape\":\"\"}},\"name\":\"War\",\"offsetgroup\":\"War\",\"orientation\":\"v\",\"showlegend\":true,\"textposition\":\"auto\",\"x\":[\"War\"],\"xaxis\":\"x\",\"y\":[3],\"yaxis\":\"y\",\"type\":\"bar\"}],\"name\":\"1995\"},{\"data\":[{\"alignmentgroup\":\"True\",\"hovertemplate\":\"Genre=%{x}<br>Year=1996<br>count=%{y}<extra></extra>\",\"ids\":[\"Action\"],\"legendgroup\":\"Action\",\"marker\":{\"color\":\"#636efa\",\"pattern\":{\"shape\":\"\"}},\"name\":\"Action\",\"offsetgroup\":\"Action\",\"orientation\":\"v\",\"showlegend\":true,\"textposition\":\"auto\",\"x\":[\"Action\"],\"xaxis\":\"x\",\"y\":[37],\"yaxis\":\"y\",\"type\":\"bar\"},{\"alignmentgroup\":\"True\",\"hovertemplate\":\"Genre=%{x}<br>Year=1996<br>count=%{y}<extra></extra>\",\"ids\":[\"Adventure\"],\"legendgroup\":\"Adventure\",\"marker\":{\"color\":\"#EF553B\",\"pattern\":{\"shape\":\"\"}},\"name\":\"Adventure\",\"offsetgroup\":\"Adventure\",\"orientation\":\"v\",\"showlegend\":true,\"textposition\":\"auto\",\"x\":[\"Adventure\"],\"xaxis\":\"x\",\"y\":[10],\"yaxis\":\"y\",\"type\":\"bar\"},{\"alignmentgroup\":\"True\",\"hovertemplate\":\"Genre=%{x}<br>Year=1996<br>count=%{y}<extra></extra>\",\"ids\":[\"Animation\"],\"legendgroup\":\"Animation\",\"marker\":{\"color\":\"#00cc96\",\"pattern\":{\"shape\":\"\"}},\"name\":\"Animation\",\"offsetgroup\":\"Animation\",\"orientation\":\"v\",\"showlegend\":true,\"textposition\":\"auto\",\"x\":[\"Animation\"],\"xaxis\":\"x\",\"y\":[6],\"yaxis\":\"y\",\"type\":\"bar\"},{\"alignmentgroup\":\"True\",\"hovertemplate\":\"Genre=%{x}<br>Year=1996<br>count=%{y}<extra></extra>\",\"ids\":[\"Children's\"],\"legendgroup\":\"Children's\",\"marker\":{\"color\":\"#ab63fa\",\"pattern\":{\"shape\":\"\"}},\"name\":\"Children's\",\"offsetgroup\":\"Children's\",\"orientation\":\"v\",\"showlegend\":true,\"textposition\":\"auto\",\"x\":[\"Children's\"],\"xaxis\":\"x\",\"y\":[8],\"yaxis\":\"y\",\"type\":\"bar\"},{\"alignmentgroup\":\"True\",\"hovertemplate\":\"Genre=%{x}<br>Year=1996<br>count=%{y}<extra></extra>\",\"ids\":[\"Comedy\"],\"legendgroup\":\"Comedy\",\"marker\":{\"color\":\"#FFA15A\",\"pattern\":{\"shape\":\"\"}},\"name\":\"Comedy\",\"offsetgroup\":\"Comedy\",\"orientation\":\"v\",\"showlegend\":true,\"textposition\":\"auto\",\"x\":[\"Comedy\"],\"xaxis\":\"x\",\"y\":[101],\"yaxis\":\"y\",\"type\":\"bar\"},{\"alignmentgroup\":\"True\",\"hovertemplate\":\"Genre=%{x}<br>Year=1996<br>count=%{y}<extra></extra>\",\"ids\":[\"Crime\"],\"legendgroup\":\"Crime\",\"marker\":{\"color\":\"#19d3f3\",\"pattern\":{\"shape\":\"\"}},\"name\":\"Crime\",\"offsetgroup\":\"Crime\",\"orientation\":\"v\",\"showlegend\":true,\"textposition\":\"auto\",\"x\":[\"Crime\"],\"xaxis\":\"x\",\"y\":[18],\"yaxis\":\"y\",\"type\":\"bar\"},{\"alignmentgroup\":\"True\",\"hovertemplate\":\"Genre=%{x}<br>Year=1996<br>count=%{y}<extra></extra>\",\"ids\":[\"Documentary\"],\"legendgroup\":\"Documentary\",\"marker\":{\"color\":\"#FF6692\",\"pattern\":{\"shape\":\"\"}},\"name\":\"Documentary\",\"offsetgroup\":\"Documentary\",\"orientation\":\"v\",\"showlegend\":true,\"textposition\":\"auto\",\"x\":[\"Documentary\"],\"xaxis\":\"x\",\"y\":[19],\"yaxis\":\"y\",\"type\":\"bar\"},{\"alignmentgroup\":\"True\",\"hovertemplate\":\"Genre=%{x}<br>Year=1996<br>count=%{y}<extra></extra>\",\"ids\":[\"Drama\"],\"legendgroup\":\"Drama\",\"marker\":{\"color\":\"#B6E880\",\"pattern\":{\"shape\":\"\"}},\"name\":\"Drama\",\"offsetgroup\":\"Drama\",\"orientation\":\"v\",\"showlegend\":true,\"textposition\":\"auto\",\"x\":[\"Drama\"],\"xaxis\":\"x\",\"y\":[118],\"yaxis\":\"y\",\"type\":\"bar\"},{\"alignmentgroup\":\"True\",\"hovertemplate\":\"Genre=%{x}<br>Year=1996<br>count=%{y}<extra></extra>\",\"ids\":[\"Horror\"],\"legendgroup\":\"Horror\",\"marker\":{\"color\":\"#FF97FF\",\"pattern\":{\"shape\":\"\"}},\"name\":\"Horror\",\"offsetgroup\":\"Horror\",\"orientation\":\"v\",\"showlegend\":true,\"textposition\":\"auto\",\"x\":[\"Horror\"],\"xaxis\":\"x\",\"y\":[7],\"yaxis\":\"y\",\"type\":\"bar\"},{\"alignmentgroup\":\"True\",\"hovertemplate\":\"Genre=%{x}<br>Year=1996<br>count=%{y}<extra></extra>\",\"ids\":[\"Mystery\"],\"legendgroup\":\"Mystery\",\"marker\":{\"color\":\"#EF553B\",\"pattern\":{\"shape\":\"\"}},\"name\":\"Mystery\",\"offsetgroup\":\"Mystery\",\"orientation\":\"v\",\"showlegend\":true,\"textposition\":\"auto\",\"x\":[\"Mystery\"],\"xaxis\":\"x\",\"y\":[2],\"yaxis\":\"y\",\"type\":\"bar\"},{\"alignmentgroup\":\"True\",\"hovertemplate\":\"Genre=%{x}<br>Year=1996<br>count=%{y}<extra></extra>\",\"ids\":[\"Romance\"],\"legendgroup\":\"Romance\",\"marker\":{\"color\":\"#00cc96\",\"pattern\":{\"shape\":\"\"}},\"name\":\"Romance\",\"offsetgroup\":\"Romance\",\"orientation\":\"v\",\"showlegend\":true,\"textposition\":\"auto\",\"x\":[\"Romance\"],\"xaxis\":\"x\",\"y\":[12],\"yaxis\":\"y\",\"type\":\"bar\"},{\"alignmentgroup\":\"True\",\"hovertemplate\":\"Genre=%{x}<br>Year=1996<br>count=%{y}<extra></extra>\",\"ids\":[\"Sci-Fi\"],\"legendgroup\":\"Sci-Fi\",\"marker\":{\"color\":\"#ab63fa\",\"pattern\":{\"shape\":\"\"}},\"name\":\"Sci-Fi\",\"offsetgroup\":\"Sci-Fi\",\"orientation\":\"v\",\"showlegend\":true,\"textposition\":\"auto\",\"x\":[\"Sci-Fi\"],\"xaxis\":\"x\",\"y\":[2],\"yaxis\":\"y\",\"type\":\"bar\"},{\"alignmentgroup\":\"True\",\"hovertemplate\":\"Genre=%{x}<br>Year=1996<br>count=%{y}<extra></extra>\",\"ids\":[\"Thriller\"],\"legendgroup\":\"Thriller\",\"marker\":{\"color\":\"#FFA15A\",\"pattern\":{\"shape\":\"\"}},\"name\":\"Thriller\",\"offsetgroup\":\"Thriller\",\"orientation\":\"v\",\"showlegend\":true,\"textposition\":\"auto\",\"x\":[\"Thriller\"],\"xaxis\":\"x\",\"y\":[4],\"yaxis\":\"y\",\"type\":\"bar\"},{\"alignmentgroup\":\"True\",\"hovertemplate\":\"Genre=%{x}<br>Year=1996<br>count=%{y}<extra></extra>\",\"ids\":[\"War\"],\"legendgroup\":\"War\",\"marker\":{\"color\":\"#B6E880\",\"pattern\":{\"shape\":\"\"}},\"name\":\"War\",\"offsetgroup\":\"War\",\"orientation\":\"v\",\"showlegend\":true,\"textposition\":\"auto\",\"x\":[\"War\"],\"xaxis\":\"x\",\"y\":[1],\"yaxis\":\"y\",\"type\":\"bar\"}],\"name\":\"1996\"},{\"data\":[{\"alignmentgroup\":\"True\",\"hovertemplate\":\"Genre=%{x}<br>Year=1997<br>count=%{y}<extra></extra>\",\"ids\":[\"Action\"],\"legendgroup\":\"Action\",\"marker\":{\"color\":\"#636efa\",\"pattern\":{\"shape\":\"\"}},\"name\":\"Action\",\"offsetgroup\":\"Action\",\"orientation\":\"v\",\"showlegend\":true,\"textposition\":\"auto\",\"x\":[\"Action\"],\"xaxis\":\"x\",\"y\":[43],\"yaxis\":\"y\",\"type\":\"bar\"},{\"alignmentgroup\":\"True\",\"hovertemplate\":\"Genre=%{x}<br>Year=1997<br>count=%{y}<extra></extra>\",\"ids\":[\"Adventure\"],\"legendgroup\":\"Adventure\",\"marker\":{\"color\":\"#EF553B\",\"pattern\":{\"shape\":\"\"}},\"name\":\"Adventure\",\"offsetgroup\":\"Adventure\",\"orientation\":\"v\",\"showlegend\":true,\"textposition\":\"auto\",\"x\":[\"Adventure\"],\"xaxis\":\"x\",\"y\":[10],\"yaxis\":\"y\",\"type\":\"bar\"},{\"alignmentgroup\":\"True\",\"hovertemplate\":\"Genre=%{x}<br>Year=1997<br>count=%{y}<extra></extra>\",\"ids\":[\"Animation\"],\"legendgroup\":\"Animation\",\"marker\":{\"color\":\"#00cc96\",\"pattern\":{\"shape\":\"\"}},\"name\":\"Animation\",\"offsetgroup\":\"Animation\",\"orientation\":\"v\",\"showlegend\":true,\"textposition\":\"auto\",\"x\":[\"Animation\"],\"xaxis\":\"x\",\"y\":[4],\"yaxis\":\"y\",\"type\":\"bar\"},{\"alignmentgroup\":\"True\",\"hovertemplate\":\"Genre=%{x}<br>Year=1997<br>count=%{y}<extra></extra>\",\"ids\":[\"Children's\"],\"legendgroup\":\"Children's\",\"marker\":{\"color\":\"#ab63fa\",\"pattern\":{\"shape\":\"\"}},\"name\":\"Children's\",\"offsetgroup\":\"Children's\",\"orientation\":\"v\",\"showlegend\":true,\"textposition\":\"auto\",\"x\":[\"Children's\"],\"xaxis\":\"x\",\"y\":[11],\"yaxis\":\"y\",\"type\":\"bar\"},{\"alignmentgroup\":\"True\",\"hovertemplate\":\"Genre=%{x}<br>Year=1997<br>count=%{y}<extra></extra>\",\"ids\":[\"Comedy\"],\"legendgroup\":\"Comedy\",\"marker\":{\"color\":\"#FFA15A\",\"pattern\":{\"shape\":\"\"}},\"name\":\"Comedy\",\"offsetgroup\":\"Comedy\",\"orientation\":\"v\",\"showlegend\":true,\"textposition\":\"auto\",\"x\":[\"Comedy\"],\"xaxis\":\"x\",\"y\":[83],\"yaxis\":\"y\",\"type\":\"bar\"},{\"alignmentgroup\":\"True\",\"hovertemplate\":\"Genre=%{x}<br>Year=1997<br>count=%{y}<extra></extra>\",\"ids\":[\"Crime\"],\"legendgroup\":\"Crime\",\"marker\":{\"color\":\"#19d3f3\",\"pattern\":{\"shape\":\"\"}},\"name\":\"Crime\",\"offsetgroup\":\"Crime\",\"orientation\":\"v\",\"showlegend\":true,\"textposition\":\"auto\",\"x\":[\"Crime\"],\"xaxis\":\"x\",\"y\":[17],\"yaxis\":\"y\",\"type\":\"bar\"},{\"alignmentgroup\":\"True\",\"hovertemplate\":\"Genre=%{x}<br>Year=1997<br>count=%{y}<extra></extra>\",\"ids\":[\"Documentary\"],\"legendgroup\":\"Documentary\",\"marker\":{\"color\":\"#FF6692\",\"pattern\":{\"shape\":\"\"}},\"name\":\"Documentary\",\"offsetgroup\":\"Documentary\",\"orientation\":\"v\",\"showlegend\":true,\"textposition\":\"auto\",\"x\":[\"Documentary\"],\"xaxis\":\"x\",\"y\":[10],\"yaxis\":\"y\",\"type\":\"bar\"},{\"alignmentgroup\":\"True\",\"hovertemplate\":\"Genre=%{x}<br>Year=1997<br>count=%{y}<extra></extra>\",\"ids\":[\"Drama\"],\"legendgroup\":\"Drama\",\"marker\":{\"color\":\"#B6E880\",\"pattern\":{\"shape\":\"\"}},\"name\":\"Drama\",\"offsetgroup\":\"Drama\",\"orientation\":\"v\",\"showlegend\":true,\"textposition\":\"auto\",\"x\":[\"Drama\"],\"xaxis\":\"x\",\"y\":[100],\"yaxis\":\"y\",\"type\":\"bar\"},{\"alignmentgroup\":\"True\",\"hovertemplate\":\"Genre=%{x}<br>Year=1997<br>count=%{y}<extra></extra>\",\"ids\":[\"Horror\"],\"legendgroup\":\"Horror\",\"marker\":{\"color\":\"#FF97FF\",\"pattern\":{\"shape\":\"\"}},\"name\":\"Horror\",\"offsetgroup\":\"Horror\",\"orientation\":\"v\",\"showlegend\":true,\"textposition\":\"auto\",\"x\":[\"Horror\"],\"xaxis\":\"x\",\"y\":[7],\"yaxis\":\"y\",\"type\":\"bar\"},{\"alignmentgroup\":\"True\",\"hovertemplate\":\"Genre=%{x}<br>Year=1997<br>count=%{y}<extra></extra>\",\"ids\":[\"Mystery\"],\"legendgroup\":\"Mystery\",\"marker\":{\"color\":\"#EF553B\",\"pattern\":{\"shape\":\"\"}},\"name\":\"Mystery\",\"offsetgroup\":\"Mystery\",\"orientation\":\"v\",\"showlegend\":true,\"textposition\":\"auto\",\"x\":[\"Mystery\"],\"xaxis\":\"x\",\"y\":[4],\"yaxis\":\"y\",\"type\":\"bar\"},{\"alignmentgroup\":\"True\",\"hovertemplate\":\"Genre=%{x}<br>Year=1997<br>count=%{y}<extra></extra>\",\"ids\":[\"Romance\"],\"legendgroup\":\"Romance\",\"marker\":{\"color\":\"#00cc96\",\"pattern\":{\"shape\":\"\"}},\"name\":\"Romance\",\"offsetgroup\":\"Romance\",\"orientation\":\"v\",\"showlegend\":true,\"textposition\":\"auto\",\"x\":[\"Romance\"],\"xaxis\":\"x\",\"y\":[11],\"yaxis\":\"y\",\"type\":\"bar\"},{\"alignmentgroup\":\"True\",\"hovertemplate\":\"Genre=%{x}<br>Year=1997<br>count=%{y}<extra></extra>\",\"ids\":[\"Sci-Fi\"],\"legendgroup\":\"Sci-Fi\",\"marker\":{\"color\":\"#ab63fa\",\"pattern\":{\"shape\":\"\"}},\"name\":\"Sci-Fi\",\"offsetgroup\":\"Sci-Fi\",\"orientation\":\"v\",\"showlegend\":true,\"textposition\":\"auto\",\"x\":[\"Sci-Fi\"],\"xaxis\":\"x\",\"y\":[5],\"yaxis\":\"y\",\"type\":\"bar\"},{\"alignmentgroup\":\"True\",\"hovertemplate\":\"Genre=%{x}<br>Year=1997<br>count=%{y}<extra></extra>\",\"ids\":[\"Thriller\"],\"legendgroup\":\"Thriller\",\"marker\":{\"color\":\"#FFA15A\",\"pattern\":{\"shape\":\"\"}},\"name\":\"Thriller\",\"offsetgroup\":\"Thriller\",\"orientation\":\"v\",\"showlegend\":true,\"textposition\":\"auto\",\"x\":[\"Thriller\"],\"xaxis\":\"x\",\"y\":[10],\"yaxis\":\"y\",\"type\":\"bar\"}],\"name\":\"1997\"},{\"data\":[{\"alignmentgroup\":\"True\",\"hovertemplate\":\"Genre=%{x}<br>Year=1998<br>count=%{y}<extra></extra>\",\"ids\":[\"Action\"],\"legendgroup\":\"Action\",\"marker\":{\"color\":\"#636efa\",\"pattern\":{\"shape\":\"\"}},\"name\":\"Action\",\"offsetgroup\":\"Action\",\"orientation\":\"v\",\"showlegend\":true,\"textposition\":\"auto\",\"x\":[\"Action\"],\"xaxis\":\"x\",\"y\":[44],\"yaxis\":\"y\",\"type\":\"bar\"},{\"alignmentgroup\":\"True\",\"hovertemplate\":\"Genre=%{x}<br>Year=1998<br>count=%{y}<extra></extra>\",\"ids\":[\"Adventure\"],\"legendgroup\":\"Adventure\",\"marker\":{\"color\":\"#EF553B\",\"pattern\":{\"shape\":\"\"}},\"name\":\"Adventure\",\"offsetgroup\":\"Adventure\",\"orientation\":\"v\",\"showlegend\":true,\"textposition\":\"auto\",\"x\":[\"Adventure\"],\"xaxis\":\"x\",\"y\":[8],\"yaxis\":\"y\",\"type\":\"bar\"},{\"alignmentgroup\":\"True\",\"hovertemplate\":\"Genre=%{x}<br>Year=1998<br>count=%{y}<extra></extra>\",\"ids\":[\"Animation\"],\"legendgroup\":\"Animation\",\"marker\":{\"color\":\"#00cc96\",\"pattern\":{\"shape\":\"\"}},\"name\":\"Animation\",\"offsetgroup\":\"Animation\",\"orientation\":\"v\",\"showlegend\":true,\"textposition\":\"auto\",\"x\":[\"Animation\"],\"xaxis\":\"x\",\"y\":[7],\"yaxis\":\"y\",\"type\":\"bar\"},{\"alignmentgroup\":\"True\",\"hovertemplate\":\"Genre=%{x}<br>Year=1998<br>count=%{y}<extra></extra>\",\"ids\":[\"Children's\"],\"legendgroup\":\"Children's\",\"marker\":{\"color\":\"#ab63fa\",\"pattern\":{\"shape\":\"\"}},\"name\":\"Children's\",\"offsetgroup\":\"Children's\",\"orientation\":\"v\",\"showlegend\":true,\"textposition\":\"auto\",\"x\":[\"Children's\"],\"xaxis\":\"x\",\"y\":[7],\"yaxis\":\"y\",\"type\":\"bar\"},{\"alignmentgroup\":\"True\",\"hovertemplate\":\"Genre=%{x}<br>Year=1998<br>count=%{y}<extra></extra>\",\"ids\":[\"Comedy\"],\"legendgroup\":\"Comedy\",\"marker\":{\"color\":\"#FFA15A\",\"pattern\":{\"shape\":\"\"}},\"name\":\"Comedy\",\"offsetgroup\":\"Comedy\",\"orientation\":\"v\",\"showlegend\":true,\"textposition\":\"auto\",\"x\":[\"Comedy\"],\"xaxis\":\"x\",\"y\":[94],\"yaxis\":\"y\",\"type\":\"bar\"},{\"alignmentgroup\":\"True\",\"hovertemplate\":\"Genre=%{x}<br>Year=1998<br>count=%{y}<extra></extra>\",\"ids\":[\"Crime\"],\"legendgroup\":\"Crime\",\"marker\":{\"color\":\"#19d3f3\",\"pattern\":{\"shape\":\"\"}},\"name\":\"Crime\",\"offsetgroup\":\"Crime\",\"orientation\":\"v\",\"showlegend\":true,\"textposition\":\"auto\",\"x\":[\"Crime\"],\"xaxis\":\"x\",\"y\":[15],\"yaxis\":\"y\",\"type\":\"bar\"},{\"alignmentgroup\":\"True\",\"hovertemplate\":\"Genre=%{x}<br>Year=1998<br>count=%{y}<extra></extra>\",\"ids\":[\"Documentary\"],\"legendgroup\":\"Documentary\",\"marker\":{\"color\":\"#FF6692\",\"pattern\":{\"shape\":\"\"}},\"name\":\"Documentary\",\"offsetgroup\":\"Documentary\",\"orientation\":\"v\",\"showlegend\":true,\"textposition\":\"auto\",\"x\":[\"Documentary\"],\"xaxis\":\"x\",\"y\":[18],\"yaxis\":\"y\",\"type\":\"bar\"},{\"alignmentgroup\":\"True\",\"hovertemplate\":\"Genre=%{x}<br>Year=1998<br>count=%{y}<extra></extra>\",\"ids\":[\"Drama\"],\"legendgroup\":\"Drama\",\"marker\":{\"color\":\"#B6E880\",\"pattern\":{\"shape\":\"\"}},\"name\":\"Drama\",\"offsetgroup\":\"Drama\",\"orientation\":\"v\",\"showlegend\":true,\"textposition\":\"auto\",\"x\":[\"Drama\"],\"xaxis\":\"x\",\"y\":[116],\"yaxis\":\"y\",\"type\":\"bar\"},{\"alignmentgroup\":\"True\",\"hovertemplate\":\"Genre=%{x}<br>Year=1998<br>count=%{y}<extra></extra>\",\"ids\":[\"Horror\"],\"legendgroup\":\"Horror\",\"marker\":{\"color\":\"#FF97FF\",\"pattern\":{\"shape\":\"\"}},\"name\":\"Horror\",\"offsetgroup\":\"Horror\",\"orientation\":\"v\",\"showlegend\":true,\"textposition\":\"auto\",\"x\":[\"Horror\"],\"xaxis\":\"x\",\"y\":[12],\"yaxis\":\"y\",\"type\":\"bar\"},{\"alignmentgroup\":\"True\",\"hovertemplate\":\"Genre=%{x}<br>Year=1998<br>count=%{y}<extra></extra>\",\"ids\":[\"Film-Noir\"],\"legendgroup\":\"Film-Noir\",\"marker\":{\"color\":\"#FECB52\",\"pattern\":{\"shape\":\"\"}},\"name\":\"Film-Noir\",\"offsetgroup\":\"Film-Noir\",\"orientation\":\"v\",\"showlegend\":true,\"textposition\":\"auto\",\"x\":[\"Film-Noir\"],\"xaxis\":\"x\",\"y\":[2],\"yaxis\":\"y\",\"type\":\"bar\"},{\"alignmentgroup\":\"True\",\"hovertemplate\":\"Genre=%{x}<br>Year=1998<br>count=%{y}<extra></extra>\",\"ids\":[\"Mystery\"],\"legendgroup\":\"Mystery\",\"marker\":{\"color\":\"#EF553B\",\"pattern\":{\"shape\":\"\"}},\"name\":\"Mystery\",\"offsetgroup\":\"Mystery\",\"orientation\":\"v\",\"showlegend\":true,\"textposition\":\"auto\",\"x\":[\"Mystery\"],\"xaxis\":\"x\",\"y\":[2],\"yaxis\":\"y\",\"type\":\"bar\"},{\"alignmentgroup\":\"True\",\"hovertemplate\":\"Genre=%{x}<br>Year=1998<br>count=%{y}<extra></extra>\",\"ids\":[\"Romance\"],\"legendgroup\":\"Romance\",\"marker\":{\"color\":\"#00cc96\",\"pattern\":{\"shape\":\"\"}},\"name\":\"Romance\",\"offsetgroup\":\"Romance\",\"orientation\":\"v\",\"showlegend\":true,\"textposition\":\"auto\",\"x\":[\"Romance\"],\"xaxis\":\"x\",\"y\":[6],\"yaxis\":\"y\",\"type\":\"bar\"},{\"alignmentgroup\":\"True\",\"hovertemplate\":\"Genre=%{x}<br>Year=1998<br>count=%{y}<extra></extra>\",\"ids\":[\"Sci-Fi\"],\"legendgroup\":\"Sci-Fi\",\"marker\":{\"color\":\"#ab63fa\",\"pattern\":{\"shape\":\"\"}},\"name\":\"Sci-Fi\",\"offsetgroup\":\"Sci-Fi\",\"orientation\":\"v\",\"showlegend\":true,\"textposition\":\"auto\",\"x\":[\"Sci-Fi\"],\"xaxis\":\"x\",\"y\":[1],\"yaxis\":\"y\",\"type\":\"bar\"},{\"alignmentgroup\":\"True\",\"hovertemplate\":\"Genre=%{x}<br>Year=1998<br>count=%{y}<extra></extra>\",\"ids\":[\"Thriller\"],\"legendgroup\":\"Thriller\",\"marker\":{\"color\":\"#FFA15A\",\"pattern\":{\"shape\":\"\"}},\"name\":\"Thriller\",\"offsetgroup\":\"Thriller\",\"orientation\":\"v\",\"showlegend\":true,\"textposition\":\"auto\",\"x\":[\"Thriller\"],\"xaxis\":\"x\",\"y\":[5],\"yaxis\":\"y\",\"type\":\"bar\"}],\"name\":\"1998\"},{\"data\":[{\"alignmentgroup\":\"True\",\"hovertemplate\":\"Genre=%{x}<br>Year=1999<br>count=%{y}<extra></extra>\",\"ids\":[\"Action\"],\"legendgroup\":\"Action\",\"marker\":{\"color\":\"#636efa\",\"pattern\":{\"shape\":\"\"}},\"name\":\"Action\",\"offsetgroup\":\"Action\",\"orientation\":\"v\",\"showlegend\":true,\"textposition\":\"auto\",\"x\":[\"Action\"],\"xaxis\":\"x\",\"y\":[27],\"yaxis\":\"y\",\"type\":\"bar\"},{\"alignmentgroup\":\"True\",\"hovertemplate\":\"Genre=%{x}<br>Year=1999<br>count=%{y}<extra></extra>\",\"ids\":[\"Adventure\"],\"legendgroup\":\"Adventure\",\"marker\":{\"color\":\"#EF553B\",\"pattern\":{\"shape\":\"\"}},\"name\":\"Adventure\",\"offsetgroup\":\"Adventure\",\"orientation\":\"v\",\"showlegend\":true,\"textposition\":\"auto\",\"x\":[\"Adventure\"],\"xaxis\":\"x\",\"y\":[1],\"yaxis\":\"y\",\"type\":\"bar\"},{\"alignmentgroup\":\"True\",\"hovertemplate\":\"Genre=%{x}<br>Year=1999<br>count=%{y}<extra></extra>\",\"ids\":[\"Animation\"],\"legendgroup\":\"Animation\",\"marker\":{\"color\":\"#00cc96\",\"pattern\":{\"shape\":\"\"}},\"name\":\"Animation\",\"offsetgroup\":\"Animation\",\"orientation\":\"v\",\"showlegend\":true,\"textposition\":\"auto\",\"x\":[\"Animation\"],\"xaxis\":\"x\",\"y\":[7],\"yaxis\":\"y\",\"type\":\"bar\"},{\"alignmentgroup\":\"True\",\"hovertemplate\":\"Genre=%{x}<br>Year=1999<br>count=%{y}<extra></extra>\",\"ids\":[\"Children's\"],\"legendgroup\":\"Children's\",\"marker\":{\"color\":\"#ab63fa\",\"pattern\":{\"shape\":\"\"}},\"name\":\"Children's\",\"offsetgroup\":\"Children's\",\"orientation\":\"v\",\"showlegend\":true,\"textposition\":\"auto\",\"x\":[\"Children's\"],\"xaxis\":\"x\",\"y\":[4],\"yaxis\":\"y\",\"type\":\"bar\"},{\"alignmentgroup\":\"True\",\"hovertemplate\":\"Genre=%{x}<br>Year=1999<br>count=%{y}<extra></extra>\",\"ids\":[\"Comedy\"],\"legendgroup\":\"Comedy\",\"marker\":{\"color\":\"#FFA15A\",\"pattern\":{\"shape\":\"\"}},\"name\":\"Comedy\",\"offsetgroup\":\"Comedy\",\"orientation\":\"v\",\"showlegend\":true,\"textposition\":\"auto\",\"x\":[\"Comedy\"],\"xaxis\":\"x\",\"y\":[93],\"yaxis\":\"y\",\"type\":\"bar\"},{\"alignmentgroup\":\"True\",\"hovertemplate\":\"Genre=%{x}<br>Year=1999<br>count=%{y}<extra></extra>\",\"ids\":[\"Crime\"],\"legendgroup\":\"Crime\",\"marker\":{\"color\":\"#19d3f3\",\"pattern\":{\"shape\":\"\"}},\"name\":\"Crime\",\"offsetgroup\":\"Crime\",\"orientation\":\"v\",\"showlegend\":true,\"textposition\":\"auto\",\"x\":[\"Crime\"],\"xaxis\":\"x\",\"y\":[8],\"yaxis\":\"y\",\"type\":\"bar\"},{\"alignmentgroup\":\"True\",\"hovertemplate\":\"Genre=%{x}<br>Year=1999<br>count=%{y}<extra></extra>\",\"ids\":[\"Documentary\"],\"legendgroup\":\"Documentary\",\"marker\":{\"color\":\"#FF6692\",\"pattern\":{\"shape\":\"\"}},\"name\":\"Documentary\",\"offsetgroup\":\"Documentary\",\"orientation\":\"v\",\"showlegend\":true,\"textposition\":\"auto\",\"x\":[\"Documentary\"],\"xaxis\":\"x\",\"y\":[15],\"yaxis\":\"y\",\"type\":\"bar\"},{\"alignmentgroup\":\"True\",\"hovertemplate\":\"Genre=%{x}<br>Year=1999<br>count=%{y}<extra></extra>\",\"ids\":[\"Drama\"],\"legendgroup\":\"Drama\",\"marker\":{\"color\":\"#B6E880\",\"pattern\":{\"shape\":\"\"}},\"name\":\"Drama\",\"offsetgroup\":\"Drama\",\"orientation\":\"v\",\"showlegend\":true,\"textposition\":\"auto\",\"x\":[\"Drama\"],\"xaxis\":\"x\",\"y\":[103],\"yaxis\":\"y\",\"type\":\"bar\"},{\"alignmentgroup\":\"True\",\"hovertemplate\":\"Genre=%{x}<br>Year=1999<br>count=%{y}<extra></extra>\",\"ids\":[\"Horror\"],\"legendgroup\":\"Horror\",\"marker\":{\"color\":\"#FF97FF\",\"pattern\":{\"shape\":\"\"}},\"name\":\"Horror\",\"offsetgroup\":\"Horror\",\"orientation\":\"v\",\"showlegend\":true,\"textposition\":\"auto\",\"x\":[\"Horror\"],\"xaxis\":\"x\",\"y\":[9],\"yaxis\":\"y\",\"type\":\"bar\"},{\"alignmentgroup\":\"True\",\"hovertemplate\":\"Genre=%{x}<br>Year=1999<br>count=%{y}<extra></extra>\",\"ids\":[\"Mystery\"],\"legendgroup\":\"Mystery\",\"marker\":{\"color\":\"#EF553B\",\"pattern\":{\"shape\":\"\"}},\"name\":\"Mystery\",\"offsetgroup\":\"Mystery\",\"orientation\":\"v\",\"showlegend\":true,\"textposition\":\"auto\",\"x\":[\"Mystery\"],\"xaxis\":\"x\",\"y\":[2],\"yaxis\":\"y\",\"type\":\"bar\"},{\"alignmentgroup\":\"True\",\"hovertemplate\":\"Genre=%{x}<br>Year=1999<br>count=%{y}<extra></extra>\",\"ids\":[\"Romance\"],\"legendgroup\":\"Romance\",\"marker\":{\"color\":\"#00cc96\",\"pattern\":{\"shape\":\"\"}},\"name\":\"Romance\",\"offsetgroup\":\"Romance\",\"orientation\":\"v\",\"showlegend\":true,\"textposition\":\"auto\",\"x\":[\"Romance\"],\"xaxis\":\"x\",\"y\":[3],\"yaxis\":\"y\",\"type\":\"bar\"},{\"alignmentgroup\":\"True\",\"hovertemplate\":\"Genre=%{x}<br>Year=1999<br>count=%{y}<extra></extra>\",\"ids\":[\"Sci-Fi\"],\"legendgroup\":\"Sci-Fi\",\"marker\":{\"color\":\"#ab63fa\",\"pattern\":{\"shape\":\"\"}},\"name\":\"Sci-Fi\",\"offsetgroup\":\"Sci-Fi\",\"orientation\":\"v\",\"showlegend\":true,\"textposition\":\"auto\",\"x\":[\"Sci-Fi\"],\"xaxis\":\"x\",\"y\":[1],\"yaxis\":\"y\",\"type\":\"bar\"},{\"alignmentgroup\":\"True\",\"hovertemplate\":\"Genre=%{x}<br>Year=1999<br>count=%{y}<extra></extra>\",\"ids\":[\"Thriller\"],\"legendgroup\":\"Thriller\",\"marker\":{\"color\":\"#FFA15A\",\"pattern\":{\"shape\":\"\"}},\"name\":\"Thriller\",\"offsetgroup\":\"Thriller\",\"orientation\":\"v\",\"showlegend\":true,\"textposition\":\"auto\",\"x\":[\"Thriller\"],\"xaxis\":\"x\",\"y\":[10],\"yaxis\":\"y\",\"type\":\"bar\"}],\"name\":\"1999\"},{\"data\":[{\"alignmentgroup\":\"True\",\"hovertemplate\":\"Genre=%{x}<br>Year=2000<br>count=%{y}<extra></extra>\",\"ids\":[\"Action\"],\"legendgroup\":\"Action\",\"marker\":{\"color\":\"#636efa\",\"pattern\":{\"shape\":\"\"}},\"name\":\"Action\",\"offsetgroup\":\"Action\",\"orientation\":\"v\",\"showlegend\":true,\"textposition\":\"auto\",\"x\":[\"Action\"],\"xaxis\":\"x\",\"y\":[19],\"yaxis\":\"y\",\"type\":\"bar\"},{\"alignmentgroup\":\"True\",\"hovertemplate\":\"Genre=%{x}<br>Year=2000<br>count=%{y}<extra></extra>\",\"ids\":[\"Adventure\"],\"legendgroup\":\"Adventure\",\"marker\":{\"color\":\"#EF553B\",\"pattern\":{\"shape\":\"\"}},\"name\":\"Adventure\",\"offsetgroup\":\"Adventure\",\"orientation\":\"v\",\"showlegend\":true,\"textposition\":\"auto\",\"x\":[\"Adventure\"],\"xaxis\":\"x\",\"y\":[4],\"yaxis\":\"y\",\"type\":\"bar\"},{\"alignmentgroup\":\"True\",\"hovertemplate\":\"Genre=%{x}<br>Year=2000<br>count=%{y}<extra></extra>\",\"ids\":[\"Animation\"],\"legendgroup\":\"Animation\",\"marker\":{\"color\":\"#00cc96\",\"pattern\":{\"shape\":\"\"}},\"name\":\"Animation\",\"offsetgroup\":\"Animation\",\"orientation\":\"v\",\"showlegend\":true,\"textposition\":\"auto\",\"x\":[\"Animation\"],\"xaxis\":\"x\",\"y\":[6],\"yaxis\":\"y\",\"type\":\"bar\"},{\"alignmentgroup\":\"True\",\"hovertemplate\":\"Genre=%{x}<br>Year=2000<br>count=%{y}<extra></extra>\",\"ids\":[\"Children's\"],\"legendgroup\":\"Children's\",\"marker\":{\"color\":\"#ab63fa\",\"pattern\":{\"shape\":\"\"}},\"name\":\"Children's\",\"offsetgroup\":\"Children's\",\"orientation\":\"v\",\"showlegend\":true,\"textposition\":\"auto\",\"x\":[\"Children's\"],\"xaxis\":\"x\",\"y\":[2],\"yaxis\":\"y\",\"type\":\"bar\"},{\"alignmentgroup\":\"True\",\"hovertemplate\":\"Genre=%{x}<br>Year=2000<br>count=%{y}<extra></extra>\",\"ids\":[\"Comedy\"],\"legendgroup\":\"Comedy\",\"marker\":{\"color\":\"#FFA15A\",\"pattern\":{\"shape\":\"\"}},\"name\":\"Comedy\",\"offsetgroup\":\"Comedy\",\"orientation\":\"v\",\"showlegend\":true,\"textposition\":\"auto\",\"x\":[\"Comedy\"],\"xaxis\":\"x\",\"y\":[65],\"yaxis\":\"y\",\"type\":\"bar\"},{\"alignmentgroup\":\"True\",\"hovertemplate\":\"Genre=%{x}<br>Year=2000<br>count=%{y}<extra></extra>\",\"ids\":[\"Crime\"],\"legendgroup\":\"Crime\",\"marker\":{\"color\":\"#19d3f3\",\"pattern\":{\"shape\":\"\"}},\"name\":\"Crime\",\"offsetgroup\":\"Crime\",\"orientation\":\"v\",\"showlegend\":true,\"textposition\":\"auto\",\"x\":[\"Crime\"],\"xaxis\":\"x\",\"y\":[4],\"yaxis\":\"y\",\"type\":\"bar\"},{\"alignmentgroup\":\"True\",\"hovertemplate\":\"Genre=%{x}<br>Year=2000<br>count=%{y}<extra></extra>\",\"ids\":[\"Documentary\"],\"legendgroup\":\"Documentary\",\"marker\":{\"color\":\"#FF6692\",\"pattern\":{\"shape\":\"\"}},\"name\":\"Documentary\",\"offsetgroup\":\"Documentary\",\"orientation\":\"v\",\"showlegend\":true,\"textposition\":\"auto\",\"x\":[\"Documentary\"],\"xaxis\":\"x\",\"y\":[7],\"yaxis\":\"y\",\"type\":\"bar\"},{\"alignmentgroup\":\"True\",\"hovertemplate\":\"Genre=%{x}<br>Year=2000<br>count=%{y}<extra></extra>\",\"ids\":[\"Drama\"],\"legendgroup\":\"Drama\",\"marker\":{\"color\":\"#B6E880\",\"pattern\":{\"shape\":\"\"}},\"name\":\"Drama\",\"offsetgroup\":\"Drama\",\"orientation\":\"v\",\"showlegend\":true,\"textposition\":\"auto\",\"x\":[\"Drama\"],\"xaxis\":\"x\",\"y\":[36],\"yaxis\":\"y\",\"type\":\"bar\"},{\"alignmentgroup\":\"True\",\"hovertemplate\":\"Genre=%{x}<br>Year=2000<br>count=%{y}<extra></extra>\",\"ids\":[\"Horror\"],\"legendgroup\":\"Horror\",\"marker\":{\"color\":\"#FF97FF\",\"pattern\":{\"shape\":\"\"}},\"name\":\"Horror\",\"offsetgroup\":\"Horror\",\"orientation\":\"v\",\"showlegend\":true,\"textposition\":\"auto\",\"x\":[\"Horror\"],\"xaxis\":\"x\",\"y\":[4],\"yaxis\":\"y\",\"type\":\"bar\"},{\"alignmentgroup\":\"True\",\"hovertemplate\":\"Genre=%{x}<br>Year=2000<br>count=%{y}<extra></extra>\",\"ids\":[\"Romance\"],\"legendgroup\":\"Romance\",\"marker\":{\"color\":\"#00cc96\",\"pattern\":{\"shape\":\"\"}},\"name\":\"Romance\",\"offsetgroup\":\"Romance\",\"orientation\":\"v\",\"showlegend\":true,\"textposition\":\"auto\",\"x\":[\"Romance\"],\"xaxis\":\"x\",\"y\":[1],\"yaxis\":\"y\",\"type\":\"bar\"},{\"alignmentgroup\":\"True\",\"hovertemplate\":\"Genre=%{x}<br>Year=2000<br>count=%{y}<extra></extra>\",\"ids\":[\"Sci-Fi\"],\"legendgroup\":\"Sci-Fi\",\"marker\":{\"color\":\"#ab63fa\",\"pattern\":{\"shape\":\"\"}},\"name\":\"Sci-Fi\",\"offsetgroup\":\"Sci-Fi\",\"orientation\":\"v\",\"showlegend\":true,\"textposition\":\"auto\",\"x\":[\"Sci-Fi\"],\"xaxis\":\"x\",\"y\":[2],\"yaxis\":\"y\",\"type\":\"bar\"},{\"alignmentgroup\":\"True\",\"hovertemplate\":\"Genre=%{x}<br>Year=2000<br>count=%{y}<extra></extra>\",\"ids\":[\"Thriller\"],\"legendgroup\":\"Thriller\",\"marker\":{\"color\":\"#FFA15A\",\"pattern\":{\"shape\":\"\"}},\"name\":\"Thriller\",\"offsetgroup\":\"Thriller\",\"orientation\":\"v\",\"showlegend\":true,\"textposition\":\"auto\",\"x\":[\"Thriller\"],\"xaxis\":\"x\",\"y\":[6],\"yaxis\":\"y\",\"type\":\"bar\"}],\"name\":\"2000\"}]);\n",
       "                        }).then(function(){\n",
       "                            \n",
       "var gd = document.getElementById('e062ce97-2249-4b6d-a914-4933ccc213db');\n",
       "var x = new MutationObserver(function (mutations, observer) {{\n",
       "        var display = window.getComputedStyle(gd).display;\n",
       "        if (!display || display === 'none') {{\n",
       "            console.log([gd, 'removed!']);\n",
       "            Plotly.purge(gd);\n",
       "            observer.disconnect();\n",
       "        }}\n",
       "}});\n",
       "\n",
       "// Listen for the removal of the full notebook cells\n",
       "var notebookContainer = gd.closest('#notebook-container');\n",
       "if (notebookContainer) {{\n",
       "    x.observe(notebookContainer, {childList: true});\n",
       "}}\n",
       "\n",
       "// Listen for the clearing of the current output cell\n",
       "var outputEl = gd.closest('.output');\n",
       "if (outputEl) {{\n",
       "    x.observe(outputEl, {childList: true});\n",
       "}}\n",
       "\n",
       "                        })                };                });            </script>        </div>"
      ]
     },
     "metadata": {},
     "output_type": "display_data"
    }
   ],
   "source": [
    "px.bar(df,x=\"Genre\",y=\"count\",color=\"Genre\",animation_group=\"Genre\",animation_frame=\"Year\",range_y=[0,150])"
   ]
  },
  {
   "cell_type": "markdown",
   "id": "1fc27c65",
   "metadata": {},
   "source": [
    "_En conclusion, parece que con el paso del tiempo los gustos hayan sido volubles y que, segun los datos del periodo en examen, el drama sea lo que mas atractivo haya tenido._"
   ]
  },
  {
   "cell_type": "code",
   "execution_count": null,
   "id": "2acfb2da",
   "metadata": {},
   "outputs": [],
   "source": []
  }
 ],
 "metadata": {
  "kernelspec": {
   "display_name": "Python 3 (ipykernel)",
   "language": "python",
   "name": "python3"
  },
  "language_info": {
   "codemirror_mode": {
    "name": "ipython",
    "version": 3
   },
   "file_extension": ".py",
   "mimetype": "text/x-python",
   "name": "python",
   "nbconvert_exporter": "python",
   "pygments_lexer": "ipython3",
   "version": "3.9.16"
  }
 },
 "nbformat": 4,
 "nbformat_minor": 5
}
